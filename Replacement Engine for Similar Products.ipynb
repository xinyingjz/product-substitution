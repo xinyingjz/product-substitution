{
 "cells": [
  {
   "cell_type": "code",
   "execution_count": 1,
   "id": "0fd39289",
   "metadata": {},
   "outputs": [
    {
     "name": "stdout",
     "output_type": "stream",
     "text": [
      "Requirement already satisfied: pandas in ./anaconda3/lib/python3.11/site-packages (1.5.3)\n",
      "Requirement already satisfied: pyarrow in ./anaconda3/lib/python3.11/site-packages (11.0.0)\n",
      "Requirement already satisfied: python-dateutil>=2.8.1 in ./anaconda3/lib/python3.11/site-packages (from pandas) (2.8.2)\n",
      "Requirement already satisfied: pytz>=2020.1 in ./anaconda3/lib/python3.11/site-packages (from pandas) (2022.7)\n",
      "Requirement already satisfied: numpy>=1.21.0 in ./anaconda3/lib/python3.11/site-packages (from pandas) (1.24.4)\n",
      "Requirement already satisfied: six>=1.5 in ./anaconda3/lib/python3.11/site-packages (from python-dateutil>=2.8.1->pandas) (1.16.0)\n",
      "Note: you may need to restart the kernel to use updated packages.\n"
     ]
    }
   ],
   "source": [
    "pip install pandas pyarrow"
   ]
  },
  {
   "cell_type": "code",
   "execution_count": 2,
   "id": "9a8f51fb",
   "metadata": {
    "scrolled": true
   },
   "outputs": [
    {
     "name": "stdout",
     "output_type": "stream",
     "text": [
      "Requirement already satisfied: gensim in ./anaconda3/lib/python3.11/site-packages (4.3.0)\n",
      "Requirement already satisfied: numpy>=1.18.5 in ./anaconda3/lib/python3.11/site-packages (from gensim) (1.24.4)\n",
      "Requirement already satisfied: scipy>=1.7.0 in ./anaconda3/lib/python3.11/site-packages (from gensim) (1.10.1)\n",
      "Requirement already satisfied: smart-open>=1.8.1 in ./anaconda3/lib/python3.11/site-packages (from gensim) (5.2.1)\n",
      "Requirement already satisfied: FuzzyTM>=0.4.0 in ./anaconda3/lib/python3.11/site-packages (from gensim) (2.0.9)\n",
      "Requirement already satisfied: pandas in ./anaconda3/lib/python3.11/site-packages (from FuzzyTM>=0.4.0->gensim) (1.5.3)\n",
      "Requirement already satisfied: pyfume in ./anaconda3/lib/python3.11/site-packages (from FuzzyTM>=0.4.0->gensim) (0.3.4)\n",
      "Requirement already satisfied: python-dateutil>=2.8.1 in ./anaconda3/lib/python3.11/site-packages (from pandas->FuzzyTM>=0.4.0->gensim) (2.8.2)\n",
      "Requirement already satisfied: pytz>=2020.1 in ./anaconda3/lib/python3.11/site-packages (from pandas->FuzzyTM>=0.4.0->gensim) (2022.7)\n",
      "Requirement already satisfied: simpful==2.12.0 in ./anaconda3/lib/python3.11/site-packages (from pyfume->FuzzyTM>=0.4.0->gensim) (2.12.0)\n",
      "Requirement already satisfied: fst-pso==1.8.1 in ./anaconda3/lib/python3.11/site-packages (from pyfume->FuzzyTM>=0.4.0->gensim) (1.8.1)\n",
      "Requirement already satisfied: miniful in ./anaconda3/lib/python3.11/site-packages (from fst-pso==1.8.1->pyfume->FuzzyTM>=0.4.0->gensim) (0.0.6)\n",
      "Requirement already satisfied: six>=1.5 in ./anaconda3/lib/python3.11/site-packages (from python-dateutil>=2.8.1->pandas->FuzzyTM>=0.4.0->gensim) (1.16.0)\n",
      "Note: you may need to restart the kernel to use updated packages.\n"
     ]
    }
   ],
   "source": [
    "pip install gensim"
   ]
  },
  {
   "cell_type": "code",
   "execution_count": 3,
   "id": "9ee344be",
   "metadata": {},
   "outputs": [
    {
     "name": "stdout",
     "output_type": "stream",
     "text": [
      "Requirement already satisfied: sentence-transformers in ./anaconda3/lib/python3.11/site-packages (3.0.0)\n",
      "Requirement already satisfied: transformers<5.0.0,>=4.34.0 in ./anaconda3/lib/python3.11/site-packages (from sentence-transformers) (4.37.2)\n",
      "Requirement already satisfied: tqdm in ./anaconda3/lib/python3.11/site-packages (from sentence-transformers) (4.65.0)\n",
      "Requirement already satisfied: torch>=1.11.0 in ./anaconda3/lib/python3.11/site-packages (from sentence-transformers) (2.2.0)\n",
      "Requirement already satisfied: numpy in ./anaconda3/lib/python3.11/site-packages (from sentence-transformers) (1.24.4)\n",
      "Requirement already satisfied: scikit-learn in ./anaconda3/lib/python3.11/site-packages (from sentence-transformers) (1.5.0)\n",
      "Requirement already satisfied: scipy in ./anaconda3/lib/python3.11/site-packages (from sentence-transformers) (1.10.1)\n",
      "Requirement already satisfied: huggingface-hub>=0.15.1 in ./anaconda3/lib/python3.11/site-packages (from sentence-transformers) (0.20.3)\n",
      "Requirement already satisfied: Pillow in ./anaconda3/lib/python3.11/site-packages (from sentence-transformers) (9.4.0)\n",
      "Requirement already satisfied: filelock in ./anaconda3/lib/python3.11/site-packages (from huggingface-hub>=0.15.1->sentence-transformers) (3.9.0)\n",
      "Requirement already satisfied: fsspec>=2023.5.0 in ./anaconda3/lib/python3.11/site-packages (from huggingface-hub>=0.15.1->sentence-transformers) (2023.12.2)\n",
      "Requirement already satisfied: requests in ./anaconda3/lib/python3.11/site-packages (from huggingface-hub>=0.15.1->sentence-transformers) (2.31.0)\n",
      "Requirement already satisfied: pyyaml>=5.1 in ./anaconda3/lib/python3.11/site-packages (from huggingface-hub>=0.15.1->sentence-transformers) (6.0)\n",
      "Requirement already satisfied: typing-extensions>=3.7.4.3 in ./anaconda3/lib/python3.11/site-packages (from huggingface-hub>=0.15.1->sentence-transformers) (4.9.0)\n",
      "Requirement already satisfied: packaging>=20.9 in ./anaconda3/lib/python3.11/site-packages (from huggingface-hub>=0.15.1->sentence-transformers) (23.0)\n",
      "Requirement already satisfied: sympy in ./anaconda3/lib/python3.11/site-packages (from torch>=1.11.0->sentence-transformers) (1.11.1)\n",
      "Requirement already satisfied: networkx in ./anaconda3/lib/python3.11/site-packages (from torch>=1.11.0->sentence-transformers) (3.1)\n",
      "Requirement already satisfied: jinja2 in ./anaconda3/lib/python3.11/site-packages (from torch>=1.11.0->sentence-transformers) (3.1.2)\n",
      "Requirement already satisfied: regex!=2019.12.17 in ./anaconda3/lib/python3.11/site-packages (from transformers<5.0.0,>=4.34.0->sentence-transformers) (2022.7.9)\n",
      "Requirement already satisfied: tokenizers<0.19,>=0.14 in ./anaconda3/lib/python3.11/site-packages (from transformers<5.0.0,>=4.34.0->sentence-transformers) (0.15.1)\n",
      "Requirement already satisfied: safetensors>=0.4.1 in ./anaconda3/lib/python3.11/site-packages (from transformers<5.0.0,>=4.34.0->sentence-transformers) (0.4.2)\n",
      "Requirement already satisfied: joblib>=1.2.0 in ./anaconda3/lib/python3.11/site-packages (from scikit-learn->sentence-transformers) (1.2.0)\n",
      "Requirement already satisfied: threadpoolctl>=3.1.0 in ./anaconda3/lib/python3.11/site-packages (from scikit-learn->sentence-transformers) (3.5.0)\n",
      "Requirement already satisfied: MarkupSafe>=2.0 in ./anaconda3/lib/python3.11/site-packages (from jinja2->torch>=1.11.0->sentence-transformers) (2.1.1)\n",
      "Requirement already satisfied: charset-normalizer<4,>=2 in ./anaconda3/lib/python3.11/site-packages (from requests->huggingface-hub>=0.15.1->sentence-transformers) (2.0.4)\n",
      "Requirement already satisfied: idna<4,>=2.5 in ./anaconda3/lib/python3.11/site-packages (from requests->huggingface-hub>=0.15.1->sentence-transformers) (2.10)\n",
      "Requirement already satisfied: urllib3<3,>=1.21.1 in ./anaconda3/lib/python3.11/site-packages (from requests->huggingface-hub>=0.15.1->sentence-transformers) (1.26.16)\n",
      "Requirement already satisfied: certifi>=2017.4.17 in ./anaconda3/lib/python3.11/site-packages (from requests->huggingface-hub>=0.15.1->sentence-transformers) (2023.7.22)\n",
      "Requirement already satisfied: mpmath>=0.19 in ./anaconda3/lib/python3.11/site-packages (from sympy->torch>=1.11.0->sentence-transformers) (1.3.0)\n",
      "Note: you may need to restart the kernel to use updated packages.\n"
     ]
    }
   ],
   "source": [
    "pip install sentence-transformers"
   ]
  },
  {
   "cell_type": "code",
   "execution_count": 4,
   "id": "f9cfbfdb",
   "metadata": {},
   "outputs": [
    {
     "name": "stdout",
     "output_type": "stream",
     "text": [
      "Requirement already satisfied: spacy in ./anaconda3/lib/python3.11/site-packages (3.7.4)\n",
      "Requirement already satisfied: spacy-legacy<3.1.0,>=3.0.11 in ./anaconda3/lib/python3.11/site-packages (from spacy) (3.0.12)\n",
      "Requirement already satisfied: spacy-loggers<2.0.0,>=1.0.0 in ./anaconda3/lib/python3.11/site-packages (from spacy) (1.0.5)\n",
      "Requirement already satisfied: murmurhash<1.1.0,>=0.28.0 in ./anaconda3/lib/python3.11/site-packages (from spacy) (1.0.10)\n",
      "Requirement already satisfied: cymem<2.1.0,>=2.0.2 in ./anaconda3/lib/python3.11/site-packages (from spacy) (2.0.8)\n",
      "Requirement already satisfied: preshed<3.1.0,>=3.0.2 in ./anaconda3/lib/python3.11/site-packages (from spacy) (3.0.9)\n",
      "Requirement already satisfied: thinc<8.3.0,>=8.2.2 in ./anaconda3/lib/python3.11/site-packages (from spacy) (8.2.3)\n",
      "Requirement already satisfied: wasabi<1.2.0,>=0.9.1 in ./anaconda3/lib/python3.11/site-packages (from spacy) (1.1.2)\n",
      "Requirement already satisfied: srsly<3.0.0,>=2.4.3 in ./anaconda3/lib/python3.11/site-packages (from spacy) (2.4.8)\n",
      "Requirement already satisfied: catalogue<2.1.0,>=2.0.6 in ./anaconda3/lib/python3.11/site-packages (from spacy) (2.0.10)\n",
      "Requirement already satisfied: weasel<0.4.0,>=0.1.0 in ./anaconda3/lib/python3.11/site-packages (from spacy) (0.3.4)\n",
      "Requirement already satisfied: typer<0.10.0,>=0.3.0 in ./anaconda3/lib/python3.11/site-packages (from spacy) (0.9.4)\n",
      "Requirement already satisfied: smart-open<7.0.0,>=5.2.1 in ./anaconda3/lib/python3.11/site-packages (from spacy) (5.2.1)\n",
      "Requirement already satisfied: tqdm<5.0.0,>=4.38.0 in ./anaconda3/lib/python3.11/site-packages (from spacy) (4.65.0)\n",
      "Requirement already satisfied: requests<3.0.0,>=2.13.0 in ./anaconda3/lib/python3.11/site-packages (from spacy) (2.31.0)\n",
      "Requirement already satisfied: pydantic!=1.8,!=1.8.1,<3.0.0,>=1.7.4 in ./anaconda3/lib/python3.11/site-packages (from spacy) (2.7.1)\n",
      "Requirement already satisfied: jinja2 in ./anaconda3/lib/python3.11/site-packages (from spacy) (3.1.2)\n",
      "Requirement already satisfied: setuptools in ./anaconda3/lib/python3.11/site-packages (from spacy) (68.0.0)\n",
      "Requirement already satisfied: packaging>=20.0 in ./anaconda3/lib/python3.11/site-packages (from spacy) (23.0)\n",
      "Requirement already satisfied: langcodes<4.0.0,>=3.2.0 in ./anaconda3/lib/python3.11/site-packages (from spacy) (3.4.0)\n",
      "Requirement already satisfied: numpy>=1.19.0 in ./anaconda3/lib/python3.11/site-packages (from spacy) (1.24.4)\n",
      "Requirement already satisfied: language-data>=1.2 in ./anaconda3/lib/python3.11/site-packages (from langcodes<4.0.0,>=3.2.0->spacy) (1.2.0)\n",
      "Requirement already satisfied: annotated-types>=0.4.0 in ./anaconda3/lib/python3.11/site-packages (from pydantic!=1.8,!=1.8.1,<3.0.0,>=1.7.4->spacy) (0.7.0)\n",
      "Requirement already satisfied: pydantic-core==2.18.2 in ./anaconda3/lib/python3.11/site-packages (from pydantic!=1.8,!=1.8.1,<3.0.0,>=1.7.4->spacy) (2.18.2)\n",
      "Requirement already satisfied: typing-extensions>=4.6.1 in ./anaconda3/lib/python3.11/site-packages (from pydantic!=1.8,!=1.8.1,<3.0.0,>=1.7.4->spacy) (4.9.0)\n",
      "Requirement already satisfied: charset-normalizer<4,>=2 in ./anaconda3/lib/python3.11/site-packages (from requests<3.0.0,>=2.13.0->spacy) (2.0.4)\n",
      "Requirement already satisfied: idna<4,>=2.5 in ./anaconda3/lib/python3.11/site-packages (from requests<3.0.0,>=2.13.0->spacy) (2.10)\n",
      "Requirement already satisfied: urllib3<3,>=1.21.1 in ./anaconda3/lib/python3.11/site-packages (from requests<3.0.0,>=2.13.0->spacy) (1.26.16)\n",
      "Requirement already satisfied: certifi>=2017.4.17 in ./anaconda3/lib/python3.11/site-packages (from requests<3.0.0,>=2.13.0->spacy) (2023.7.22)\n",
      "Requirement already satisfied: blis<0.8.0,>=0.7.8 in ./anaconda3/lib/python3.11/site-packages (from thinc<8.3.0,>=8.2.2->spacy) (0.7.11)\n",
      "Requirement already satisfied: confection<1.0.0,>=0.0.1 in ./anaconda3/lib/python3.11/site-packages (from thinc<8.3.0,>=8.2.2->spacy) (0.1.4)\n",
      "Requirement already satisfied: click<9.0.0,>=7.1.1 in ./anaconda3/lib/python3.11/site-packages (from typer<0.10.0,>=0.3.0->spacy) (8.0.4)\n",
      "Requirement already satisfied: cloudpathlib<0.17.0,>=0.7.0 in ./anaconda3/lib/python3.11/site-packages (from weasel<0.4.0,>=0.1.0->spacy) (0.16.0)\n",
      "Requirement already satisfied: MarkupSafe>=2.0 in ./anaconda3/lib/python3.11/site-packages (from jinja2->spacy) (2.1.1)\n",
      "Requirement already satisfied: marisa-trie>=0.7.7 in ./anaconda3/lib/python3.11/site-packages (from language-data>=1.2->langcodes<4.0.0,>=3.2.0->spacy) (1.1.1)\n",
      "Note: you may need to restart the kernel to use updated packages.\n"
     ]
    }
   ],
   "source": [
    "pip install spacy"
   ]
  },
  {
   "cell_type": "code",
   "execution_count": 5,
   "id": "85575a04",
   "metadata": {},
   "outputs": [
    {
     "name": "stderr",
     "output_type": "stream",
     "text": [
      "2024-08-17 16:54:03.458097: I tensorflow/core/platform/cpu_feature_guard.cc:210] This TensorFlow binary is optimized to use available CPU instructions in performance-critical operations.\n",
      "To enable the following instructions: AVX2 AVX512F AVX512_VNNI FMA, in other operations, rebuild TensorFlow with the appropriate compiler flags.\n"
     ]
    }
   ],
   "source": [
    "from sklearn.preprocessing import MinMaxScaler, OneHotEncoder, LabelEncoder\n",
    "from sklearn.model_selection import train_test_split\n",
    "from sklearn.decomposition import PCA\n",
    "from sklearn.compose import make_column_selector\n",
    "from tensorflow.keras.models import Sequential\n",
    "from tensorflow.keras.models import Model\n",
    "from tensorflow.keras.layers import Input, Dense, Dropout, Embedding, Flatten, Concatenate \n",
    "from tensorflow.keras.optimizers import Adam\n",
    "from tensorflow.keras.utils import to_categorical\n",
    "from sklearn.metrics import classification_report, confusion_matrix \n",
    "from sklearn.metrics import accuracy_score\n",
    "from sklearn.metrics import silhouette_score\n",
    "from sklearn.utils import shuffle\n",
    "from sklearn.feature_extraction.text import TfidfVectorizer\n",
    "from sklearn.metrics.pairwise import cosine_similarity\n",
    "from sklearn.cluster import KMeans\n",
    "from sklearn.ensemble import RandomForestClassifier\n",
    "from googletrans import Translator, LANGUAGES\n",
    "from scipy.sparse import csr_matrix\n",
    "from transformers import BertModel, BertTokenizer\n",
    "from scipy.stats import shapiro, f_oneway, kruskal\n",
    "from sklearn.metrics import mean_squared_error\n",
    "from math import sqrt\n",
    "import torch\n",
    "import gensim\n",
    "import networkx as nx\n",
    "from itertools import combinations\n",
    "from gensim.models import Word2Vec\n",
    "from gensim.utils import simple_preprocess\n",
    "from sentence_transformers import SentenceTransformer\n",
    "import pandas as pd\n",
    "import deepl\n",
    "import numpy as np\n",
    "import seaborn as sns\n",
    "import re\n",
    "import spacy\n",
    "import tensorflow as tf\n",
    "import unicodedata\n",
    "import matplotlib.pyplot as plt"
   ]
  },
  {
   "cell_type": "code",
   "execution_count": 6,
   "id": "dcf73ec1",
   "metadata": {},
   "outputs": [
    {
     "name": "stdout",
     "output_type": "stream",
     "text": [
      "Collecting en-core-web-sm==3.7.1\n",
      "  Downloading https://github.com/explosion/spacy-models/releases/download/en_core_web_sm-3.7.1/en_core_web_sm-3.7.1-py3-none-any.whl (12.8 MB)\n",
      "\u001b[2K     \u001b[90m━━━━━━━━━━━━━━━━━━━━━━━━━━━━━━━━━━━━━━━━\u001b[0m \u001b[32m12.8/12.8 MB\u001b[0m \u001b[31m6.4 MB/s\u001b[0m eta \u001b[36m0:00:00\u001b[0m00:01\u001b[0m00:01\u001b[0m\n",
      "\u001b[?25hRequirement already satisfied: spacy<3.8.0,>=3.7.2 in ./anaconda3/lib/python3.11/site-packages (from en-core-web-sm==3.7.1) (3.7.4)\n",
      "Requirement already satisfied: spacy-legacy<3.1.0,>=3.0.11 in ./anaconda3/lib/python3.11/site-packages (from spacy<3.8.0,>=3.7.2->en-core-web-sm==3.7.1) (3.0.12)\n",
      "Requirement already satisfied: spacy-loggers<2.0.0,>=1.0.0 in ./anaconda3/lib/python3.11/site-packages (from spacy<3.8.0,>=3.7.2->en-core-web-sm==3.7.1) (1.0.5)\n",
      "Requirement already satisfied: murmurhash<1.1.0,>=0.28.0 in ./anaconda3/lib/python3.11/site-packages (from spacy<3.8.0,>=3.7.2->en-core-web-sm==3.7.1) (1.0.10)\n",
      "Requirement already satisfied: cymem<2.1.0,>=2.0.2 in ./anaconda3/lib/python3.11/site-packages (from spacy<3.8.0,>=3.7.2->en-core-web-sm==3.7.1) (2.0.8)\n",
      "Requirement already satisfied: preshed<3.1.0,>=3.0.2 in ./anaconda3/lib/python3.11/site-packages (from spacy<3.8.0,>=3.7.2->en-core-web-sm==3.7.1) (3.0.9)\n",
      "Requirement already satisfied: thinc<8.3.0,>=8.2.2 in ./anaconda3/lib/python3.11/site-packages (from spacy<3.8.0,>=3.7.2->en-core-web-sm==3.7.1) (8.2.3)\n",
      "Requirement already satisfied: wasabi<1.2.0,>=0.9.1 in ./anaconda3/lib/python3.11/site-packages (from spacy<3.8.0,>=3.7.2->en-core-web-sm==3.7.1) (1.1.2)\n",
      "Requirement already satisfied: srsly<3.0.0,>=2.4.3 in ./anaconda3/lib/python3.11/site-packages (from spacy<3.8.0,>=3.7.2->en-core-web-sm==3.7.1) (2.4.8)\n",
      "Requirement already satisfied: catalogue<2.1.0,>=2.0.6 in ./anaconda3/lib/python3.11/site-packages (from spacy<3.8.0,>=3.7.2->en-core-web-sm==3.7.1) (2.0.10)\n",
      "Requirement already satisfied: weasel<0.4.0,>=0.1.0 in ./anaconda3/lib/python3.11/site-packages (from spacy<3.8.0,>=3.7.2->en-core-web-sm==3.7.1) (0.3.4)\n",
      "Requirement already satisfied: typer<0.10.0,>=0.3.0 in ./anaconda3/lib/python3.11/site-packages (from spacy<3.8.0,>=3.7.2->en-core-web-sm==3.7.1) (0.9.4)\n",
      "Requirement already satisfied: smart-open<7.0.0,>=5.2.1 in ./anaconda3/lib/python3.11/site-packages (from spacy<3.8.0,>=3.7.2->en-core-web-sm==3.7.1) (5.2.1)\n",
      "Requirement already satisfied: tqdm<5.0.0,>=4.38.0 in ./anaconda3/lib/python3.11/site-packages (from spacy<3.8.0,>=3.7.2->en-core-web-sm==3.7.1) (4.65.0)\n",
      "Requirement already satisfied: requests<3.0.0,>=2.13.0 in ./anaconda3/lib/python3.11/site-packages (from spacy<3.8.0,>=3.7.2->en-core-web-sm==3.7.1) (2.31.0)\n",
      "Requirement already satisfied: pydantic!=1.8,!=1.8.1,<3.0.0,>=1.7.4 in ./anaconda3/lib/python3.11/site-packages (from spacy<3.8.0,>=3.7.2->en-core-web-sm==3.7.1) (2.7.1)\n",
      "Requirement already satisfied: jinja2 in ./anaconda3/lib/python3.11/site-packages (from spacy<3.8.0,>=3.7.2->en-core-web-sm==3.7.1) (3.1.2)\n",
      "Requirement already satisfied: setuptools in ./anaconda3/lib/python3.11/site-packages (from spacy<3.8.0,>=3.7.2->en-core-web-sm==3.7.1) (68.0.0)\n",
      "Requirement already satisfied: packaging>=20.0 in ./anaconda3/lib/python3.11/site-packages (from spacy<3.8.0,>=3.7.2->en-core-web-sm==3.7.1) (23.0)\n",
      "Requirement already satisfied: langcodes<4.0.0,>=3.2.0 in ./anaconda3/lib/python3.11/site-packages (from spacy<3.8.0,>=3.7.2->en-core-web-sm==3.7.1) (3.4.0)\n",
      "Requirement already satisfied: numpy>=1.19.0 in ./anaconda3/lib/python3.11/site-packages (from spacy<3.8.0,>=3.7.2->en-core-web-sm==3.7.1) (1.24.4)\n",
      "Requirement already satisfied: language-data>=1.2 in ./anaconda3/lib/python3.11/site-packages (from langcodes<4.0.0,>=3.2.0->spacy<3.8.0,>=3.7.2->en-core-web-sm==3.7.1) (1.2.0)\n",
      "Requirement already satisfied: annotated-types>=0.4.0 in ./anaconda3/lib/python3.11/site-packages (from pydantic!=1.8,!=1.8.1,<3.0.0,>=1.7.4->spacy<3.8.0,>=3.7.2->en-core-web-sm==3.7.1) (0.7.0)\n",
      "Requirement already satisfied: pydantic-core==2.18.2 in ./anaconda3/lib/python3.11/site-packages (from pydantic!=1.8,!=1.8.1,<3.0.0,>=1.7.4->spacy<3.8.0,>=3.7.2->en-core-web-sm==3.7.1) (2.18.2)\n",
      "Requirement already satisfied: typing-extensions>=4.6.1 in ./anaconda3/lib/python3.11/site-packages (from pydantic!=1.8,!=1.8.1,<3.0.0,>=1.7.4->spacy<3.8.0,>=3.7.2->en-core-web-sm==3.7.1) (4.9.0)\n",
      "Requirement already satisfied: charset-normalizer<4,>=2 in ./anaconda3/lib/python3.11/site-packages (from requests<3.0.0,>=2.13.0->spacy<3.8.0,>=3.7.2->en-core-web-sm==3.7.1) (2.0.4)\n",
      "Requirement already satisfied: idna<4,>=2.5 in ./anaconda3/lib/python3.11/site-packages (from requests<3.0.0,>=2.13.0->spacy<3.8.0,>=3.7.2->en-core-web-sm==3.7.1) (2.10)\n",
      "Requirement already satisfied: urllib3<3,>=1.21.1 in ./anaconda3/lib/python3.11/site-packages (from requests<3.0.0,>=2.13.0->spacy<3.8.0,>=3.7.2->en-core-web-sm==3.7.1) (1.26.16)\n",
      "Requirement already satisfied: certifi>=2017.4.17 in ./anaconda3/lib/python3.11/site-packages (from requests<3.0.0,>=2.13.0->spacy<3.8.0,>=3.7.2->en-core-web-sm==3.7.1) (2023.7.22)\n",
      "Requirement already satisfied: blis<0.8.0,>=0.7.8 in ./anaconda3/lib/python3.11/site-packages (from thinc<8.3.0,>=8.2.2->spacy<3.8.0,>=3.7.2->en-core-web-sm==3.7.1) (0.7.11)\n",
      "Requirement already satisfied: confection<1.0.0,>=0.0.1 in ./anaconda3/lib/python3.11/site-packages (from thinc<8.3.0,>=8.2.2->spacy<3.8.0,>=3.7.2->en-core-web-sm==3.7.1) (0.1.4)\n",
      "Requirement already satisfied: click<9.0.0,>=7.1.1 in ./anaconda3/lib/python3.11/site-packages (from typer<0.10.0,>=0.3.0->spacy<3.8.0,>=3.7.2->en-core-web-sm==3.7.1) (8.0.4)\n",
      "Requirement already satisfied: cloudpathlib<0.17.0,>=0.7.0 in ./anaconda3/lib/python3.11/site-packages (from weasel<0.4.0,>=0.1.0->spacy<3.8.0,>=3.7.2->en-core-web-sm==3.7.1) (0.16.0)\n",
      "Requirement already satisfied: MarkupSafe>=2.0 in ./anaconda3/lib/python3.11/site-packages (from jinja2->spacy<3.8.0,>=3.7.2->en-core-web-sm==3.7.1) (2.1.1)\n",
      "Requirement already satisfied: marisa-trie>=0.7.7 in ./anaconda3/lib/python3.11/site-packages (from language-data>=1.2->langcodes<4.0.0,>=3.2.0->spacy<3.8.0,>=3.7.2->en-core-web-sm==3.7.1) (1.1.1)\n",
      "\u001b[38;5;2m✔ Download and installation successful\u001b[0m\n",
      "You can now load the package via spacy.load('en_core_web_sm')\n"
     ]
    }
   ],
   "source": [
    "!python -m spacy download en_core_web_sm"
   ]
  },
  {
   "cell_type": "code",
   "execution_count": 7,
   "id": "c2ac4643",
   "metadata": {},
   "outputs": [
    {
     "name": "stdout",
     "output_type": "stream",
     "text": [
      "  product_external_id p_country_date        store_name  store_name_grouped  \\\n",
      "0              292092             ES  Supermercado DIA                 NaN   \n",
      "1                 101             ES  Supermercado DIA                 NaN   \n",
      "2              197503             ES  Supermercado DIA                 NaN   \n",
      "3              279225             ES  Supermercado DIA                 NaN   \n",
      "4              189160             ES  Supermercado DIA                 NaN   \n",
      "\n",
      "                                        product_name  product_description  \\\n",
      "0  Queso De Oveja Curado Insólito El Cencerro 200...                  NaN   \n",
      "1        Aceite Refinado de Girasol Dia Botella 1 L.                  NaN   \n",
      "2           Levadura En Polvo Delimagic Sobre 90 Gr.                  NaN   \n",
      "3   Licor de Mora sin Alcohol Soñador Botella 70 Cl.                  NaN   \n",
      "4       Caldo Casero de Verduras Gallina Blanca 1 L.                  NaN   \n",
      "\n",
      "   product_price                                  product_image_url  \\\n",
      "0           3.66  https://images.deliveryhero.io/image/global-ca...   \n",
      "1           1.53  https://images.deliveryhero.io/image/global-ca...   \n",
      "2           0.81  https://images.deliveryhero.io/image/global-ca...   \n",
      "3           2.55  https://images.deliveryhero.io/image/global-ca...   \n",
      "4           2.39  https://images.deliveryhero.io/image/global-ca...   \n",
      "\n",
      "                         groups_collections_sections  \\\n",
      "0  [[1, [['Huevos y Lácteos', None, 15038, 'e19cf...   \n",
      "1  [[1, [['Despensa', None, 15120, '230a3305-6da7...   \n",
      "2  [[1, [['Despensa', None, 15120, '230a3305-6da7...   \n",
      "3  [[1, [['Cervezas, Destilados y Vinos', None, 1...   \n",
      "4  [[1, [['Despensa', None, 15120, '230a3305-6da7...   \n",
      "\n",
      "        product_master_code  \\\n",
      "0  6579bd2fc8e2245b73e99fb2   \n",
      "1  65525334e2bbfd215f410ae2   \n",
      "2  656628e878313924cbbce36d   \n",
      "3  6567481e7d628aebbc57baa9   \n",
      "4  64ba3d30023801b0a39aa217   \n",
      "\n",
      "                               master_category_names  product_is_active  \\\n",
      "0         Dairy / Chilled / Eggs_Dairy / Eggs_Cheese              False   \n",
      "1  Packaged Foods_Cooking / Condiments / Baking /...               True   \n",
      "2  Packaged Foods_Cooking / Condiments / Baking /...              False   \n",
      "3                      Bws_Spirits_Liqueurs / Creams              False   \n",
      "4  Packaged Foods_Canned / Jarred / Instant Meals...               True   \n",
      "\n",
      "    product_brand  product_weight_in_grams  \\\n",
      "0     El Cencerro                      195   \n",
      "1          Diasol                     1021   \n",
      "2             DIA                        0   \n",
      "3         Sonador                      728   \n",
      "4  Gallina Blanca                     1000   \n",
      "\n",
      "                                product_name_english  \n",
      "0    Insólito El Cencerro Cured Sheep Cheese 200 Gr.  \n",
      "1                      DiaSol Sunflower Food Oil 1 L  \n",
      "2  Dia Delimagic Baking Powder Box 5 Sachets of 1...  \n",
      "3  Alcohol-Free Blackberry Liqueur Soñador Bottle...  \n",
      "4                  Gallina blanca vegetable broth 1L  \n"
     ]
    }
   ],
   "source": [
    "# Load the dataset\n",
    "file_path = '/Users/xinyingjinzhu/Desktop/PROJECT/GLOVO/Partner Catalogues - 180424.xlsx'\n",
    "\n",
    "# Load the Excel file into a pandas DataFrame\n",
    "data = pd.read_excel(file_path)\n",
    "\n",
    "# Display the first few rows of the DataFrame\n",
    "print(data.head())"
   ]
  },
  {
   "cell_type": "markdown",
   "id": "24ca5e40",
   "metadata": {},
   "source": [
    "# 1. PREPROCESSING"
   ]
  },
  {
   "cell_type": "code",
   "execution_count": 8,
   "id": "38ae9e2e",
   "metadata": {},
   "outputs": [
    {
     "name": "stdout",
     "output_type": "stream",
     "text": [
      "Unique values in 'p_country_date': ['ES']\n",
      "Unique values in 'store_name': ['Supermercado DIA']\n",
      "Unique values in 'store_name_grouped': [nan]\n",
      "Unique values in 'product_description': [nan]\n"
     ]
    }
   ],
   "source": [
    "# Check unique values in specific columns\n",
    "print(\"Unique values in 'p_country_date':\", data['p_country_date'].unique())\n",
    "print(\"Unique values in 'store_name':\", data['store_name'].unique())\n",
    "print(\"Unique values in 'store_name_grouped':\", data['store_name_grouped'].unique())\n",
    "print(\"Unique values in 'product_description':\", data['product_description'].unique())"
   ]
  },
  {
   "cell_type": "code",
   "execution_count": 9,
   "id": "21b29509",
   "metadata": {},
   "outputs": [
    {
     "name": "stdout",
     "output_type": "stream",
     "text": [
      "Cleaned DataFrame head:\n",
      "  product_external_id                                       product_name  \\\n",
      "0              292092  Queso De Oveja Curado Insólito El Cencerro 200...   \n",
      "1                 101        Aceite Refinado de Girasol Dia Botella 1 L.   \n",
      "2              197503           Levadura En Polvo Delimagic Sobre 90 Gr.   \n",
      "3              279225   Licor de Mora sin Alcohol Soñador Botella 70 Cl.   \n",
      "4              189160       Caldo Casero de Verduras Gallina Blanca 1 L.   \n",
      "\n",
      "   product_description  product_price  \\\n",
      "0                  NaN           3.66   \n",
      "1                  NaN           1.53   \n",
      "2                  NaN           0.81   \n",
      "3                  NaN           2.55   \n",
      "4                  NaN           2.39   \n",
      "\n",
      "                                   product_image_url  \\\n",
      "0  https://images.deliveryhero.io/image/global-ca...   \n",
      "1  https://images.deliveryhero.io/image/global-ca...   \n",
      "2  https://images.deliveryhero.io/image/global-ca...   \n",
      "3  https://images.deliveryhero.io/image/global-ca...   \n",
      "4  https://images.deliveryhero.io/image/global-ca...   \n",
      "\n",
      "                         groups_collections_sections  \\\n",
      "0  [[1, [['Huevos y Lácteos', None, 15038, 'e19cf...   \n",
      "1  [[1, [['Despensa', None, 15120, '230a3305-6da7...   \n",
      "2  [[1, [['Despensa', None, 15120, '230a3305-6da7...   \n",
      "3  [[1, [['Cervezas, Destilados y Vinos', None, 1...   \n",
      "4  [[1, [['Despensa', None, 15120, '230a3305-6da7...   \n",
      "\n",
      "        product_master_code  \\\n",
      "0  6579bd2fc8e2245b73e99fb2   \n",
      "1  65525334e2bbfd215f410ae2   \n",
      "2  656628e878313924cbbce36d   \n",
      "3  6567481e7d628aebbc57baa9   \n",
      "4  64ba3d30023801b0a39aa217   \n",
      "\n",
      "                               master_category_names   product_brand  \\\n",
      "0         Dairy / Chilled / Eggs_Dairy / Eggs_Cheese     El Cencerro   \n",
      "1  Packaged Foods_Cooking / Condiments / Baking /...          Diasol   \n",
      "2  Packaged Foods_Cooking / Condiments / Baking /...             DIA   \n",
      "3                      Bws_Spirits_Liqueurs / Creams         Sonador   \n",
      "4  Packaged Foods_Canned / Jarred / Instant Meals...  Gallina Blanca   \n",
      "\n",
      "   product_weight_in_grams                               product_name_english  \n",
      "0                      195    Insólito El Cencerro Cured Sheep Cheese 200 Gr.  \n",
      "1                     1021                      DiaSol Sunflower Food Oil 1 L  \n",
      "2                        0  Dia Delimagic Baking Powder Box 5 Sachets of 1...  \n",
      "3                      728  Alcohol-Free Blackberry Liqueur Soñador Bottle...  \n",
      "4                     1000                  Gallina blanca vegetable broth 1L  \n"
     ]
    }
   ],
   "source": [
    "# Drop the unnecessary columns\n",
    "data1 = data.drop(columns=['store_name_grouped'])\n",
    "data1 = data1.drop(columns=['p_country_date', 'store_name', 'product_is_active'])\n",
    "print(\"Cleaned DataFrame head:\")\n",
    "print(data1.head())"
   ]
  },
  {
   "cell_type": "code",
   "execution_count": 10,
   "id": "6782ba76",
   "metadata": {},
   "outputs": [
    {
     "name": "stdout",
     "output_type": "stream",
     "text": [
      "Missing data in each column:\n",
      "product_external_id                0\n",
      "product_name                       0\n",
      "product_description            14825\n",
      "product_price                      0\n",
      "product_image_url                  3\n",
      "groups_collections_sections        0\n",
      "product_master_code                0\n",
      "master_category_names             99\n",
      "product_brand                      0\n",
      "product_weight_in_grams            0\n",
      "product_name_english               0\n",
      "dtype: int64\n"
     ]
    }
   ],
   "source": [
    "# Check for missing data in all columns\n",
    "missing_data = data1.isnull().sum()\n",
    "\n",
    "# Print the results\n",
    "print(\"Missing data in each column:\")\n",
    "print(missing_data)"
   ]
  },
  {
   "cell_type": "markdown",
   "id": "a4b50701",
   "metadata": {},
   "source": [
    "### 1.1 IDENTIFYING UNIQUE PRODUCT ENTRIES BY 'product_master_code'"
   ]
  },
  {
   "cell_type": "code",
   "execution_count": 11,
   "id": "910b9eb4",
   "metadata": {},
   "outputs": [
    {
     "name": "stdout",
     "output_type": "stream",
     "text": [
      "Unique rows based on 'product_master_code':\n",
      "      product_external_id                                       product_name  \\\n",
      "0                  292092  Queso De Oveja Curado Insólito El Cencerro 200...   \n",
      "1                     101        Aceite Refinado de Girasol Dia Botella 1 L.   \n",
      "2                  197503           Levadura En Polvo Delimagic Sobre 90 Gr.   \n",
      "3                  279225   Licor de Mora sin Alcohol Soñador Botella 70 Cl.   \n",
      "4                  189160       Caldo Casero de Verduras Gallina Blanca 1 L.   \n",
      "...                   ...                                                ...   \n",
      "14801              221535      Pasta Fusilloni Dia Delicious Paquete 500 Gr.   \n",
      "14802              258818  Bálsamo Reparador Multiuso Argán Pieles Secas ...   \n",
      "14803              190036  Queso de Oveja Curado El Gran Cardenal Cuña 25...   \n",
      "14820              224310             Bloc Wc Dia Floral Activo Blíster 1 Ud   \n",
      "14824              240868  Preparado para Pastel de Zanahoria Dr Oetker C...   \n",
      "\n",
      "       product_description  product_price  \\\n",
      "0                      NaN           3.66   \n",
      "1                      NaN           1.53   \n",
      "2                      NaN           0.81   \n",
      "3                      NaN           2.55   \n",
      "4                      NaN           2.39   \n",
      "...                    ...            ...   \n",
      "14801                  NaN           1.60   \n",
      "14802                  NaN           6.99   \n",
      "14803                  NaN           4.61   \n",
      "14820                  NaN           1.53   \n",
      "14824                  NaN           4.99   \n",
      "\n",
      "                                       product_image_url  \\\n",
      "0      https://images.deliveryhero.io/image/global-ca...   \n",
      "1      https://images.deliveryhero.io/image/global-ca...   \n",
      "2      https://images.deliveryhero.io/image/global-ca...   \n",
      "3      https://images.deliveryhero.io/image/global-ca...   \n",
      "4      https://images.deliveryhero.io/image/global-ca...   \n",
      "...                                                  ...   \n",
      "14801  https://images.deliveryhero.io/image/pim-glovo...   \n",
      "14802  https://images.deliveryhero.io/image/pim-glovo...   \n",
      "14803  https://images.deliveryhero.io/image/global-ca...   \n",
      "14820  https://images.deliveryhero.io/image/pim-glovo...   \n",
      "14824  https://images.deliveryhero.io/image/pim-glovo...   \n",
      "\n",
      "                             groups_collections_sections  \\\n",
      "0      [[1, [['Huevos y Lácteos', None, 15038, 'e19cf...   \n",
      "1      [[1, [['Despensa', None, 15120, '230a3305-6da7...   \n",
      "2      [[1, [['Despensa', None, 15120, '230a3305-6da7...   \n",
      "3      [[1, [['Cervezas, Destilados y Vinos', None, 1...   \n",
      "4      [[1, [['Despensa', None, 15120, '230a3305-6da7...   \n",
      "...                                                  ...   \n",
      "14801  [[1, [['Basurita', None, 29039, 'c276f090-c6f1...   \n",
      "14802  [[1, [['Basurita', None, 29039, 'c276f090-c6f1...   \n",
      "14803  [[1, [['Huevos y Lácteos', None, 15038, 'e19cf...   \n",
      "14820  [[1, [['Droguería y Limpieza', None, 15401, '4...   \n",
      "14824  [[1, [['Basurita', None, 29039, 'c276f090-c6f1...   \n",
      "\n",
      "            product_master_code  \\\n",
      "0      6579bd2fc8e2245b73e99fb2   \n",
      "1      65525334e2bbfd215f410ae2   \n",
      "2      656628e878313924cbbce36d   \n",
      "3      6567481e7d628aebbc57baa9   \n",
      "4      64ba3d30023801b0a39aa217   \n",
      "...                         ...   \n",
      "14801  656628ff78313924cbbcf02e   \n",
      "14802  656626b978313924cbbbb79a   \n",
      "14803  64c2cd0ef0db0d43dfe1c0ad   \n",
      "14820  656626bb78313924cbbbb88f   \n",
      "14824  656626d878313924cbbbc784   \n",
      "\n",
      "                                   master_category_names   product_brand  \\\n",
      "0             Dairy / Chilled / Eggs_Dairy / Eggs_Cheese     El Cencerro   \n",
      "1      Packaged Foods_Cooking / Condiments / Baking /...          Diasol   \n",
      "2      Packaged Foods_Cooking / Condiments / Baking /...             DIA   \n",
      "3                          Bws_Spirits_Liqueurs / Creams         Sonador   \n",
      "4      Packaged Foods_Canned / Jarred / Instant Meals...  Gallina Blanca   \n",
      "...                                                  ...             ...   \n",
      "14801        Packaged Foods_Pasta / Rice / Grains_Pastas             DIA   \n",
      "14802  Personal Care / Baby / Health_Personal Care / ...         Garnier   \n",
      "14803         Dairy / Chilled / Eggs_Dairy / Eggs_Cheese    UNKNOWNBRAND   \n",
      "14820             Home / Pet_Cleaning / Laundry_Cleaning       Unbranded   \n",
      "14824  Packaged Foods_Cooking / Condiments / Baking /...       Dr Oetker   \n",
      "\n",
      "       product_weight_in_grams  \\\n",
      "0                          195   \n",
      "1                         1021   \n",
      "2                            0   \n",
      "3                          728   \n",
      "4                         1000   \n",
      "...                        ...   \n",
      "14801                      510   \n",
      "14802                        0   \n",
      "14803                      243   \n",
      "14820                        0   \n",
      "14824                      347   \n",
      "\n",
      "                                    product_name_english  \n",
      "0        Insólito El Cencerro Cured Sheep Cheese 200 Gr.  \n",
      "1                          DiaSol Sunflower Food Oil 1 L  \n",
      "2      Dia Delimagic Baking Powder Box 5 Sachets of 1...  \n",
      "3      Alcohol-Free Blackberry Liqueur Soñador Bottle...  \n",
      "4                      Gallina blanca vegetable broth 1L  \n",
      "...                                                  ...  \n",
      "14801      Fusilloni Pasta Dia Delicious Package 500 Gr.  \n",
      "14802  Multi-Purpose Repair Balm Argan Dry Skin Garni...  \n",
      "14803  El gran cardinal br maturata sheep from raw mi...  \n",
      "14820                 Floral Active Day WC Block Blister  \n",
      "14824                 Carrot Cake Mix Dr Oetker Box 350g  \n",
      "\n",
      "[8482 rows x 11 columns]\n"
     ]
    }
   ],
   "source": [
    "# Find unique rows based on 'product_master_code'\n",
    "df_cleaned = data1.drop_duplicates(subset='product_master_code')\n",
    "\n",
    "# Display the unique rows\n",
    "print(\"Unique rows based on 'product_master_code':\")\n",
    "print(df_cleaned)"
   ]
  },
  {
   "cell_type": "markdown",
   "id": "4f0aec7d",
   "metadata": {},
   "source": [
    "This reduced the number of rows from the original 14,825 to 8,482. The removed rows represent duplicate entries, helping us focus on distinct product listings in the dataset."
   ]
  },
  {
   "cell_type": "markdown",
   "id": "d6b0101c",
   "metadata": {},
   "source": [
    "### 1.2 NORMALISATION OF PRODUCT NAMES"
   ]
  },
  {
   "cell_type": "code",
   "execution_count": 12,
   "id": "d2ef0e55",
   "metadata": {},
   "outputs": [
    {
     "name": "stdout",
     "output_type": "stream",
     "text": [
      "                                        product_name  \\\n",
      "0  Queso De Oveja Curado Insólito El Cencerro 200...   \n",
      "1        Aceite Refinado de Girasol Dia Botella 1 L.   \n",
      "2           Levadura En Polvo Delimagic Sobre 90 Gr.   \n",
      "3   Licor de Mora sin Alcohol Soñador Botella 70 Cl.   \n",
      "4       Caldo Casero de Verduras Gallina Blanca 1 L.   \n",
      "5     Anilla de Pota Dia Mari Marinera Bolsa 350 Gr.   \n",
      "6      Bebida Energética Wild Pink Frugo Lata 33 Cl.   \n",
      "7                                Snickers Minis 227g   \n",
      "8               Picatostes Tostados Dia Bolsa 90 Gr.   \n",
      "9                        Kiwi Zespri Bandeja 700 Gr.   \n",
      "\n",
      "                                product_name_english  \n",
      "0    Insólito El Cencerro Cured Sheep Cheese 200 Gr.  \n",
      "1                      DiaSol Sunflower Food Oil 1 L  \n",
      "2  Dia Delimagic Baking Powder Box 5 Sachets of 1...  \n",
      "3  Alcohol Free Blackberry Liqueur Soñador Bottle...  \n",
      "4                  Gallina blanca vegetable broth 1L  \n",
      "5               Pota Ring Dia Mari Marinera 350g Bag  \n",
      "6  Frugo Wild Punch Pink Carbonated Energy Drink ...  \n",
      "7                                Snickers Minis 227g  \n",
      "8                       Dia Pão Torrado Pedaços 90 G  \n",
      "9                           Kiwi Zespri Tray 700 Gr.  \n"
     ]
    }
   ],
   "source": [
    "df_cleaned = df_cleaned.copy()\n",
    "\n",
    "# Remove hyphens from product_name and product_name_english columns\n",
    "df_cleaned.loc[:, 'product_name'] = df_cleaned['product_name'].str.replace('-', ' ', regex=False)\n",
    "df_cleaned.loc[:, 'product_name_english'] = df_cleaned['product_name_english'].str.replace('-', ' ', regex=False)\n",
    "\n",
    "# Display a sample of the updated DataFrame\n",
    "print(df_cleaned[['product_name', 'product_name_english']].head(10))"
   ]
  },
  {
   "cell_type": "markdown",
   "id": "88fa3fe9",
   "metadata": {},
   "source": [
    "### 1.3 IMPLEMENTING WEIGHT DATA EXTRACTION"
   ]
  },
  {
   "cell_type": "code",
   "execution_count": 13,
   "id": "b02bf93b",
   "metadata": {},
   "outputs": [
    {
     "name": "stdout",
     "output_type": "stream",
     "text": [
      "DataFrame with normalized and lowercased product names and brands:\n",
      "                                        product_name  \\\n",
      "0  queso de oveja curado insolito el cencerro 200...   \n",
      "1        aceite refinado de girasol dia botella 1 l.   \n",
      "2           levadura en polvo delimagic sobre 90 gr.   \n",
      "3   licor de mora sin alcohol sonador botella 70 cl.   \n",
      "4       caldo casero de verduras gallina blanca 1 l.   \n",
      "\n",
      "                                product_name_english   product_brand  \n",
      "0    insolito el cencerro cured sheep cheese 200 gr.     el cencerro  \n",
      "1                      diasol sunflower food oil 1 l          diasol  \n",
      "2  dia delimagic baking powder box 5 sachets of 1...             dia  \n",
      "3  alcohol free blackberry liqueur sonador bottle...         sonador  \n",
      "4                  gallina blanca vegetable broth 1l  gallina blanca  \n"
     ]
    }
   ],
   "source": [
    "# Modified function to handle non-string inputs by converting all inputs to strings first\n",
    "def normalize_text(input_text):\n",
    "    input_text = str(input_text)\n",
    "    normalized_text = unicodedata.normalize('NFKD', input_text).encode('ascii', 'ignore').decode('ascii')\n",
    "    return normalized_text.lower()\n",
    "\n",
    "# Apply normalisation and lowercase conversion to the product names \n",
    "df_cleaned.loc[:, 'product_name'] = df_cleaned['product_name'].apply(normalize_text)\n",
    "df_cleaned.loc[:, 'product_name_english'] = df_cleaned['product_name_english'].apply(normalize_text)\n",
    "df_cleaned.loc[:, 'product_brand'] = df_cleaned['product_brand'].apply(normalize_text)\n",
    "\n",
    "# Print\n",
    "print(\"DataFrame with normalized and lowercased product names and brands:\")\n",
    "print(df_cleaned[['product_name', 'product_name_english', 'product_brand']].head())"
   ]
  },
  {
   "cell_type": "code",
   "execution_count": 14,
   "id": "1554d7b5",
   "metadata": {},
   "outputs": [
    {
     "name": "stdout",
     "output_type": "stream",
     "text": [
      "Number of products with weight 0 grams: 2827\n"
     ]
    }
   ],
   "source": [
    "# Count the number of products with weight 0\n",
    "zero_weight_count = (df_cleaned['product_weight_in_grams'] == 0).sum()\n",
    "\n",
    "print(\"Number of products with weight 0 grams:\", zero_weight_count)"
   ]
  },
  {
   "cell_type": "code",
   "execution_count": 15,
   "id": "c9d27b88",
   "metadata": {},
   "outputs": [
    {
     "name": "stdout",
     "output_type": "stream",
     "text": [
      "Updated DataFrame with corrected weights:\n",
      "                                product_name_english  product_weight_in_grams\n",
      "0    insolito el cencerro cured sheep cheese 200 gr.                    195.0\n",
      "1                      diasol sunflower food oil 1 l                   1021.0\n",
      "2  dia delimagic baking powder box 5 sachets of 1...                     75.0\n",
      "3  alcohol free blackberry liqueur sonador bottle...                    728.0\n",
      "4                  gallina blanca vegetable broth 1l                   1000.0\n"
     ]
    }
   ],
   "source": [
    "def extract_weight(product_name):\n",
    "    pattern = re.compile(\n",
    "        r'(\\d+)\\s*(?:x|X|\\*)\\s*(\\d+\\.?\\d*)\\s*(g\\b|gr\\b|kg\\b|l\\b|ml\\b|cl\\b|lt\\b)|'  # Handles multipliers correctly\n",
    "        r'(\\d+)\\s+(?:sachets\\b|packets\\b|pieces\\b|packs\\b|units\\b)\\s+of\\s+(\\d+\\.?\\d*)\\s*(g\\b|gr\\b|kg\\b|l\\b|ml\\b|cl\\b|lt\\b)|'\n",
    "        r'(\\d+\\.?\\d*)\\s*(g\\b|gr\\b|kg\\b|l\\b|ml\\b|cl\\b|lt\\b)[\\.\\s]*$',  # Standard weight/volume descriptions\n",
    "        flags=re.IGNORECASE\n",
    "    )\n",
    "    matches = pattern.findall(product_name)\n",
    "    total_weight = 0\n",
    "\n",
    "    for groups in matches:\n",
    "        quantity1, amount1, unit1, quantity2, amount2, unit2, direct_amount, direct_unit = groups\n",
    "\n",
    "        # Adjust handling for direct amount cases\n",
    "        if direct_amount and direct_unit:\n",
    "            quantity = 1  # Assume quantity is 1 unless specified\n",
    "            amount = float(direct_amount)\n",
    "            unit = direct_unit\n",
    "        else:\n",
    "            quantity = int(quantity1) if quantity1 else int(quantity2) if quantity2 else 1\n",
    "            amount = float(amount1) if amount1 else float(amount2)\n",
    "            unit = unit1 if unit1 else unit2\n",
    "\n",
    "        # Convert weights to grams\n",
    "        if unit in ['g', 'gr']:\n",
    "            total_weight += quantity * amount\n",
    "        elif unit == 'kg':\n",
    "            total_weight += quantity * amount * 1000\n",
    "        elif unit in ['l', 'ml', 'cl', 'lt']:\n",
    "            if unit in ['l', 'lt']:  # Convert liters to grams assuming density of water\n",
    "                total_weight += quantity * amount * 1000\n",
    "            elif unit == 'ml':\n",
    "                total_weight += quantity * amount\n",
    "            elif unit == 'cl':\n",
    "                total_weight += quantity * amount * 10\n",
    "\n",
    "    return total_weight if total_weight > 0 else 0  # Return 0 for non-zero weights detected to avoid confusion with unprocessed entries\n",
    "\n",
    "# Applying the function to DataFrame\n",
    "df_cleaned['extracted_weight'] = df_cleaned['product_name_english'].apply(extract_weight)\n",
    "df_cleaned.loc[df_cleaned['product_weight_in_grams'] == 0, 'product_weight_in_grams'] = df_cleaned['extracted_weight']\n",
    "\n",
    "print(\"Updated DataFrame with corrected weights:\")\n",
    "print(df_cleaned[['product_name_english', 'product_weight_in_grams']].head())"
   ]
  },
  {
   "cell_type": "code",
   "execution_count": 16,
   "id": "962919f2",
   "metadata": {},
   "outputs": [
    {
     "name": "stdout",
     "output_type": "stream",
     "text": [
      "Number of NaN values in 'product_weight_in_grams': 0\n",
      "Rows with NaN weights:\n",
      "Empty DataFrame\n",
      "Columns: [product_name_english, product_weight_in_grams]\n",
      "Index: []\n"
     ]
    }
   ],
   "source": [
    "# Check for NaN values in the 'product_weight_in_grams' column\n",
    "nan_weights = df_cleaned['product_weight_in_grams'].isna() \n",
    "\n",
    "# Count the number of NaN values\n",
    "nan_count = nan_weights.sum()\n",
    "\n",
    "# Display the count of NaN values\n",
    "print(f\"Number of NaN values in 'product_weight_in_grams': {nan_count}\")\n",
    "\n",
    "nan_rows = df_cleaned[nan_weights]\n",
    "\n",
    "print(\"Rows with NaN weights:\")\n",
    "print(nan_rows[['product_name_english', 'product_weight_in_grams']])"
   ]
  },
  {
   "cell_type": "code",
   "execution_count": 17,
   "id": "5da6856f",
   "metadata": {},
   "outputs": [
    {
     "name": "stdout",
     "output_type": "stream",
     "text": [
      "Number of zero values in 'product_weight_in_grams': 1187\n",
      "Rows with zero weights:\n",
      "                                    product_name_english  \\\n",
      "19     super absorbent extra soft yellow cloth baller...   \n",
      "37                        colorcrem bleaching kit 1 unit   \n",
      "42                    cockroach trap home garden 6 units   \n",
      "45         makeup remover wipes normal skin bonte 30 pcs   \n",
      "61              dia super paco glass cleaning cloth 1 pc   \n",
      "...                                                  ...   \n",
      "14662   ginger with lemon infusion teteria box 25 units.   \n",
      "14765                       icy brown dye no. 4 86 syoss   \n",
      "14768  violet microcapsule dia concentrated fabric so...   \n",
      "14796           airwick freshmatic flowers refill 2 pcs.   \n",
      "14820                 floral active day wc block blister   \n",
      "\n",
      "       product_weight_in_grams  \n",
      "19                         0.0  \n",
      "37                         0.0  \n",
      "42                         0.0  \n",
      "45                         0.0  \n",
      "61                         0.0  \n",
      "...                        ...  \n",
      "14662                      0.0  \n",
      "14765                      0.0  \n",
      "14768                      0.0  \n",
      "14796                      0.0  \n",
      "14820                      0.0  \n",
      "\n",
      "[1187 rows x 2 columns]\n"
     ]
    }
   ],
   "source": [
    "# Check for zero values in the 'product_weight_in_grams' column\n",
    "zero_weights = df_cleaned['product_weight_in_grams'] == 0\n",
    "\n",
    "# Count the number of zero values\n",
    "zero_count = zero_weights.sum()\n",
    "\n",
    "# Display the count of zero values\n",
    "print(f\"Number of zero values in 'product_weight_in_grams': {zero_count}\")\n",
    "\n",
    "zero_rows = df_cleaned[zero_weights]\n",
    "print(\"Rows with zero weights:\")\n",
    "print(zero_rows[['product_name_english', 'product_weight_in_grams']])"
   ]
  },
  {
   "cell_type": "code",
   "execution_count": 18,
   "id": "6f7be8f1",
   "metadata": {},
   "outputs": [
    {
     "name": "stdout",
     "output_type": "stream",
     "text": [
      "Data for the 14770th row (selected columns):\n",
      "product_name_english       violet microcapsule dia concentrated fabric so...\n",
      "product_weight_in_grams                                                  0.0\n",
      "Name: 14768, dtype: object\n",
      "Data for the 7468th row (selected columns):\n",
      "product_name_english       pocket mentholated tissues 4 layers dia la lla...\n",
      "product_weight_in_grams                                                  0.0\n",
      "Name: 7466, dtype: object\n",
      "Data for the 12166th row (selected columns):\n",
      "product_name_english       roura candle 150x57 lighting 1 unit\n",
      "product_weight_in_grams                                    0.0\n",
      "Name: 12164, dtype: object\n",
      "Data for the 875th row (selected columns):\n",
      "product_name_english       zipper freezer bags 1 lt super paco box 15 pcs.\n",
      "product_weight_in_grams                                                0.0\n",
      "Name: 873, dtype: object\n"
     ]
    }
   ],
   "source": [
    "# Access a specific row by its index\n",
    "row_to_check = df_cleaned.loc[14768, ['product_name_english', 'product_weight_in_grams']]\n",
    "print(\"Data for the 14770th row (selected columns):\")\n",
    "print(row_to_check)\n",
    "\n",
    "row_to_check = df_cleaned.loc[7466, ['product_name_english', 'product_weight_in_grams']]\n",
    "print(\"Data for the 7468th row (selected columns):\")\n",
    "print(row_to_check)\n",
    "\n",
    "row_to_check = df_cleaned.loc[12164, ['product_name_english', 'product_weight_in_grams']]\n",
    "print(\"Data for the 12166th row (selected columns):\")\n",
    "print(row_to_check)\n",
    "\n",
    "row_to_check = df_cleaned.loc[873, ['product_name_english', 'product_weight_in_grams']]\n",
    "print(\"Data for the 875th row (selected columns):\")\n",
    "print(row_to_check)"
   ]
  },
  {
   "cell_type": "code",
   "execution_count": 19,
   "id": "9e8fa884",
   "metadata": {},
   "outputs": [
    {
     "name": "stdout",
     "output_type": "stream",
     "text": [
      "Random sample of products with zero weights:\n",
      "Product Name: oral b precision brush refill cl.ean 1 unit, Weight: 0.0\n",
      "Product Name: sensitive condoms imaqe box 12 pcs., Weight: 0.0\n",
      "Product Name: sharky pierrot children's dental kit case 1 pc., Weight: 0.0\n",
      "Product Name: aluminum foil alumfix roll 50 m., Weight: 0.0\n",
      "Product Name: colgate extracl.ean 2+2 brushes 4 pcs., Weight: 0.0\n",
      "Product Name: strong self closing garbage bag 30 liters vileda 15 pcs., Weight: 0.0\n",
      "Product Name: san miguel special beer can 33 cl. pack 12 units, Weight: 0.0\n",
      "Product Name: clean cotton scented candle aromatium box 1 pc., Weight: 0.0\n",
      "Product Name: dia bloco wc active hygiene oceano 1 un, Weight: 0.0\n",
      "Product Name: mint poleo infusion hornimans box 40 bags, Weight: 0.0\n",
      "Product Name: sayma terry sponge set bag 2 pcs., Weight: 0.0\n",
      "Product Name: codan mini chocolate shells 180g pack, Weight: 0.0\n",
      "Product Name: avecrem low salt chicken broth 10 tablets, Weight: 0.0\n",
      "Product Name: mint flavor coated chewing gum orbit pack of 5, Weight: 0.0\n",
      "Product Name: dark blonde hair dye no. 6 garnier color sensation box 1 pc., Weight: 0.0\n"
     ]
    }
   ],
   "source": [
    "# Filter the DataFrame to find rows where 'product_weight_in_grams' is 0\n",
    "zero_weight_df = df_cleaned[df_cleaned['product_weight_in_grams'] == 0]\n",
    "\n",
    "# Sample a number of entries randomly from the zero weight DataFrame\n",
    "random_samples = zero_weight_df.sample(n=15, random_state=42) \n",
    "\n",
    "zero_product_list = list(zip(random_samples['product_name_english'], random_samples['product_weight_in_grams']))\n",
    "\n",
    "# Print\n",
    "print(\"Random sample of products with zero weights:\")\n",
    "for product, weight in zero_product_list:\n",
    "    print(f\"Product Name: {product}, Weight: {weight}\")"
   ]
  },
  {
   "cell_type": "code",
   "execution_count": 20,
   "id": "833de6af",
   "metadata": {},
   "outputs": [
    {
     "name": "stdout",
     "output_type": "stream",
     "text": [
      "Zero weights by category:\n",
      "master_category_names\n",
      "Beverages_Juice / Ice Tea / Sports / Energy_Juice     7\n",
      "Beverages_Soft Drinks / Mixers_Orange                 1\n",
      "Beverages_Soft Drinks / Mixers_Other Soft Drinks      2\n",
      "Bread / Bakery_Bread_Packaged                         4\n",
      "Bread / Bakery_Sweet Bakery_Packaged                  9\n",
      "                                                     ..\n",
      "Snacks_Confectionary_Candies                          4\n",
      "Snacks_Confectionary_Chocolate                       13\n",
      "Snacks_Confectionary_Gums                             7\n",
      "Snacks_Other Snacks_Protein Snacks                    2\n",
      "Snacks_Salty Snacks_Chips                             1\n",
      "Length: 83, dtype: int64\n",
      "\n",
      "Total products and zero weights by category:\n",
      "                                                    total_products  \\\n",
      "master_category_names                                                \n",
      "Beverages_Juice / Ice Tea / Sports / Energy_Energy              33   \n",
      "Beverages_Juice / Ice Tea / Sports / Energy_Ice...               8   \n",
      "Beverages_Juice / Ice Tea / Sports / Energy_Juice              103   \n",
      "Beverages_Juice / Ice Tea / Sports / Energy_Sports              12   \n",
      "Beverages_Soft Drinks / Mixers_Cola                             48   \n",
      "...                                                            ...   \n",
      "Snacks_Salty Snacks_Chips                                      123   \n",
      "Snacks_Salty Snacks_Dips                                         2   \n",
      "Snacks_Salty Snacks_Nuts / Seeds                               113   \n",
      "Snacks_Salty Snacks_Salty Crackers / Pretzels                   42   \n",
      "Snacks_Salty Snacks_Specialty Snacks                             3   \n",
      "\n",
      "                                                    zero_weights  \n",
      "master_category_names                                             \n",
      "Beverages_Juice / Ice Tea / Sports / Energy_Energy             0  \n",
      "Beverages_Juice / Ice Tea / Sports / Energy_Ice...             0  \n",
      "Beverages_Juice / Ice Tea / Sports / Energy_Juice              7  \n",
      "Beverages_Juice / Ice Tea / Sports / Energy_Sports             0  \n",
      "Beverages_Soft Drinks / Mixers_Cola                            0  \n",
      "...                                                          ...  \n",
      "Snacks_Salty Snacks_Chips                                      1  \n",
      "Snacks_Salty Snacks_Dips                                       0  \n",
      "Snacks_Salty Snacks_Nuts / Seeds                               0  \n",
      "Snacks_Salty Snacks_Salty Crackers / Pretzels                  0  \n",
      "Snacks_Salty Snacks_Specialty Snacks                           0  \n",
      "\n",
      "[174 rows x 2 columns]\n"
     ]
    }
   ],
   "source": [
    "# Filter the DataFrame to include only rows where 'product_weight_in_grams' is 0\n",
    "zero_weights_df = df_cleaned[df_cleaned['product_weight_in_grams'] == 0]\n",
    "\n",
    "# Group by 'master_category_names' and count zero weights in each category\n",
    "zero_weights_by_category = zero_weights_df.groupby('master_category_names').size()\n",
    "\n",
    "total_and_zero_by_category = df_cleaned.groupby('master_category_names').agg(\n",
    "    total_products=pd.NamedAgg(column='product_name_english', aggfunc='count'),\n",
    "    zero_weights=pd.NamedAgg(column='product_weight_in_grams', aggfunc=lambda x: (x == 0).sum())\n",
    ")\n",
    "\n",
    "# Print\n",
    "print(\"Zero weights by category:\")\n",
    "print(zero_weights_by_category)\n",
    "\n",
    "print(\"\\nTotal products and zero weights by category:\")\n",
    "print(total_and_zero_by_category)"
   ]
  },
  {
   "cell_type": "code",
   "execution_count": 21,
   "id": "5e7a4042",
   "metadata": {
    "scrolled": true
   },
   "outputs": [
    {
     "name": "stdout",
     "output_type": "stream",
     "text": [
      "Products with zero weights in 'Beverages_Juice / Ice Tea / Sports / Energy_Juice':\n",
      "1895                           turkey cannelloni 20 units\n",
      "2480    bifrutas mediterranean pascual original 200 ml...\n",
      "3413                 orange juice pet with pulp sim on lt\n",
      "4403                    pascual tropical bifrutas 6 units\n",
      "5605    bifrutas mediterranean pascual original 330 ml...\n",
      "7666             fruit+milk don simon caribe zero 6 units\n",
      "9215                         mango nectar dia 1 l. bottle\n",
      "Name: product_name_english, dtype: object\n"
     ]
    }
   ],
   "source": [
    "# Filter for the specific category and zero weights\n",
    "specific_category_zero_weights = df_cleaned[\n",
    "    (df_cleaned['master_category_names'] == \"Beverages_Juice / Ice Tea / Sports / Energy_Juice\") &\n",
    "    (df_cleaned['product_weight_in_grams'] == 0)\n",
    "]\n",
    "\n",
    "# Select the product names of the filtered results\n",
    "product_names_with_zero_weights = specific_category_zero_weights['product_name_english']\n",
    "\n",
    "# Print\n",
    "print(\"Products with zero weights in 'Beverages_Juice / Ice Tea / Sports / Energy_Juice':\")\n",
    "print(product_names_with_zero_weights)"
   ]
  },
  {
   "cell_type": "markdown",
   "id": "f8d97019",
   "metadata": {},
   "source": [
    "There are some categories that should be excluded for the weight extraction as they have numbers that mean capacity and not weight. For instance: \"zipper freezer bags 2 lt super paco box 15 pcs.\", the 2 lt is the capacity and not the weight."
   ]
  },
  {
   "cell_type": "code",
   "execution_count": 22,
   "id": "3fa99a28",
   "metadata": {},
   "outputs": [
    {
     "name": "stdout",
     "output_type": "stream",
     "text": [
      "Number of zero weights after additional extraction: 992\n"
     ]
    }
   ],
   "source": [
    "def extract_weight(product_name, category_name):\n",
    "    # Define categories to exclude from weight extraction\n",
    "    excluded_categories = ['Home / Pet_Disposables_Food Storage / Wraps']\n",
    "\n",
    "    # Skip extraction if the category should be excluded\n",
    "    if category_name in excluded_categories:\n",
    "        return 0\n",
    "\n",
    "    # Regex pattern to extract weight\n",
    "    pattern = re.compile(\n",
    "        r'(\\d+)\\s*uds\\s+(\\d+\\.?\\d*)\\s*(ml|l)\\b|'\n",
    "        r'(\\d+)\\s*(?:x|X|\\*)\\s*(\\d+\\.?\\d*)\\s*(g|gr|kg|l|ml|cl|lt)\\.?|' \n",
    "        r'(\\d+)\\s+(sachets|packets|pieces|packs|units|uds)\\s+of\\s+(\\d+\\.?\\d*)\\s*(g|gr|kg|l|ml|cl|lt)\\.?|' \n",
    "        r'(\\d+\\.?\\d*)\\s*(g|gr|kg|l|ml|cl|lt)\\.?\\b',\n",
    "        flags=re.IGNORECASE\n",
    "    )\n",
    "    matches = pattern.findall(product_name)\n",
    "    total_weight = 0\n",
    "\n",
    "    for match in matches:\n",
    "        values = [float(v) for v in match if v and v.isdigit() or '.' in v]\n",
    "        units = [u for u in match if u.isalpha()]\n",
    "\n",
    "        if values and units:\n",
    "            quantity = values[0]\n",
    "            amount = values[1] if len(values) > 1 else 1\n",
    "            unit = units[0]\n",
    "\n",
    "            if unit in ['g', 'gr']:\n",
    "                total_weight += quantity * amount\n",
    "            elif unit == 'kg':\n",
    "                total_weight += quantity * amount * 1000\n",
    "            elif unit in ['l', 'ml', 'cl', 'lt']:\n",
    "                if unit in ['l', 'lt']:\n",
    "                    total_weight += quantity * amount * 1000\n",
    "                elif unit == 'ml':\n",
    "                    total_weight += quantity * amount\n",
    "                elif unit == 'cl':\n",
    "                    total_weight += quantity * amount * 10\n",
    "\n",
    "    return total_weight if total_weight > 0 else 0\n",
    "\n",
    "# Apply the function excluding specified categories\n",
    "df_cleaned['extracted_weight'] = df_cleaned.apply(lambda x: extract_weight(x['product_name'], x['master_category_names']) if x['product_weight_in_grams'] == 0 else x['product_weight_in_grams'], axis=1)\n",
    "\n",
    "# Update product weights where still zero\n",
    "df_cleaned.loc[df_cleaned['product_weight_in_grams'] == 0, 'product_weight_in_grams'] = df_cleaned['extracted_weight']\n",
    "\n",
    "# Recalculate zero count\n",
    "zero_weight_count = (df_cleaned['product_weight_in_grams'] == 0).sum()\n",
    "print(f\"Number of zero weights after additional extraction: {zero_weight_count}\")"
   ]
  },
  {
   "cell_type": "code",
   "execution_count": 23,
   "id": "ef441f8f",
   "metadata": {},
   "outputs": [
    {
     "name": "stdout",
     "output_type": "stream",
     "text": [
      "Products with zero weights in 'Beverages_Juice / Ice Tea / Sports / Energy_Juice':\n",
      "Series([], Name: product_name, dtype: object)\n"
     ]
    }
   ],
   "source": [
    "# Filter for the specific category and zero weights\n",
    "specific_category_zero_weights = df_cleaned[\n",
    "    (df_cleaned['master_category_names'] == \"Beverages_Juice / Ice Tea / Sports / Energy_Juice\") &\n",
    "    (df_cleaned['product_weight_in_grams'] == 0)\n",
    "]\n",
    "\n",
    "# Select the product names of the filtered results\n",
    "product_names_with_zero_weights = specific_category_zero_weights['product_name']\n",
    "\n",
    "# Print\n",
    "print(\"Products with zero weights in 'Beverages_Juice / Ice Tea / Sports / Energy_Juice':\")\n",
    "print(product_names_with_zero_weights)"
   ]
  },
  {
   "cell_type": "code",
   "execution_count": 24,
   "id": "0c1b7344",
   "metadata": {},
   "outputs": [
    {
     "name": "stdout",
     "output_type": "stream",
     "text": [
      "Data for the 14770th row (selected columns):\n",
      "product_name_english       violet microcapsule dia concentrated fabric so...\n",
      "product_weight_in_grams                                                  0.0\n",
      "Name: 14768, dtype: object\n",
      "Data for the 7468th row (selected columns):\n",
      "product_name_english       pocket mentholated tissues 4 layers dia la lla...\n",
      "product_weight_in_grams                                                  0.0\n",
      "Name: 7466, dtype: object\n",
      "Data for the 12166th row (selected columns):\n",
      "product_name_english       roura candle 150x57 lighting 1 unit\n",
      "product_weight_in_grams                                    0.0\n",
      "Name: 12164, dtype: object\n",
      "Data for the 875th row (selected columns):\n",
      "product_name_english       zipper freezer bags 1 lt super paco box 15 pcs.\n",
      "product_weight_in_grams                                                0.0\n",
      "Name: 873, dtype: object\n"
     ]
    }
   ],
   "source": [
    "# Access a specific row by its index \n",
    "row_to_check = df_cleaned.loc[14768, ['product_name_english', 'product_weight_in_grams']]\n",
    "print(\"Data for the 14770th row (selected columns):\")\n",
    "print(row_to_check)\n",
    "\n",
    "row_to_check = df_cleaned.loc[7466, ['product_name_english', 'product_weight_in_grams']]\n",
    "print(\"Data for the 7468th row (selected columns):\")\n",
    "print(row_to_check)\n",
    "\n",
    "row_to_check = df_cleaned.loc[12164, ['product_name_english', 'product_weight_in_grams']]\n",
    "print(\"Data for the 12166th row (selected columns):\")\n",
    "print(row_to_check)\n",
    "\n",
    "row_to_check = df_cleaned.loc[873, ['product_name_english', 'product_weight_in_grams']]\n",
    "print(\"Data for the 875th row (selected columns):\")\n",
    "print(row_to_check)"
   ]
  },
  {
   "cell_type": "code",
   "execution_count": 25,
   "id": "bea6bf04",
   "metadata": {},
   "outputs": [
    {
     "name": "stdout",
     "output_type": "stream",
     "text": [
      "Data for the 4405th row (selected columns):\n",
      "product_name               bebida con leche tropical bifrutas pascual 6 u...\n",
      "product_weight_in_grams                                               1200.0\n",
      "Name: 4403, dtype: object\n"
     ]
    }
   ],
   "source": [
    "# Access a specific row by its index for selected columns\n",
    "row_to_check = df_cleaned.loc[4403, ['product_name', 'product_weight_in_grams']]\n",
    "print(\"Data for the 4405th row (selected columns):\")\n",
    "print(row_to_check)"
   ]
  },
  {
   "cell_type": "code",
   "execution_count": 26,
   "id": "dc9d4d7a",
   "metadata": {},
   "outputs": [
    {
     "name": "stdout",
     "output_type": "stream",
     "text": [
      "Data for the 7668th row (selected columns):\n",
      "product_name               bebida frutas con leche caribe zero don simon ...\n",
      "product_weight_in_grams                                               1200.0\n",
      "Name: 7666, dtype: object\n"
     ]
    }
   ],
   "source": [
    "# Access a specific row by its index for selected columns\n",
    "row_to_check = df_cleaned.loc[7666, ['product_name', 'product_weight_in_grams']]\n",
    "print(\"Data for the 7668th row (selected columns):\")\n",
    "print(row_to_check)"
   ]
  },
  {
   "cell_type": "code",
   "execution_count": 27,
   "id": "4beb269a",
   "metadata": {},
   "outputs": [
    {
     "name": "stdout",
     "output_type": "stream",
     "text": [
      "Zero weights by category:\n",
      "master_category_names\n",
      "Bread / Bakery_Bread_Packaged                                                                3\n",
      "Bread / Bakery_Sweet Bakery_Packaged                                                         4\n",
      "Dairy / Chilled / Eggs_Dairy / Eggs_Eggs                                                    19\n",
      "Dairy / Chilled / Eggs_Milk_Long Life / UHT                                                  2\n",
      "Frozen_Frozen Convenience / Bakery_Ready To Cook Meals                                       1\n",
      "Home / Pet_Cleaning / Laundry_Cleaning                                                     107\n",
      "Home / Pet_Cleaning / Laundry_Laundry                                                      137\n",
      "Home / Pet_Disposables_Cleaning Tools                                                       18\n",
      "Home / Pet_Disposables_Food Storage / Wraps                                                 21\n",
      "Home / Pet_Disposables_Paper Products                                                       68\n",
      "Home / Pet_Disposables_Tableware                                                            10\n",
      "Home / Pet_Disposables_Waste Bags                                                            9\n",
      "Home / Pet_Hardware / Misc_Household Essentials                                             14\n",
      "Home / Pet_Hardware / Misc_Stationanery                                                      2\n",
      "Home / Pet_Household_Candles                                                                 4\n",
      "Home / Pet_Household_Household Essentials                                                   69\n",
      "Home / Pet_Household_Pest Control                                                            3\n",
      "Home / Pet_Pet_Cat                                                                           1\n",
      "Home / Pet_Pet_Dog                                                                           2\n",
      "Home / Pet_Pet_Others                                                                        2\n",
      "Home / Pet_Seasonal / Occasion_Occassions                                                    2\n",
      "Packaged Foods_Breakfast / Spreads_Cereals                                                   1\n",
      "Packaged Foods_Canned / Jarred / Instant Meals_Canned Meat / Seafood                         1\n",
      "Packaged Foods_Canned / Jarred / Instant Meals_Instant Meals                                10\n",
      "Packaged Foods_Cooking / Condiments / Baking / Herbs / Spices_Baking                         8\n",
      "Packaged Foods_Cooking / Condiments / Baking / Herbs / Spices_Condiments                     4\n",
      "Packaged Foods_Cooking / Condiments / Baking / Herbs / Spices_Salt / Pepper / Seasoning      4\n",
      "Packaged Foods_Special Diet_Meal Replacements                                                1\n",
      "Packaged Foods_Special Diet_Sliming Aids                                                     3\n",
      "Packaged Foods_Tea / Coffee_Accesories                                                       2\n",
      "Packaged Foods_Tea / Coffee_Coffee                                                          22\n",
      "Packaged Foods_Tea / Coffee_Tea                                                             40\n",
      "Personal Care / Baby / Health_Baby_Baby Accessories                                          2\n",
      "Personal Care / Baby / Health_Baby_Baby Hygiene                                              8\n",
      "Personal Care / Baby / Health_Baby_Baby Nappy / Diaper                                      27\n",
      "Personal Care / Baby / Health_Health_Adult Diapers                                           1\n",
      "Personal Care / Baby / Health_Health_Hygiene                                                 2\n",
      "Personal Care / Baby / Health_Health_Medications                                            17\n",
      "Personal Care / Baby / Health_Health_Sexual Wellness                                         8\n",
      "Personal Care / Baby / Health_Health_Vitamins / Supplements                                 12\n",
      "Personal Care / Baby / Health_Personal Care / Beauty_Body Products                           2\n",
      "Personal Care / Baby / Health_Personal Care / Beauty_Body Wash / Soaps                       2\n",
      "Personal Care / Baby / Health_Personal Care / Beauty_Cosmetics                               6\n",
      "Personal Care / Baby / Health_Personal Care / Beauty_Deodorants                              1\n",
      "Personal Care / Baby / Health_Personal Care / Beauty_Feminine Care                          67\n",
      "Personal Care / Baby / Health_Personal Care / Beauty_Hair Care                              63\n",
      "Personal Care / Baby / Health_Personal Care / Beauty_Oral Care                              28\n",
      "Personal Care / Baby / Health_Personal Care / Beauty_Shaving / Hair Removal                 52\n",
      "Personal Care / Baby / Health_Personal Care / Beauty_Skin Care                              50\n",
      "Produce_Vegetables_Regular                                                                   4\n",
      "Ready To Consume_Beverages_Rtd Chocolate                                                     1\n",
      "Snacks_Confectionary_Biscuits                                                                1\n",
      "Snacks_Confectionary_Chocolate                                                               1\n",
      "Snacks_Confectionary_Gums                                                                    6\n",
      "dtype: int64\n",
      "\n",
      "Total products and zero weights by category:\n",
      "                                                    total_products  \\\n",
      "master_category_names                                                \n",
      "Beverages_Juice / Ice Tea / Sports / Energy_Energy              33   \n",
      "Beverages_Juice / Ice Tea / Sports / Energy_Ice...               8   \n",
      "Beverages_Juice / Ice Tea / Sports / Energy_Juice              103   \n",
      "Beverages_Juice / Ice Tea / Sports / Energy_Sports              12   \n",
      "Beverages_Soft Drinks / Mixers_Cola                             48   \n",
      "...                                                            ...   \n",
      "Snacks_Salty Snacks_Chips                                      123   \n",
      "Snacks_Salty Snacks_Dips                                         2   \n",
      "Snacks_Salty Snacks_Nuts / Seeds                               113   \n",
      "Snacks_Salty Snacks_Salty Crackers / Pretzels                   42   \n",
      "Snacks_Salty Snacks_Specialty Snacks                             3   \n",
      "\n",
      "                                                    zero_weights  \n",
      "master_category_names                                             \n",
      "Beverages_Juice / Ice Tea / Sports / Energy_Energy             0  \n",
      "Beverages_Juice / Ice Tea / Sports / Energy_Ice...             0  \n",
      "Beverages_Juice / Ice Tea / Sports / Energy_Juice              0  \n",
      "Beverages_Juice / Ice Tea / Sports / Energy_Sports             0  \n",
      "Beverages_Soft Drinks / Mixers_Cola                            0  \n",
      "...                                                          ...  \n",
      "Snacks_Salty Snacks_Chips                                      0  \n",
      "Snacks_Salty Snacks_Dips                                       0  \n",
      "Snacks_Salty Snacks_Nuts / Seeds                               0  \n",
      "Snacks_Salty Snacks_Salty Crackers / Pretzels                  0  \n",
      "Snacks_Salty Snacks_Specialty Snacks                           0  \n",
      "\n",
      "[174 rows x 2 columns]\n"
     ]
    }
   ],
   "source": [
    "# Filter the DataFrame to include only rows where 'product_weight_in_grams' is 0\n",
    "zero_weights_df = df_cleaned[df_cleaned['product_weight_in_grams'] == 0]\n",
    "\n",
    "# Group by 'master_category_names' and count zero weights in each category\n",
    "zero_weights_by_category = zero_weights_df.groupby('master_category_names').size()\n",
    "\n",
    "# Alternatively, to see the total number of products and the count of zero weights in each category:\n",
    "total_and_zero_by_category = df_cleaned.groupby('master_category_names').agg(\n",
    "    total_products=pd.NamedAgg(column='product_name_english', aggfunc='count'),\n",
    "    zero_weights=pd.NamedAgg(column='product_weight_in_grams', aggfunc=lambda x: (x == 0).sum())\n",
    ")\n",
    "\n",
    "# Print the results\n",
    "print(\"Zero weights by category:\")\n",
    "print(zero_weights_by_category)\n",
    "\n",
    "print(\"\\nTotal products and zero weights by category:\")\n",
    "print(total_and_zero_by_category)"
   ]
  },
  {
   "cell_type": "code",
   "execution_count": 28,
   "id": "d49a5d0e",
   "metadata": {},
   "outputs": [
    {
     "name": "stdout",
     "output_type": "stream",
     "text": [
      "Products with zero weights in 'Bread / Bakery_Bread_Packaged':\n",
      "226                             bimbo bagels clasicos 4u\n",
      "8214    bimbo bony bizcocho relleno cubierto de cacao 3u\n",
      "9554                               baguette schar 2 uds.\n",
      "Name: product_name, dtype: object\n"
     ]
    }
   ],
   "source": [
    "# Filter for the specific category and zero weights\n",
    "specific_category_zero_weights = df_cleaned[\n",
    "    (df_cleaned['master_category_names'] == \"Bread / Bakery_Bread_Packaged\") &\n",
    "    (df_cleaned['product_weight_in_grams'] == 0)\n",
    "]\n",
    "\n",
    "# Select the product names of the filtered results\n",
    "product_names_with_zero_weights = specific_category_zero_weights['product_name']\n",
    "\n",
    "# Print \n",
    "print(\"Products with zero weights in 'Bread / Bakery_Bread_Packaged':\")\n",
    "print(product_names_with_zero_weights)"
   ]
  },
  {
   "cell_type": "code",
   "execution_count": 29,
   "id": "dae41cfd",
   "metadata": {},
   "outputs": [
    {
     "name": "stdout",
     "output_type": "stream",
     "text": [
      "Products with zero weights in 'Dairy / Chilled / Eggs_Dairy / Eggs_Eggs':\n",
      "147      huevos frescos categoria a clase xl huevos gar...\n",
      "400      huevos frescos categoria a clase m huevos garr...\n",
      "734      huevos frescos categoria a clase l huevos garr...\n",
      "862      huevos frescos maiz categoria a clase l demill...\n",
      "1696     huevos frescos maiz categ a clase m grupo de l...\n",
      "4504     huevos frescos categoria a clase m rita y pita...\n",
      "4552     huevos frescos categoria a clase xl estuche 6 ...\n",
      "4803     huevos gallinas en suelo cat. a clase l la rec...\n",
      "5005     huevos frescos categoria a clase l rita y pita...\n",
      "5790     huevos camperos categoria a clase m/l la recet...\n",
      "6700     huevos frescos categoria a clase l estuche 12 ...\n",
      "6982     huevos ecologicos categoria a clase m/l la rec...\n",
      "7344     huevos frescos categoria a clase m estuche 12 ...\n",
      "8332     huevos frescos categoria a clase m la receta 2...\n",
      "8790     huevos frescos categoria a clase l aldeovo 12 ...\n",
      "9186     huevos gallinas en suelo cat. a clase m la rec...\n",
      "9204     huevos frescos categoria a clase m huevos garr...\n",
      "10357                     huevos de codorniz co'ok 12 uds.\n",
      "11353    huevos frescos categoria a clase m aldeovo 12 ...\n",
      "Name: product_name, dtype: object\n"
     ]
    }
   ],
   "source": [
    "# Filter for the specific category and zero weights\n",
    "specific_category_zero_weights = df_cleaned[\n",
    "    (df_cleaned['master_category_names'] == \"Dairy / Chilled / Eggs_Dairy / Eggs_Eggs\") &\n",
    "    (df_cleaned['product_weight_in_grams'] == 0)\n",
    "]\n",
    "\n",
    "# Select the product names of the filtered results\n",
    "product_names_with_zero_weights = specific_category_zero_weights['product_name']\n",
    "\n",
    "# Print\n",
    "print(\"Products with zero weights in 'Dairy / Chilled / Eggs_Dairy / Eggs_Eggs':\")\n",
    "print(product_names_with_zero_weights)"
   ]
  },
  {
   "cell_type": "markdown",
   "id": "357c0150",
   "metadata": {},
   "source": [
    "Manually checked, these products don't have their weights "
   ]
  },
  {
   "cell_type": "markdown",
   "id": "a22d7761",
   "metadata": {},
   "source": [
    "### 1.4 IDENTIFYING MISSING 'master_category_names'"
   ]
  },
  {
   "cell_type": "code",
   "execution_count": 30,
   "id": "4b01b2eb",
   "metadata": {},
   "outputs": [
    {
     "name": "stdout",
     "output_type": "stream",
     "text": [
      "Unique Master Category Names:\n",
      "['dairy / chilled / eggs_dairy / eggs_cheese'\n",
      " 'packaged foods_cooking / condiments / baking / herbs / spices_condiments'\n",
      " 'packaged foods_cooking / condiments / baking / herbs / spices_baking'\n",
      " 'bws_spirits_liqueurs / creams'\n",
      " 'packaged foods_canned / jarred / instant meals_instant meals'\n",
      " 'meat / seafood_fish / seafood_fish'\n",
      " 'beverages_juice / ice tea / sports / energy_energy'\n",
      " 'snacks_confectionary_chocolate' 'bread / bakery_bread_packaged'\n",
      " 'produce_fruit_other' 'dairy / chilled / eggs_deli / snacking_deli meat'\n",
      " 'beverages_juice / ice tea / sports / energy_juice'\n",
      " 'dairy / chilled / eggs_dairy / eggs_yoghurt'\n",
      " 'packaged foods_canned / jarred / instant meals_canned vegetables'\n",
      " 'personal care / baby / health_personal care / beauty_skin care'\n",
      " 'personal care / baby / health_personal care / beauty_hair care'\n",
      " 'home / pet_cleaning / laundry_cleaning'\n",
      " 'personal care / baby / health_personal care / beauty_body products'\n",
      " 'packaged foods_canned / jarred / instant meals_canned meat / seafood'\n",
      " 'meat / seafood_meat_pork' 'beverages_soft drinks / mixers_cola'\n",
      " 'frozen_frozen meat / seafood_seafood' 'packaged foods_tea / coffee_tea'\n",
      " 'bws_beer / cider_lager' 'home / pet_pet_cat'\n",
      " 'bread / bakery_sweet bakery_packaged' 'bws_wine / sparkling wine_rose'\n",
      " 'snacks_salty snacks_chips' 'packaged foods_pasta / rice / grains_rice'\n",
      " 'home / pet_household_pest control'\n",
      " 'packaged foods_breakfast / spreads_cereals'\n",
      " 'bws_wine / sparkling wine_red'\n",
      " 'personal care / baby / health_baby_baby food'\n",
      " 'packaged foods_breakfast / spreads_jam'\n",
      " 'snacks_salty snacks_nuts / seeds' 'bws_spirits_gin'\n",
      " 'produce_fruit_apples / pears'\n",
      " 'packaged foods_cooking / condiments / baking / herbs / spices_salt / pepper / seasoning'\n",
      " 'home / pet_household_household essentials'\n",
      " 'personal care / baby / health_personal care / beauty_feminine care'\n",
      " 'personal care / baby / health_baby_baby hygiene'\n",
      " 'home / pet_cleaning / laundry_laundry'\n",
      " 'beverages_soft drinks / mixers_lemon / lime' 'bws_spirits_whisky'\n",
      " 'beverages_water_still'\n",
      " 'frozen_frozen convenience / bakery_ready to cook meals'\n",
      " 'bws_spirits_rum' 'frozen_ice cream / desserts_ice cream'\n",
      " 'home / pet_disposables_tableware' 'snacks_confectionary_candies'\n",
      " 'home / pet_pet_dog'\n",
      " 'dairy / chilled / eggs_deli / snacking_deli seafood'\n",
      " 'personal care / baby / health_health_hygiene'\n",
      " 'personal care / baby / health_personal care / beauty_deodorants'\n",
      " 'packaged foods_pasta / rice / grains_pastas'\n",
      " 'packaged foods_breakfast / spreads_spreads'\n",
      " 'home / pet_disposables_cleaning tools'\n",
      " 'packaged foods_tea / coffee_coffee' 'snacks_confectionary_biscuits'\n",
      " 'dairy / chilled / eggs_milk_long life / uht'\n",
      " 'packaged foods_canned / jarred / instant meals_canned fruits'\n",
      " 'dairy / chilled / eggs_dairy / eggs_eggs'\n",
      " 'bws_wine / sparkling wine_sparkling wine' 'snacks_confectionary_popcorn'\n",
      " 'personal care / baby / health_personal care / beauty_shaving / hair removal'\n",
      " 'personal care / baby / health_personal care / beauty_perfumes'\n",
      " 'meat / seafood_poultry_chicken'\n",
      " 'bws_wine / sparkling wine_fortified wine'\n",
      " 'personal care / baby / health_personal care / beauty_oral care'\n",
      " 'bws_beer / cider_shandy / flavored beer'\n",
      " 'home / pet_hardware / misc_home tools'\n",
      " 'beverages_juice / ice tea / sports / energy_ice tea'\n",
      " 'ready to consume_food_individual meals'\n",
      " 'dairy / chilled / eggs_dairy / eggs_butter / margarine'\n",
      " 'bws_spirits_others'\n",
      " 'personal care / baby / health_baby_baby nappy / diaper'\n",
      " 'home / pet_disposables_paper products'\n",
      " 'dairy / chilled / eggs_dairy / eggs_dessert' nan\n",
      " 'snacks_salty snacks_salty crackers / pretzels'\n",
      " 'packaged foods_pasta / rice / grains_pulses / grains'\n",
      " 'bread / bakery_bread_freshly baked' 'beverages_water_sparkling'\n",
      " 'dairy / chilled / eggs_dairy / eggs_cream'\n",
      " 'meat / seafood_meat_beef / veal' 'beverages_specialty_other'\n",
      " 'ready to consume_beverages_rtd iced coffee'\n",
      " 'beverages_soft drinks / mixers_other soft drinks'\n",
      " 'produce_prepared f&v / fresh herbs\\n_herbs'\n",
      " 'frozen_frozen fruit / vegetables / potato_vegetables'\n",
      " 'personal care / baby / health_health_sexual wellness'\n",
      " 'bws_beer / cider_craft' 'bws_beer / cider_cider'\n",
      " 'packaged foods_special diet_meal replacements'\n",
      " 'produce_vegetables_regular'\n",
      " 'beverages_juice / ice tea / sports / energy_sports'\n",
      " 'personal care / baby / health_personal care / beauty_cosmetics'\n",
      " 'produce_fruit_kiwi'\n",
      " 'packaged foods_canned / jarred / instant meals_pickled fruit'\n",
      " 'ready to consume_food_soups' 'snacks_salty snacks_dips'\n",
      " 'bws_spirits_vodka'\n",
      " 'personal care / baby / health_personal care / beauty_body wash / soaps'\n",
      " 'home / pet_hardware / misc_household essentials'\n",
      " 'packaged foods_tea / coffee_powdered drinks'\n",
      " 'personal care / baby / health_health_vitamins / supplements'\n",
      " 'home / pet_disposables_waste bags' 'home / pet_household_candles'\n",
      " 'snacks_confectionary_gums'\n",
      " 'produce_prepared f&v / fresh herbs\\n_prepared fruits'\n",
      " 'personal care / baby / health_health_medications'\n",
      " 'frozen_frozen fruit / vegetables / potato_potatoes'\n",
      " 'home / pet_disposables_food storage / wraps' 'home / pet_pet_others'\n",
      " 'packaged foods_breakfast / spreads_honey'\n",
      " 'packaged foods_canned / jarred / instant meals_canned olives'\n",
      " 'beverages_soft drinks / mixers_tonic' 'bws_beer / cider_other beers'\n",
      " 'bws_beer / cider_alcohol free'\n",
      " 'packaged foods_desserts_puddings / pudding powder'\n",
      " 'dairy / chilled / eggs_milk_milk alternatives'\n",
      " 'bws_wine / sparkling wine_white' 'snacks_other snacks_protein snacks'\n",
      " 'beverages_specialty_kombucha' 'bws_wine / sparkling wine_dessert wine'\n",
      " 'dairy / chilled / eggs_milk_condensed / evaporated milk'\n",
      " 'personal care / baby / health_baby_baby accessories'\n",
      " 'ready to consume_beverages_rtd chocolate'\n",
      " 'dairy / chilled / eggs_milk_fresh milk'\n",
      " 'dairy / chilled / eggs_ready meals_fresh pasta' 'produce_fruit_berries'\n",
      " 'beverages_soft drinks / mixers_orange'\n",
      " 'general merchandise_apparel / footwear / sports equipment_sports'\n",
      " 'frozen_frozen convenience / bakery_ready to cook meat / seafood'\n",
      " 'frozen_frozen meat / seafood_poultry' 'beverages_water_flavoured'\n",
      " 'snacks_salty snacks_specialty snacks'\n",
      " 'produce_prepared f&v / fresh herbs\\n_dried fruits'\n",
      " 'bws_pre-mixed_aperitif mixer' 'bws_spirits_fruits'\n",
      " 'packaged foods_breakfast / spreads_syrup'\n",
      " 'ready to consume_beverages_others' 'ready to consume_food_snacks'\n",
      " 'frozen_frozen fruit / vegetables / potato_fruits'\n",
      " 'dairy / chilled / eggs_milk_milk powder' 'ready to consume_food_salads'\n",
      " 'frozen_frozen convenience / bakery_bakery'\n",
      " 'frozen_ice cream / desserts_desserts'\n",
      " 'dairy / chilled / eggs_deli / snacking_snacking'\n",
      " 'dairy / chilled / eggs_ready meals_dips / chilled sauses'\n",
      " 'general merchandise_electronics_other electronics'\n",
      " 'packaged foods_special diet_sliming aids'\n",
      " 'beverages_soft drinks / mixers_other mixers'\n",
      " 'packaged foods_desserts_jelly / jelly powder'\n",
      " 'packaged foods_desserts_other desserts flours' 'bws_spirits_cognac'\n",
      " 'bws_pre-mixed_other mixer' 'produce_vegetables_organic'\n",
      " 'home / pet_household_kitchen utensils'\n",
      " 'home / pet_hardware / misc_stationanery'\n",
      " 'personal care / baby / health_health_adult diapers'\n",
      " 'bws_pre-mixed_wine mixer' 'packaged foods_tea / coffee_accesories'\n",
      " 'bws_wine / sparkling wine_non-alcoholic wine / others'\n",
      " 'frozen_frozen meat / seafood_meat'\n",
      " 'home / pet_seasonal / occasion_occassions'\n",
      " 'personal care / baby / health_baby_maternity' 'frozen_ice_crushed ice'\n",
      " 'meat / seafood_fish / seafood_mixed / salads' 'frozen_ice_ice cubes'\n",
      " 'meat / seafood_meat_others' 'produce_fruit_exotic fruits'\n",
      " 'dairy / chilled / eggs_ready meals_other microwave dishes'\n",
      " 'meat / seafood_poultry_turkey' 'beverages_specialty_organic sodas']\n"
     ]
    }
   ],
   "source": [
    "# Trim whitespace and correct case issues\n",
    "df_cleaned['master_category_names'] = df_cleaned['master_category_names'].str.strip().str.lower()\n",
    "\n",
    "# List unique categories\n",
    "unique_categories = df_cleaned['master_category_names'].unique()\n",
    "print(\"Unique Master Category Names:\")\n",
    "print(unique_categories)"
   ]
  },
  {
   "cell_type": "code",
   "execution_count": 31,
   "id": "21da6eb0",
   "metadata": {},
   "outputs": [
    {
     "name": "stdout",
     "output_type": "stream",
     "text": [
      "\n",
      "Category Distribution:\n",
      "personal care / baby / health_personal care / beauty_skin care          349\n",
      "personal care / baby / health_personal care / beauty_hair care          342\n",
      "home / pet_cleaning / laundry_cleaning                                  301\n",
      "snacks_confectionary_chocolate                                          279\n",
      "packaged foods_canned / jarred / instant meals_canned meat / seafood    270\n",
      "                                                                       ... \n",
      "beverages_soft drinks / mixers_other mixers                               1\n",
      "general merchandise_electronics_other electronics                         1\n",
      "bws_spirits_fruits                                                        1\n",
      "produce_fruit_berries                                                     1\n",
      "beverages_specialty_organic sodas                                         1\n",
      "Name: master_category_names, Length: 174, dtype: int64\n"
     ]
    }
   ],
   "source": [
    "# Frequency distribution of categories\n",
    "category_distribution = df_cleaned['master_category_names'].value_counts()\n",
    "print(\"\\nCategory Distribution:\")\n",
    "print(category_distribution)"
   ]
  },
  {
   "cell_type": "code",
   "execution_count": 32,
   "id": "08d24a3f",
   "metadata": {},
   "outputs": [
    {
     "name": "stdout",
     "output_type": "stream",
     "text": [
      "Products with Missing Category Names:\n",
      "217      pack 4 latas nestea + 4 latas nestea limon sin...\n",
      "427                      pack pizza  + refresco de naranja\n",
      "434               pack cerveza mahou 5 estrellas + triskys\n",
      "637           pack gyozas pollo vici + salsa soja kikkoman\n",
      "739              pack red bull + ginebra tanqueray + hielo\n",
      "780      pack 4 latas bebida energetica monster regular...\n",
      "831              pack merienda leche + croissants de cacao\n",
      "844                            pack canelones carne y atun\n",
      "908                           pack 4 latas monster sabores\n",
      "1529                                   pack 6 latas sprite\n",
      "1566     pack nocilla original+ nocilla choco leche + p...\n",
      "1631                        pack pizza + helados + cerveza\n",
      "1762                      pack tallarines y macarrones dia\n",
      "1851     pack pizza jamon queso dia al punto envase + c...\n",
      "2023     pack airwick electrico nenuco aparato + 3 reca...\n",
      "2787                        pack tomate frito y huevos dia\n",
      "3022                             pack queso y pan de molde\n",
      "3171                pack finish all in one + abrillantador\n",
      "3480     pack 3 latas fanta zero naranja + 3 latas fant...\n",
      "3737                                pack flautas la broche\n",
      "3782                        pack pizza  + refresco de cola\n",
      "4213                pack panales talla 3 + toallitas bebes\n",
      "4237     pack helado cookie dough ben&jerry's + bolitas...\n",
      "4432                                   pack pizzas buitoni\n",
      "4533         pack papel wc + papel de cocina + servilletas\n",
      "5652                pack red bull + vodka smirnoff + hielo\n",
      "5711                                  pack pan y leche dia\n",
      "6123                               pack canelones y lasana\n",
      "6309                      pack mozzarella y masa pizza dia\n",
      "6326                                       pack snack maiz\n",
      "6713                                  pack pan y queso dia\n",
      "7482                                      pack ahoy y oreo\n",
      "7631                pack panales talla 4 + toallitas bebes\n",
      "7725                pack finish powerball + limpiamaquinas\n",
      "7959                  pack macarrones con tomate frito dia\n",
      "8866                pack coca cola + pizza caprese buitoni\n",
      "9262                                      pack hamburguesa\n",
      "9929           pack merienda leche + galletas de chocolate\n",
      "11997                     pack 4 x red bull sandia 250 ml.\n",
      "12081    pack coca cola botella 1,25l + pizza barbacoa ...\n",
      "Name: product_name_english, dtype: object\n"
     ]
    }
   ],
   "source": [
    "# Filter rows where 'master_category_names' is missing\n",
    "missing_category_df = df_cleaned[df_cleaned['master_category_names'].isna()]\n",
    "\n",
    "# Select 'product_name_english' from these filtered rows\n",
    "missing_category_products = missing_category_df['product_name_english']\n",
    "\n",
    "# Print the product names with missing category names\n",
    "print(\"Products with Missing Category Names:\")\n",
    "print(missing_category_products)"
   ]
  },
  {
   "cell_type": "markdown",
   "id": "05256e90",
   "metadata": {},
   "source": [
    "There are 99 products with missing master_category_names. These products, when checking their product_name_english, the name is in spanish or wrong translated (like \"product_name\"), not translated. "
   ]
  },
  {
   "cell_type": "markdown",
   "id": "37d50866",
   "metadata": {},
   "source": [
    "Most of these products are packs. These packs have different category products, such as pack pizza + refresco de naranja (a pizza and a drink), thus, it belongs to none of the categories OR two of the categories. After further inspection, we decide to filter out these rows."
   ]
  },
  {
   "cell_type": "code",
   "execution_count": 33,
   "id": "2907a0ab",
   "metadata": {},
   "outputs": [
    {
     "name": "stdout",
     "output_type": "stream",
     "text": [
      "Non-Pack Products with Missing Category Names:\n",
      "Series([], Name: product_name_english, dtype: object)\n"
     ]
    }
   ],
   "source": [
    "# Filter rows where 'master_category_names' is missing and 'product_name_english' does not contain 'pack'\n",
    "missing_category_non_pack_products = df_cleaned[\n",
    "    (df_cleaned['master_category_names'].isna()) & \n",
    "    (~df_cleaned['product_name_english'].str.lower().str.contains(\"pack\"))\n",
    "]\n",
    "\n",
    "# Select 'product_name_english' from these filtered rows\n",
    "non_pack_product_names = missing_category_non_pack_products['product_name_english']\n",
    "\n",
    "# Print the product names with missing category names that do not contain 'pack'\n",
    "print(\"Non-Pack Products with Missing Category Names:\")\n",
    "print(non_pack_product_names)"
   ]
  },
  {
   "cell_type": "markdown",
   "id": "8fe8192e",
   "metadata": {},
   "source": [
    "They are all packs."
   ]
  },
  {
   "cell_type": "code",
   "execution_count": 34,
   "id": "e9735767",
   "metadata": {},
   "outputs": [
    {
     "name": "stdout",
     "output_type": "stream",
     "text": [
      "Filtered DataFrame (without rows containing 'pack' and missing master category names):\n",
      "      product_external_id                                       product_name  \\\n",
      "0                  292092  queso de oveja curado insolito el cencerro 200...   \n",
      "1                     101        aceite refinado de girasol dia botella 1 l.   \n",
      "2                  197503           levadura en polvo delimagic sobre 90 gr.   \n",
      "3                  279225   licor de mora sin alcohol sonador botella 70 cl.   \n",
      "4                  189160       caldo casero de verduras gallina blanca 1 l.   \n",
      "...                   ...                                                ...   \n",
      "14801              221535      pasta fusilloni dia delicious paquete 500 gr.   \n",
      "14802              258818  balsamo reparador multiuso argan pieles secas ...   \n",
      "14803              190036  queso de oveja curado el gran cardenal cuna 25...   \n",
      "14820              224310             bloc wc dia floral activo blister 1 ud   \n",
      "14824              240868  preparado para pastel de zanahoria dr oetker c...   \n",
      "\n",
      "       product_description  product_price  \\\n",
      "0                      NaN           3.66   \n",
      "1                      NaN           1.53   \n",
      "2                      NaN           0.81   \n",
      "3                      NaN           2.55   \n",
      "4                      NaN           2.39   \n",
      "...                    ...            ...   \n",
      "14801                  NaN           1.60   \n",
      "14802                  NaN           6.99   \n",
      "14803                  NaN           4.61   \n",
      "14820                  NaN           1.53   \n",
      "14824                  NaN           4.99   \n",
      "\n",
      "                                       product_image_url  \\\n",
      "0      https://images.deliveryhero.io/image/global-ca...   \n",
      "1      https://images.deliveryhero.io/image/global-ca...   \n",
      "2      https://images.deliveryhero.io/image/global-ca...   \n",
      "3      https://images.deliveryhero.io/image/global-ca...   \n",
      "4      https://images.deliveryhero.io/image/global-ca...   \n",
      "...                                                  ...   \n",
      "14801  https://images.deliveryhero.io/image/pim-glovo...   \n",
      "14802  https://images.deliveryhero.io/image/pim-glovo...   \n",
      "14803  https://images.deliveryhero.io/image/global-ca...   \n",
      "14820  https://images.deliveryhero.io/image/pim-glovo...   \n",
      "14824  https://images.deliveryhero.io/image/pim-glovo...   \n",
      "\n",
      "                             groups_collections_sections  \\\n",
      "0      [[1, [['Huevos y Lácteos', None, 15038, 'e19cf...   \n",
      "1      [[1, [['Despensa', None, 15120, '230a3305-6da7...   \n",
      "2      [[1, [['Despensa', None, 15120, '230a3305-6da7...   \n",
      "3      [[1, [['Cervezas, Destilados y Vinos', None, 1...   \n",
      "4      [[1, [['Despensa', None, 15120, '230a3305-6da7...   \n",
      "...                                                  ...   \n",
      "14801  [[1, [['Basurita', None, 29039, 'c276f090-c6f1...   \n",
      "14802  [[1, [['Basurita', None, 29039, 'c276f090-c6f1...   \n",
      "14803  [[1, [['Huevos y Lácteos', None, 15038, 'e19cf...   \n",
      "14820  [[1, [['Droguería y Limpieza', None, 15401, '4...   \n",
      "14824  [[1, [['Basurita', None, 29039, 'c276f090-c6f1...   \n",
      "\n",
      "            product_master_code  \\\n",
      "0      6579bd2fc8e2245b73e99fb2   \n",
      "1      65525334e2bbfd215f410ae2   \n",
      "2      656628e878313924cbbce36d   \n",
      "3      6567481e7d628aebbc57baa9   \n",
      "4      64ba3d30023801b0a39aa217   \n",
      "...                         ...   \n",
      "14801  656628ff78313924cbbcf02e   \n",
      "14802  656626b978313924cbbbb79a   \n",
      "14803  64c2cd0ef0db0d43dfe1c0ad   \n",
      "14820  656626bb78313924cbbbb88f   \n",
      "14824  656626d878313924cbbbc784   \n",
      "\n",
      "                                   master_category_names   product_brand  \\\n",
      "0             dairy / chilled / eggs_dairy / eggs_cheese     el cencerro   \n",
      "1      packaged foods_cooking / condiments / baking /...          diasol   \n",
      "2      packaged foods_cooking / condiments / baking /...             dia   \n",
      "3                          bws_spirits_liqueurs / creams         sonador   \n",
      "4      packaged foods_canned / jarred / instant meals...  gallina blanca   \n",
      "...                                                  ...             ...   \n",
      "14801        packaged foods_pasta / rice / grains_pastas             dia   \n",
      "14802  personal care / baby / health_personal care / ...         garnier   \n",
      "14803         dairy / chilled / eggs_dairy / eggs_cheese    unknownbrand   \n",
      "14820             home / pet_cleaning / laundry_cleaning       unbranded   \n",
      "14824  packaged foods_cooking / condiments / baking /...       dr oetker   \n",
      "\n",
      "       product_weight_in_grams  \\\n",
      "0                        195.0   \n",
      "1                       1021.0   \n",
      "2                         75.0   \n",
      "3                        728.0   \n",
      "4                       1000.0   \n",
      "...                        ...   \n",
      "14801                    510.0   \n",
      "14802                     50.0   \n",
      "14803                    243.0   \n",
      "14820                      0.0   \n",
      "14824                    347.0   \n",
      "\n",
      "                                    product_name_english  extracted_weight  \n",
      "0        insolito el cencerro cured sheep cheese 200 gr.             195.0  \n",
      "1                          diasol sunflower food oil 1 l            1021.0  \n",
      "2      dia delimagic baking powder box 5 sachets of 1...              75.0  \n",
      "3      alcohol free blackberry liqueur sonador bottle...             728.0  \n",
      "4                      gallina blanca vegetable broth 1l            1000.0  \n",
      "...                                                  ...               ...  \n",
      "14801      fusilloni pasta dia delicious package 500 gr.             510.0  \n",
      "14802  multi purpose repair balm argan dry skin garni...              50.0  \n",
      "14803  el gran cardinal br maturata sheep from raw mi...             243.0  \n",
      "14820                 floral active day wc block blister               0.0  \n",
      "14824                 carrot cake mix dr oetker box 350g             347.0  \n",
      "\n",
      "[8442 rows x 12 columns]\n",
      "Rows that still contain 'pack' and have missing master category names:\n",
      "Empty DataFrame\n",
      "Columns: [product_external_id, product_name, product_description, product_price, product_image_url, groups_collections_sections, product_master_code, master_category_names, product_brand, product_weight_in_grams, product_name_english, extracted_weight]\n",
      "Index: []\n"
     ]
    }
   ],
   "source": [
    "# Remove all rows where 'product_name_english' contains 'pack' and 'master_category_names' is missing\n",
    "filtered_df = df_cleaned[\n",
    "    ~(df_cleaned['product_name_english'].str.lower().str.contains('pack') & df_cleaned['master_category_names'].isna())\n",
    "]\n",
    "\n",
    "remaining_pack_rows = filtered_df[\n",
    "    filtered_df['product_name_english'].str.lower().str.contains('pack') & filtered_df['master_category_names'].isna()\n",
    "]\n",
    "\n",
    "# Print\n",
    "print(\"Filtered DataFrame (without rows containing 'pack' and missing master category names):\")\n",
    "print(filtered_df)\n",
    "print(\"Rows that still contain 'pack' and have missing master category names:\")\n",
    "print(remaining_pack_rows)"
   ]
  },
  {
   "cell_type": "markdown",
   "id": "91c43e17",
   "metadata": {},
   "source": [
    "Filtered out all packs."
   ]
  },
  {
   "cell_type": "markdown",
   "id": "7697f72a",
   "metadata": {},
   "source": [
    "### 1.5 EXTRACTING PRODUCT QUANTITY FROM ROWS OF MISSING WEIGHT"
   ]
  },
  {
   "cell_type": "code",
   "execution_count": 35,
   "id": "6618250b",
   "metadata": {},
   "outputs": [],
   "source": [
    "# Filter rows where product_weight_in_grams is missing or zero\n",
    "missing_weight_df = filtered_df[(filtered_df['product_weight_in_grams'].isna()) | (filtered_df['product_weight_in_grams'] == 0)]"
   ]
  },
  {
   "cell_type": "code",
   "execution_count": 36,
   "id": "0bdca8f0",
   "metadata": {},
   "outputs": [
    {
     "name": "stdout",
     "output_type": "stream",
     "text": [
      "                                    product_name_english  \\\n",
      "19     super absorbent extra soft yellow cloth baller...   \n",
      "37                        colorcrem bleaching kit 1 unit   \n",
      "42                    cockroach trap home garden 6 units   \n",
      "45         makeup remover wipes normal skin bonte 30 pcs   \n",
      "61              dia super paco glass cleaning cloth 1 pc   \n",
      "...                                                  ...   \n",
      "14662   ginger with lemon infusion teteria box 25 units.   \n",
      "14765                       icy brown dye no. 4 86 syoss   \n",
      "14768  violet microcapsule dia concentrated fabric so...   \n",
      "14796           airwick freshmatic flowers refill 2 pcs.   \n",
      "14820                 floral active day wc block blister   \n",
      "\n",
      "       product_weight_in_grams  product_in_quantities  \n",
      "19                         0.0                    3.0  \n",
      "37                         0.0                    1.0  \n",
      "42                         0.0                    6.0  \n",
      "45                         0.0                   30.0  \n",
      "61                         0.0                    1.0  \n",
      "...                        ...                    ...  \n",
      "14662                      0.0                   25.0  \n",
      "14765                      0.0                    NaN  \n",
      "14768                      0.0                   80.0  \n",
      "14796                      0.0                    2.0  \n",
      "14820                      0.0                    NaN  \n",
      "\n",
      "[955 rows x 3 columns]\n"
     ]
    },
    {
     "name": "stderr",
     "output_type": "stream",
     "text": [
      "/var/folders/fz/xvxn_12s2pb4l91f7r0h6q4c0000gn/T/ipykernel_60157/1706658552.py:11: SettingWithCopyWarning: \n",
      "A value is trying to be set on a copy of a slice from a DataFrame.\n",
      "Try using .loc[row_indexer,col_indexer] = value instead\n",
      "\n",
      "See the caveats in the documentation: https://pandas.pydata.org/pandas-docs/stable/user_guide/indexing.html#returning-a-view-versus-a-copy\n",
      "  filtered_df.loc[filtered_df['product_weight_in_grams'] == 0, 'product_in_quantities'] = filtered_df['product_name_english'].apply(extract_units_from_name)\n"
     ]
    }
   ],
   "source": [
    "# Function to extract units/quantities from product names\n",
    "def extract_units_from_name(product_name):\n",
    "    pattern = re.compile(r'(\\d+)\\s*(?:x|X|pcs|pcs\\.|pc|pc\\.|packets|packets\\.|units|units\\.|unit|unit\\.|un|un\\.|lv|lv\\.|loads|loads\\.|tablets|tablets\\.|scoops|scoops\\.|sheets|sheets\\.|pair|pair\\.|doses|doses\\.|sachets|sachets\\.|rolls|rolls\\.|shakes|shakes\\.|washes|washes\\.|bags|bags\\.|vials|vials\\.|packs|packs\\.|packs\\b)\\s*(\\d+)?')\n",
    "    match = pattern.search(product_name)\n",
    "    \n",
    "    if match:\n",
    "        quantity = int(match.group(1))\n",
    "        return quantity\n",
    "    return None\n",
    "\n",
    "filtered_df.loc[filtered_df['product_weight_in_grams'] == 0, 'product_in_quantities'] = filtered_df['product_name_english'].apply(extract_units_from_name)\n",
    "\n",
    "# Print \n",
    "missing_weight_df = filtered_df[filtered_df['product_weight_in_grams'] == 0]\n",
    "print(missing_weight_df[['product_name_english', 'product_weight_in_grams', 'product_in_quantities']])"
   ]
  },
  {
   "cell_type": "code",
   "execution_count": 37,
   "id": "eee091d2",
   "metadata": {},
   "outputs": [
    {
     "name": "stdout",
     "output_type": "stream",
     "text": [
      "Rows with NaN in 'product_in_quantities':\n",
      "                            product_name_english  product_weight_in_grams  \\\n",
      "65                                green cha 25 a                      0.0   \n",
      "110              printed super resistant mop dia                      0.0   \n",
      "213      mega jumbo kitchen roll scottex 1 roll.                      0.0   \n",
      "226                  bimbo bagel classic 300g x4                      0.0   \n",
      "270      special cotton mop for difficult floors                      0.0   \n",
      "...                                          ...                      ...   \n",
      "14420               kitchen paper absorption dia                      0.0   \n",
      "14514                      oven paper fliss 8 m.                      0.0   \n",
      "14600  scented gardenia flower air freshener dia                      0.0   \n",
      "14765               icy brown dye no. 4 86 syoss                      0.0   \n",
      "14820         floral active day wc block blister                      0.0   \n",
      "\n",
      "       product_in_quantities  \n",
      "65                       NaN  \n",
      "110                      NaN  \n",
      "213                      NaN  \n",
      "226                      NaN  \n",
      "270                      NaN  \n",
      "...                      ...  \n",
      "14420                    NaN  \n",
      "14514                    NaN  \n",
      "14600                    NaN  \n",
      "14765                    NaN  \n",
      "14820                    NaN  \n",
      "\n",
      "[148 rows x 3 columns]\n"
     ]
    }
   ],
   "source": [
    "# Filter rows where product_in_quantities is NaN and product_weight_in_grams is 0\n",
    "nan_quantity_df = filtered_df[(filtered_df['product_weight_in_grams'] == 0) & (filtered_df['product_in_quantities'].isna())]\n",
    "\n",
    "print(\"Rows with NaN in 'product_in_quantities':\")\n",
    "print(nan_quantity_df[['product_name_english', 'product_weight_in_grams', 'product_in_quantities']])"
   ]
  },
  {
   "cell_type": "code",
   "execution_count": 38,
   "id": "63e0b8d2",
   "metadata": {
    "scrolled": true
   },
   "outputs": [
    {
     "name": "stdout",
     "output_type": "stream",
     "text": [
      "Number of rows with NaN in 'product_in_quantities' and 'product_weight_in_grams' == 0: 50\n",
      "                                            product_name  \\\n",
      "110               fregona estampada super resistente dia   \n",
      "270    fregona de algodon especial para suelos dificiles   \n",
      "591    esparadrapo tejido sin tejer hipoalergenico bo...   \n",
      "619                papel de aluminio alumfix rollo 50 m.   \n",
      "704    tinte castano chocolate intensive creme no 3,6...   \n",
      "1180                  bonte tinte rubio no 8 rubio claro   \n",
      "1299           bayeta microfibra cristales y espejos dia   \n",
      "1484   insecticida electrico aparato + recambio casa ...   \n",
      "1588   tinte rubio extra claro no 110 garnier color s...   \n",
      "1611      tinte rubio claro intensive creme no 8 palette   \n",
      "1709                            rollo para todo colhogar   \n",
      "1726   ambientador absorbeolores aroma lavanda glade ...   \n",
      "2019               papel de aluminio alumfix rollo 30 m.   \n",
      "2035               film transparente filmfix rollo 80 m.   \n",
      "2171                    papel de alumnio dia rollo 30 m.   \n",
      "2200             bonte tinte castano no 3 castano oscuro   \n",
      "2312   tinte rojo intenso no 6.6 garnier color sensat...   \n",
      "2873   tinte rubio caramelo no6.35 garnier color sens...   \n",
      "3073            tinte negro intensive creme no 1 palette   \n",
      "3104   tinte castano oscuro intensive creme no 3 palette   \n",
      "3272   avecrem caldo de pollo % natural gallina blanc...   \n",
      "3443   ambientador tatami japones aparato + recambio ...   \n",
      "3870                     bolsa isotermica con velcro dia   \n",
      "4516              papel de aluminio dia super paco 30 m.   \n",
      "5116                        bonte tinte rubio no 7 rubio   \n",
      "5246   crema vinagre de modena frambuesa alina tu dia...   \n",
      "5263              film transparente dia super paco 80 m.   \n",
      "5325   cepillo de dientes colgate triple action refre...   \n",
      "5586              bonte tinte castano no 5 castano claro   \n",
      "5778         bonte tinte rubio no 8.3 rubio claro dorado   \n",
      "6183        mascarilla facial hidratante aguacate iroha.   \n",
      "6446     tinte rubio oscuro intensive creme no 6 palette   \n",
      "6449   aceite oliva arbequina dia almazara del olivar...   \n",
      "6924                  tinte rubio dorado no 7.3 nutrisse   \n",
      "7059                         papel de aluminio dia 50 m.   \n",
      "7579                   cepillo dental medio 360o colgate   \n",
      "7764               tinte rubio muy claro no 9.0 nutrisse   \n",
      "7778                    tinte chocolate no 5.35 nutrisse   \n",
      "8165                  film transparente dia rollo 100 m.   \n",
      "8382                   pano especial cristales limpiamas   \n",
      "8934                 bonte tinte rubio no 6 rubio oscuro   \n",
      "10744      discos activos aparato aroma lima fresca pato   \n",
      "11107                           lechuga del pais unidad.   \n",
      "11220             ambientador flor de rosa perfumada dia   \n",
      "11273  tinte negro azulado intensive creme no 1,1 pal...   \n",
      "11578  bayeta multifacil super absorbente spontex 2 +...   \n",
      "13387                 ambientador automatico dia aparato   \n",
      "14514                          papel de horno fliss 8 m.   \n",
      "14600            ambientador flor gardenia perfumada dia   \n",
      "14765         syoss tinte castano no 4 86 castano helado   \n",
      "\n",
      "       product_weight_in_grams  product_in_quantities  \n",
      "110                        0.0                    NaN  \n",
      "270                        0.0                    NaN  \n",
      "591                        0.0                    NaN  \n",
      "619                        0.0                    NaN  \n",
      "704                        0.0                    NaN  \n",
      "1180                       0.0                    NaN  \n",
      "1299                       0.0                    NaN  \n",
      "1484                       0.0                    NaN  \n",
      "1588                       0.0                    NaN  \n",
      "1611                       0.0                    NaN  \n",
      "1709                       0.0                    NaN  \n",
      "1726                       0.0                    NaN  \n",
      "2019                       0.0                    NaN  \n",
      "2035                       0.0                    NaN  \n",
      "2171                       0.0                    NaN  \n",
      "2200                       0.0                    NaN  \n",
      "2312                       0.0                    NaN  \n",
      "2873                       0.0                    NaN  \n",
      "3073                       0.0                    NaN  \n",
      "3104                       0.0                    NaN  \n",
      "3272                       0.0                    NaN  \n",
      "3443                       0.0                    NaN  \n",
      "3870                       0.0                    NaN  \n",
      "4516                       0.0                    NaN  \n",
      "5116                       0.0                    NaN  \n",
      "5246                       0.0                    NaN  \n",
      "5263                       0.0                    NaN  \n",
      "5325                       0.0                    NaN  \n",
      "5586                       0.0                    NaN  \n",
      "5778                       0.0                    NaN  \n",
      "6183                       0.0                    NaN  \n",
      "6446                       0.0                    NaN  \n",
      "6449                       0.0                    NaN  \n",
      "6924                       0.0                    NaN  \n",
      "7059                       0.0                    NaN  \n",
      "7579                       0.0                    NaN  \n",
      "7764                       0.0                    NaN  \n",
      "7778                       0.0                    NaN  \n",
      "8165                       0.0                    NaN  \n",
      "8382                       0.0                    NaN  \n",
      "8934                       0.0                    NaN  \n",
      "10744                      0.0                    NaN  \n",
      "11107                      0.0                    NaN  \n",
      "11220                      0.0                    NaN  \n",
      "11273                      0.0                    NaN  \n",
      "11578                      0.0                    NaN  \n",
      "13387                      0.0                    NaN  \n",
      "14514                      0.0                    NaN  \n",
      "14600                      0.0                    NaN  \n",
      "14765                      0.0                    NaN  \n"
     ]
    }
   ],
   "source": [
    "# Function to extract quantities using specific keywords\n",
    "def extract_specific_units(product_name):\n",
    "    pattern = re.compile(r'(\\d+)\\s*(?:u\\b|uds\\b|rollo\\b|ud\\b|lavados\\b|par\\b|bolsitas\\b|capsulas\\b|lv\\b)', re.IGNORECASE)\n",
    "    match = pattern.search(product_name)\n",
    "    \n",
    "    if match:\n",
    "        quantity = int(match.group(1))\n",
    "        return quantity\n",
    "    return None\n",
    "\n",
    "# Extract quantities directly into filtered_df\n",
    "filtered_df.loc[(filtered_df['product_weight_in_grams'] == 0) & (filtered_df['product_in_quantities'].isna()), 'product_in_quantities'] = \\\n",
    "    filtered_df.loc[(filtered_df['product_weight_in_grams'] == 0) & (filtered_df['product_in_quantities'].isna()), 'product_name'].apply(extract_specific_units)\n",
    "\n",
    "nan_quantity_df = filtered_df[\n",
    "    (filtered_df['product_weight_in_grams'] == 0) & \n",
    "    (filtered_df['product_in_quantities'].isna())\n",
    "]\n",
    "\n",
    "# Print\n",
    "print(f\"Number of rows with NaN in 'product_in_quantities' and 'product_weight_in_grams' == 0: {nan_quantity_df.shape[0]}\")\n",
    "print(nan_quantity_df[['product_name', 'product_weight_in_grams', 'product_in_quantities']])"
   ]
  },
  {
   "cell_type": "markdown",
   "id": "5debf4c3",
   "metadata": {},
   "source": [
    "Manually checked, most items have quantity 1 and therefore not specified in the product name."
   ]
  },
  {
   "cell_type": "code",
   "execution_count": 39,
   "id": "8b18b092",
   "metadata": {},
   "outputs": [
    {
     "name": "stdout",
     "output_type": "stream",
     "text": [
      "Rows with NaN in 'product_in_quantities' and 'product_weight_in_grams' == 0:\n",
      "                                            product_name  \\\n",
      "591    esparadrapo tejido sin tejer hipoalergenico bo...   \n",
      "619                papel de aluminio alumfix rollo 50 m.   \n",
      "1299           bayeta microfibra cristales y espejos dia   \n",
      "1484   insecticida electrico aparato + recambio casa ...   \n",
      "1709                            rollo para todo colhogar   \n",
      "1726   ambientador absorbeolores aroma lavanda glade ...   \n",
      "2019               papel de aluminio alumfix rollo 30 m.   \n",
      "2035               film transparente filmfix rollo 80 m.   \n",
      "2171                    papel de alumnio dia rollo 30 m.   \n",
      "3272   avecrem caldo de pollo % natural gallina blanc...   \n",
      "3443   ambientador tatami japones aparato + recambio ...   \n",
      "3870                     bolsa isotermica con velcro dia   \n",
      "4516              papel de aluminio dia super paco 30 m.   \n",
      "5246   crema vinagre de modena frambuesa alina tu dia...   \n",
      "5263              film transparente dia super paco 80 m.   \n",
      "6183        mascarilla facial hidratante aguacate iroha.   \n",
      "6449   aceite oliva arbequina dia almazara del olivar...   \n",
      "7059                         papel de aluminio dia 50 m.   \n",
      "8165                  film transparente dia rollo 100 m.   \n",
      "8382                   pano especial cristales limpiamas   \n",
      "10744      discos activos aparato aroma lima fresca pato   \n",
      "11107                           lechuga del pais unidad.   \n",
      "11220             ambientador flor de rosa perfumada dia   \n",
      "11578  bayeta multifacil super absorbente spontex 2 +...   \n",
      "13387                 ambientador automatico dia aparato   \n",
      "14514                          papel de horno fliss 8 m.   \n",
      "14600            ambientador flor gardenia perfumada dia   \n",
      "\n",
      "       product_weight_in_grams  product_in_quantities  \n",
      "591                        0.0                    NaN  \n",
      "619                        0.0                    NaN  \n",
      "1299                       0.0                    NaN  \n",
      "1484                       0.0                    NaN  \n",
      "1709                       0.0                    NaN  \n",
      "1726                       0.0                    NaN  \n",
      "2019                       0.0                    NaN  \n",
      "2035                       0.0                    NaN  \n",
      "2171                       0.0                    NaN  \n",
      "3272                       0.0                    NaN  \n",
      "3443                       0.0                    NaN  \n",
      "3870                       0.0                    NaN  \n",
      "4516                       0.0                    NaN  \n",
      "5246                       0.0                    NaN  \n",
      "5263                       0.0                    NaN  \n",
      "6183                       0.0                    NaN  \n",
      "6449                       0.0                    NaN  \n",
      "7059                       0.0                    NaN  \n",
      "8165                       0.0                    NaN  \n",
      "8382                       0.0                    NaN  \n",
      "10744                      0.0                    NaN  \n",
      "11107                      0.0                    NaN  \n",
      "11220                      0.0                    NaN  \n",
      "11578                      0.0                    NaN  \n",
      "13387                      0.0                    NaN  \n",
      "14514                      0.0                    NaN  \n",
      "14600                      0.0                    NaN  \n"
     ]
    }
   ],
   "source": [
    "# Set 'product_in_quantities' to 1 for rows where 'product_name' contains 'tinte'\n",
    "filtered_df.loc[filtered_df['product_name'].str.contains('tinte', case=False, na=False), 'product_in_quantities'] = 1\n",
    "\n",
    "# Set 'product_in_quantities' to 1 for rows where 'product_name' contains 'fregona'\n",
    "filtered_df.loc[filtered_df['product_name'].str.contains('fregona', case=False, na=False), 'product_in_quantities'] = 1\n",
    "\n",
    "# Set 'product_in_quantities' to 1 for rows where 'product_name' contains 'cepillo'\n",
    "filtered_df.loc[filtered_df['product_name'].str.contains('cepillo', case=False, na=False), 'product_in_quantities'] = 1\n",
    "\n",
    "nan_quantity_df = filtered_df[\n",
    "    (filtered_df['product_weight_in_grams'] == 0) & \n",
    "    (filtered_df['product_in_quantities'].isna())\n",
    "]\n",
    "\n",
    "# Print \n",
    "print(\"Rows with NaN in 'product_in_quantities' and 'product_weight_in_grams' == 0:\")\n",
    "print(nan_quantity_df[['product_name', 'product_weight_in_grams', 'product_in_quantities']])"
   ]
  },
  {
   "cell_type": "markdown",
   "id": "9d7bb367",
   "metadata": {},
   "source": [
    "Let 'tinte', 'fregona' and 'cepillo' = 1 because these items have 1 unit. "
   ]
  },
  {
   "cell_type": "code",
   "execution_count": 40,
   "id": "ea240ecd",
   "metadata": {},
   "outputs": [
    {
     "name": "stdout",
     "output_type": "stream",
     "text": [
      "Rows with NaN in 'product_in_quantities' and 'product_weight_in_grams' == 0 after manual update:\n",
      "                                            product_name  \\\n",
      "619                papel de aluminio alumfix rollo 50 m.   \n",
      "1726   ambientador absorbeolores aroma lavanda glade ...   \n",
      "2019               papel de aluminio alumfix rollo 30 m.   \n",
      "2035               film transparente filmfix rollo 80 m.   \n",
      "2171                    papel de alumnio dia rollo 30 m.   \n",
      "4516              papel de aluminio dia super paco 30 m.   \n",
      "5246   crema vinagre de modena frambuesa alina tu dia...   \n",
      "5263              film transparente dia super paco 80 m.   \n",
      "6449   aceite oliva arbequina dia almazara del olivar...   \n",
      "7059                         papel de aluminio dia 50 m.   \n",
      "8165                  film transparente dia rollo 100 m.   \n",
      "11220             ambientador flor de rosa perfumada dia   \n",
      "13387                 ambientador automatico dia aparato   \n",
      "14514                          papel de horno fliss 8 m.   \n",
      "14600            ambientador flor gardenia perfumada dia   \n",
      "\n",
      "       product_weight_in_grams  product_in_quantities  \n",
      "619                        0.0                    NaN  \n",
      "1726                       0.0                    NaN  \n",
      "2019                       0.0                    NaN  \n",
      "2035                       0.0                    NaN  \n",
      "2171                       0.0                    NaN  \n",
      "4516                       0.0                    NaN  \n",
      "5246                       0.0                    NaN  \n",
      "5263                       0.0                    NaN  \n",
      "6449                       0.0                    NaN  \n",
      "7059                       0.0                    NaN  \n",
      "8165                       0.0                    NaN  \n",
      "11220                      0.0                    NaN  \n",
      "13387                      0.0                    NaN  \n",
      "14514                      0.0                    NaN  \n",
      "14600                      0.0                    NaN  \n"
     ]
    }
   ],
   "source": [
    "# Manually updating product_in_quantities for specific rows based on product_name patterns\n",
    "def update_manual_quantities(filtered_df):\n",
    "    # Define a mapping of product names to manual quantities\n",
    "    manual_quantities = {\n",
    "        \"esparadrapo tejido sin tejer hipoalergenico bonte 5Mx2,5 Cm\": 5,\n",
    "        \"ambientador tatami japones aparato + recambio ambi pur.\": 2,\n",
    "        \"bolsa isotermica con velcro dia\": 1,\n",
    "        \"mascarilla facial hidratante aguacate iroha.\": 1,\n",
    "        \"pano especial cristales limpiamas\": 1,\n",
    "        \"bayeta microfibra cristales y espejos dia\": 1,\n",
    "        \"bayeta multifacil super absorbente spontex 2 + 1 gratis.\": 3,\n",
    "        \"insecticida electrico aparato + recambio casa jardin.\": 2,\n",
    "        \"rollo para todo colhogar\": 1,\n",
    "        \"avecrem caldo de pollo % natural gallina blanca estuche\": 10,\n",
    "        \"discos activos aparato aroma lima fresca pato\": 2,\n",
    "        \"lechuga del pais unidad.\": 1,\n",
    "        \n",
    "    }\n",
    "\n",
    "    for index, row in filtered_df.iterrows():\n",
    "        product_name = row['product_name']\n",
    "        for pattern, quantity in manual_quantities.items():\n",
    "            if pattern.lower() in product_name.lower():\n",
    "                filtered_df.loc[index, 'product_in_quantities'] = quantity\n",
    "                break\n",
    "\n",
    "update_manual_quantities(filtered_df)\n",
    "\n",
    "nan_quantity_df = filtered_df[\n",
    "    (filtered_df['product_weight_in_grams'] == 0) & \n",
    "    (filtered_df['product_in_quantities'].isna())\n",
    "]\n",
    "\n",
    "print(\"Rows with NaN in 'product_in_quantities' and 'product_weight_in_grams' == 0 after manual update:\")\n",
    "print(nan_quantity_df[['product_name', 'product_weight_in_grams', 'product_in_quantities']])"
   ]
  },
  {
   "cell_type": "code",
   "execution_count": 41,
   "id": "88e09ecf",
   "metadata": {},
   "outputs": [
    {
     "name": "stdout",
     "output_type": "stream",
     "text": [
      "Rows with NaN in 'product_in_quantities' and 'product_weight_in_grams' == 0:\n",
      "                                            product_name  \\\n",
      "619                papel de aluminio alumfix rollo 50 m.   \n",
      "2019               papel de aluminio alumfix rollo 30 m.   \n",
      "2035               film transparente filmfix rollo 80 m.   \n",
      "2171                    papel de alumnio dia rollo 30 m.   \n",
      "4516              papel de aluminio dia super paco 30 m.   \n",
      "5246   crema vinagre de modena frambuesa alina tu dia...   \n",
      "5263              film transparente dia super paco 80 m.   \n",
      "6449   aceite oliva arbequina dia almazara del olivar...   \n",
      "7059                         papel de aluminio dia 50 m.   \n",
      "8165                  film transparente dia rollo 100 m.   \n",
      "14514                          papel de horno fliss 8 m.   \n",
      "\n",
      "       product_weight_in_grams  product_in_quantities  \n",
      "619                        0.0                    NaN  \n",
      "2019                       0.0                    NaN  \n",
      "2035                       0.0                    NaN  \n",
      "2171                       0.0                    NaN  \n",
      "4516                       0.0                    NaN  \n",
      "5246                       0.0                    NaN  \n",
      "5263                       0.0                    NaN  \n",
      "6449                       0.0                    NaN  \n",
      "7059                       0.0                    NaN  \n",
      "8165                       0.0                    NaN  \n",
      "14514                      0.0                    NaN  \n"
     ]
    }
   ],
   "source": [
    "# Set 'product_in_quantities' to 1 for rows where 'product_name' contains 'ambientador'\n",
    "filtered_df.loc[filtered_df['product_name'].str.contains('ambientador', case=False, na=False), 'product_in_quantities'] = 1\n",
    "\n",
    "nan_quantity_df = filtered_df[\n",
    "    (filtered_df['product_weight_in_grams'] == 0) & \n",
    "    (filtered_df['product_in_quantities'].isna())\n",
    "]\n",
    "\n",
    "# Print \n",
    "print(\"Rows with NaN in 'product_in_quantities' and 'product_weight_in_grams' == 0:\")\n",
    "print(nan_quantity_df[['product_name', 'product_weight_in_grams', 'product_in_quantities']])"
   ]
  },
  {
   "cell_type": "code",
   "execution_count": 42,
   "id": "15c1afe5",
   "metadata": {},
   "outputs": [],
   "source": [
    "# Manually update product_weight_in_grams for specific products\n",
    "def update_weight_for_liquid_products(filtered_df):\n",
    "    # Mapping of product names to weights in grams\n",
    "    liquid_weight_mapping = {\n",
    "        \"crema vinagre de modena frambuesa alina tu dia botella 250m\": 250, # let 1 ml = 1 g\n",
    "        \"aceite oliva arbequina dia almazara del olivar botella 500m\": 500\n",
    "    }\n",
    "\n",
    "    for index, row in filtered_df.iterrows():\n",
    "        product_name = row['product_name']\n",
    "        for pattern, weight in liquid_weight_mapping.items():\n",
    "            if pattern.lower() in product_name.lower():\n",
    "                filtered_df.loc[index, 'product_weight_in_grams'] = weight\n",
    "                break\n",
    "\n",
    "update_weight_for_liquid_products(filtered_df)\n",
    "\n",
    "missing_weight_df = filtered_df[\n",
    "    (filtered_df['product_weight_in_grams'] == 0)\n",
    "]"
   ]
  },
  {
   "cell_type": "markdown",
   "id": "ee0367fa",
   "metadata": {},
   "source": [
    "The identified products, \"crema vinagre de modena frambuesa alina tu dia botella 250m.\" and \"aceite oliva arbequina dia almazara del olivar botella 500m.,\" have 'm' as the unit. This 'm' stands for 'ml' (milliliters), indicating the product's volume."
   ]
  },
  {
   "cell_type": "code",
   "execution_count": 43,
   "id": "89189889",
   "metadata": {},
   "outputs": [
    {
     "name": "stdout",
     "output_type": "stream",
     "text": [
      "Data for the 6451th row (selected columns):\n",
      "product_name_english       arbequina olive oil dia almazara del olivar bo...\n",
      "product_weight_in_grams                                                500.0\n",
      "Name: 6449, dtype: object\n",
      "Data for the 5248th row (selected columns):\n",
      "product_name_english       dia raspberry modena vinegar cream bottle 250m.\n",
      "product_weight_in_grams                                              250.0\n",
      "Name: 5246, dtype: object\n"
     ]
    }
   ],
   "source": [
    "# Access a specific row by its index \n",
    "row_to_check = filtered_df.loc[6449, ['product_name_english', 'product_weight_in_grams']]\n",
    "print(\"Data for the 6451th row (selected columns):\")\n",
    "print(row_to_check)\n",
    "\n",
    "row_to_check = filtered_df.loc[5246, ['product_name_english', 'product_weight_in_grams']]\n",
    "print(\"Data for the 5248th row (selected columns):\")\n",
    "print(row_to_check)"
   ]
  },
  {
   "cell_type": "markdown",
   "id": "cb1d8972",
   "metadata": {},
   "source": [
    "We will address the remaining products that lack values in the product_in_quantities column but contain information in meters, identified by the \"m.\" symbol in their product names. We added a feature to the data extraction function to capture these instances, converting the numerical values of meters into the product_in_quantities field."
   ]
  },
  {
   "cell_type": "code",
   "execution_count": 44,
   "id": "444d7171",
   "metadata": {},
   "outputs": [
    {
     "name": "stdout",
     "output_type": "stream",
     "text": [
      "Rows with NaN in 'product_in_quantities' and 'product_weight_in_grams' == 0 after meter extraction:\n",
      "Empty DataFrame\n",
      "Columns: [product_name, product_weight_in_grams, product_in_quantities]\n",
      "Index: []\n"
     ]
    }
   ],
   "source": [
    "# Function to extract quantities in meters from product names\n",
    "def extract_meters(product_name):\n",
    "    pattern = re.compile(r'(\\d+)\\s*m\\b', re.IGNORECASE)\n",
    "    match = pattern.search(product_name)\n",
    "    \n",
    "    if match:\n",
    "        return int(match.group(1))\n",
    "    return None\n",
    "\n",
    "filtered_df.loc[(filtered_df['product_weight_in_grams'] == 0) & (filtered_df['product_in_quantities'].isna()), 'product_in_quantities'] = \\\n",
    "    filtered_df.loc[(filtered_df['product_weight_in_grams'] == 0) & (filtered_df['product_in_quantities'].isna()), 'product_name'].apply(extract_meters)\n",
    "\n",
    "nan_quantity_df = filtered_df[\n",
    "    (filtered_df['product_weight_in_grams'] == 0) & \n",
    "    (filtered_df['product_in_quantities'].isna())\n",
    "]\n",
    "\n",
    "# Print \n",
    "print(\"Rows with NaN in 'product_in_quantities' and 'product_weight_in_grams' == 0 after meter extraction:\")\n",
    "print(nan_quantity_df[['product_name', 'product_weight_in_grams', 'product_in_quantities']])"
   ]
  },
  {
   "cell_type": "code",
   "execution_count": 45,
   "id": "c3db06e4",
   "metadata": {},
   "outputs": [
    {
     "name": "stdout",
     "output_type": "stream",
     "text": [
      "      product_external_id                                       product_name  \\\n",
      "0                  292092  queso de oveja curado insolito el cencerro 200...   \n",
      "1                     101        aceite refinado de girasol dia botella 1 l.   \n",
      "2                  197503           levadura en polvo delimagic sobre 90 gr.   \n",
      "3                  279225   licor de mora sin alcohol sonador botella 70 cl.   \n",
      "4                  189160       caldo casero de verduras gallina blanca 1 l.   \n",
      "...                   ...                                                ...   \n",
      "14801              221535      pasta fusilloni dia delicious paquete 500 gr.   \n",
      "14802              258818  balsamo reparador multiuso argan pieles secas ...   \n",
      "14803              190036  queso de oveja curado el gran cardenal cuna 25...   \n",
      "14820              224310             bloc wc dia floral activo blister 1 ud   \n",
      "14824              240868  preparado para pastel de zanahoria dr oetker c...   \n",
      "\n",
      "       product_description  product_price  \\\n",
      "0                      NaN           3.66   \n",
      "1                      NaN           1.53   \n",
      "2                      NaN           0.81   \n",
      "3                      NaN           2.55   \n",
      "4                      NaN           2.39   \n",
      "...                    ...            ...   \n",
      "14801                  NaN           1.60   \n",
      "14802                  NaN           6.99   \n",
      "14803                  NaN           4.61   \n",
      "14820                  NaN           1.53   \n",
      "14824                  NaN           4.99   \n",
      "\n",
      "                                       product_image_url  \\\n",
      "0      https://images.deliveryhero.io/image/global-ca...   \n",
      "1      https://images.deliveryhero.io/image/global-ca...   \n",
      "2      https://images.deliveryhero.io/image/global-ca...   \n",
      "3      https://images.deliveryhero.io/image/global-ca...   \n",
      "4      https://images.deliveryhero.io/image/global-ca...   \n",
      "...                                                  ...   \n",
      "14801  https://images.deliveryhero.io/image/pim-glovo...   \n",
      "14802  https://images.deliveryhero.io/image/pim-glovo...   \n",
      "14803  https://images.deliveryhero.io/image/global-ca...   \n",
      "14820  https://images.deliveryhero.io/image/pim-glovo...   \n",
      "14824  https://images.deliveryhero.io/image/pim-glovo...   \n",
      "\n",
      "                             groups_collections_sections  \\\n",
      "0      [[1, [['Huevos y Lácteos', None, 15038, 'e19cf...   \n",
      "1      [[1, [['Despensa', None, 15120, '230a3305-6da7...   \n",
      "2      [[1, [['Despensa', None, 15120, '230a3305-6da7...   \n",
      "3      [[1, [['Cervezas, Destilados y Vinos', None, 1...   \n",
      "4      [[1, [['Despensa', None, 15120, '230a3305-6da7...   \n",
      "...                                                  ...   \n",
      "14801  [[1, [['Basurita', None, 29039, 'c276f090-c6f1...   \n",
      "14802  [[1, [['Basurita', None, 29039, 'c276f090-c6f1...   \n",
      "14803  [[1, [['Huevos y Lácteos', None, 15038, 'e19cf...   \n",
      "14820  [[1, [['Droguería y Limpieza', None, 15401, '4...   \n",
      "14824  [[1, [['Basurita', None, 29039, 'c276f090-c6f1...   \n",
      "\n",
      "            product_master_code  \\\n",
      "0      6579bd2fc8e2245b73e99fb2   \n",
      "1      65525334e2bbfd215f410ae2   \n",
      "2      656628e878313924cbbce36d   \n",
      "3      6567481e7d628aebbc57baa9   \n",
      "4      64ba3d30023801b0a39aa217   \n",
      "...                         ...   \n",
      "14801  656628ff78313924cbbcf02e   \n",
      "14802  656626b978313924cbbbb79a   \n",
      "14803  64c2cd0ef0db0d43dfe1c0ad   \n",
      "14820  656626bb78313924cbbbb88f   \n",
      "14824  656626d878313924cbbbc784   \n",
      "\n",
      "                                   master_category_names   product_brand  \\\n",
      "0             dairy / chilled / eggs_dairy / eggs_cheese     el cencerro   \n",
      "1      packaged foods_cooking / condiments / baking /...          diasol   \n",
      "2      packaged foods_cooking / condiments / baking /...             dia   \n",
      "3                          bws_spirits_liqueurs / creams         sonador   \n",
      "4      packaged foods_canned / jarred / instant meals...  gallina blanca   \n",
      "...                                                  ...             ...   \n",
      "14801        packaged foods_pasta / rice / grains_pastas             dia   \n",
      "14802  personal care / baby / health_personal care / ...         garnier   \n",
      "14803         dairy / chilled / eggs_dairy / eggs_cheese    unknownbrand   \n",
      "14820             home / pet_cleaning / laundry_cleaning       unbranded   \n",
      "14824  packaged foods_cooking / condiments / baking /...       dr oetker   \n",
      "\n",
      "       product_weight_in_grams  \\\n",
      "0                        195.0   \n",
      "1                       1021.0   \n",
      "2                         75.0   \n",
      "3                        728.0   \n",
      "4                       1000.0   \n",
      "...                        ...   \n",
      "14801                    510.0   \n",
      "14802                     50.0   \n",
      "14803                    243.0   \n",
      "14820                      0.0   \n",
      "14824                    347.0   \n",
      "\n",
      "                                    product_name_english  extracted_weight  \\\n",
      "0        insolito el cencerro cured sheep cheese 200 gr.             195.0   \n",
      "1                          diasol sunflower food oil 1 l            1021.0   \n",
      "2      dia delimagic baking powder box 5 sachets of 1...              75.0   \n",
      "3      alcohol free blackberry liqueur sonador bottle...             728.0   \n",
      "4                      gallina blanca vegetable broth 1l            1000.0   \n",
      "...                                                  ...               ...   \n",
      "14801      fusilloni pasta dia delicious package 500 gr.             510.0   \n",
      "14802  multi purpose repair balm argan dry skin garni...              50.0   \n",
      "14803  el gran cardinal br maturata sheep from raw mi...             243.0   \n",
      "14820                 floral active day wc block blister               0.0   \n",
      "14824                 carrot cake mix dr oetker box 350g             347.0   \n",
      "\n",
      "       product_in_quantities  \n",
      "0                        NaN  \n",
      "1                        NaN  \n",
      "2                        NaN  \n",
      "3                        NaN  \n",
      "4                        NaN  \n",
      "...                      ...  \n",
      "14801                    NaN  \n",
      "14802                    NaN  \n",
      "14803                    NaN  \n",
      "14820                    1.0  \n",
      "14824                    NaN  \n",
      "\n",
      "[8442 rows x 13 columns]\n"
     ]
    }
   ],
   "source": [
    "print(filtered_df)"
   ]
  },
  {
   "cell_type": "code",
   "execution_count": 46,
   "id": "12f39178",
   "metadata": {},
   "outputs": [
    {
     "name": "stdout",
     "output_type": "stream",
     "text": [
      "Updated DataFrame after removing 'extracted_weight':\n",
      "  product_external_id                                       product_name  \\\n",
      "0              292092  queso de oveja curado insolito el cencerro 200...   \n",
      "1                 101        aceite refinado de girasol dia botella 1 l.   \n",
      "2              197503           levadura en polvo delimagic sobre 90 gr.   \n",
      "3              279225   licor de mora sin alcohol sonador botella 70 cl.   \n",
      "4              189160       caldo casero de verduras gallina blanca 1 l.   \n",
      "\n",
      "   product_description  product_price  \\\n",
      "0                  NaN           3.66   \n",
      "1                  NaN           1.53   \n",
      "2                  NaN           0.81   \n",
      "3                  NaN           2.55   \n",
      "4                  NaN           2.39   \n",
      "\n",
      "                                   product_image_url  \\\n",
      "0  https://images.deliveryhero.io/image/global-ca...   \n",
      "1  https://images.deliveryhero.io/image/global-ca...   \n",
      "2  https://images.deliveryhero.io/image/global-ca...   \n",
      "3  https://images.deliveryhero.io/image/global-ca...   \n",
      "4  https://images.deliveryhero.io/image/global-ca...   \n",
      "\n",
      "                         groups_collections_sections  \\\n",
      "0  [[1, [['Huevos y Lácteos', None, 15038, 'e19cf...   \n",
      "1  [[1, [['Despensa', None, 15120, '230a3305-6da7...   \n",
      "2  [[1, [['Despensa', None, 15120, '230a3305-6da7...   \n",
      "3  [[1, [['Cervezas, Destilados y Vinos', None, 1...   \n",
      "4  [[1, [['Despensa', None, 15120, '230a3305-6da7...   \n",
      "\n",
      "        product_master_code  \\\n",
      "0  6579bd2fc8e2245b73e99fb2   \n",
      "1  65525334e2bbfd215f410ae2   \n",
      "2  656628e878313924cbbce36d   \n",
      "3  6567481e7d628aebbc57baa9   \n",
      "4  64ba3d30023801b0a39aa217   \n",
      "\n",
      "                               master_category_names   product_brand  \\\n",
      "0         dairy / chilled / eggs_dairy / eggs_cheese     el cencerro   \n",
      "1  packaged foods_cooking / condiments / baking /...          diasol   \n",
      "2  packaged foods_cooking / condiments / baking /...             dia   \n",
      "3                      bws_spirits_liqueurs / creams         sonador   \n",
      "4  packaged foods_canned / jarred / instant meals...  gallina blanca   \n",
      "\n",
      "   product_weight_in_grams                               product_name_english  \\\n",
      "0                    195.0    insolito el cencerro cured sheep cheese 200 gr.   \n",
      "1                   1021.0                      diasol sunflower food oil 1 l   \n",
      "2                     75.0  dia delimagic baking powder box 5 sachets of 1...   \n",
      "3                    728.0  alcohol free blackberry liqueur sonador bottle...   \n",
      "4                   1000.0                  gallina blanca vegetable broth 1l   \n",
      "\n",
      "   product_in_quantities  \n",
      "0                    NaN  \n",
      "1                    NaN  \n",
      "2                    NaN  \n",
      "3                    NaN  \n",
      "4                    NaN  \n"
     ]
    }
   ],
   "source": [
    "# Drop the 'extracted_weight' column\n",
    "filtered_df = filtered_df.drop(columns=['extracted_weight'])\n",
    "\n",
    "# Print \n",
    "print(\"Updated DataFrame after removing 'extracted_weight':\")\n",
    "print(filtered_df.head())"
   ]
  },
  {
   "cell_type": "markdown",
   "id": "5beeb122",
   "metadata": {},
   "source": [
    "### 1.6 ENHANCING PRODUCT DESCRIPTIONS FOR CONSISTENT CLASSIFICATION"
   ]
  },
  {
   "cell_type": "markdown",
   "id": "84145eef",
   "metadata": {},
   "source": [
    "In this step, we will augment the 'product_description' with additional terms, such as 'plant based milk', 'alcohol free', 'low calorie' or 'high protein'."
   ]
  },
  {
   "cell_type": "markdown",
   "id": "eb7dbda0",
   "metadata": {},
   "source": [
    "Let's focus on the milk first."
   ]
  },
  {
   "cell_type": "code",
   "execution_count": 47,
   "id": "cecc18a4",
   "metadata": {},
   "outputs": [
    {
     "name": "stdout",
     "output_type": "stream",
     "text": [
      "Products containing 'milk':\n",
      "                                    product_name_english  \\\n",
      "16        cosmo easter milk chocolate figurines bag 90 g   \n",
      "26                    nb milk and honey shower gel 600ml   \n",
      "124                          celtic skimmed milk 1, 5 l.   \n",
      "149    strawberry flavored fermented milk danone acti...   \n",
      "194                  puleva semi skimmed calcium milk 1l   \n",
      "...                                                  ...   \n",
      "14240  milk chocolate figure three kings riegelein 1 ...   \n",
      "14345  nenuco bath liquid soap with sweet almond milk...   \n",
      "14448                     chocolate milka milkinis 87.5g   \n",
      "14631  bath gel + body milk mineral salts la toja bot...   \n",
      "14803  el gran cardinal br maturata sheep from raw mi...   \n",
      "\n",
      "                                   master_category_names  \n",
      "16                        snacks_confectionary_chocolate  \n",
      "26     personal care / baby / health_personal care / ...  \n",
      "124          dairy / chilled / eggs_milk_long life / uht  \n",
      "149          dairy / chilled / eggs_dairy / eggs_yoghurt  \n",
      "194          dairy / chilled / eggs_milk_long life / uht  \n",
      "...                                                  ...  \n",
      "14240                     snacks_confectionary_chocolate  \n",
      "14345    personal care / baby / health_baby_baby hygiene  \n",
      "14448                     snacks_confectionary_chocolate  \n",
      "14631  personal care / baby / health_personal care / ...  \n",
      "14803         dairy / chilled / eggs_dairy / eggs_cheese  \n",
      "\n",
      "[297 rows x 2 columns]\n",
      "\n",
      "Unique master_category_names for products containing 'milk':\n",
      "['snacks_confectionary_chocolate'\n",
      " 'personal care / baby / health_personal care / beauty_body products'\n",
      " 'dairy / chilled / eggs_milk_long life / uht'\n",
      " 'dairy / chilled / eggs_dairy / eggs_yoghurt'\n",
      " 'bread / bakery_bread_packaged'\n",
      " 'personal care / baby / health_baby_baby food'\n",
      " 'snacks_confectionary_biscuits' 'bread / bakery_sweet bakery_packaged'\n",
      " 'personal care / baby / health_personal care / beauty_skin care'\n",
      " 'packaged foods_breakfast / spreads_cereals'\n",
      " 'packaged foods_tea / coffee_coffee'\n",
      " 'dairy / chilled / eggs_milk_condensed / evaporated milk'\n",
      " 'dairy / chilled / eggs_milk_fresh milk'\n",
      " 'packaged foods_cooking / condiments / baking / herbs / spices_baking'\n",
      " 'beverages_juice / ice tea / sports / energy_juice'\n",
      " 'ready to consume_beverages_rtd chocolate'\n",
      " 'dairy / chilled / eggs_milk_milk alternatives'\n",
      " 'dairy / chilled / eggs_dairy / eggs_cheese'\n",
      " 'dairy / chilled / eggs_dairy / eggs_cream'\n",
      " 'personal care / baby / health_personal care / beauty_hair care'\n",
      " 'ready to consume_beverages_others' 'ready to consume_food_snacks'\n",
      " 'packaged foods_breakfast / spreads_spreads'\n",
      " 'frozen_ice cream / desserts_ice cream'\n",
      " 'personal care / baby / health_personal care / beauty_cosmetics'\n",
      " 'packaged foods_pasta / rice / grains_pulses / grains'\n",
      " 'dairy / chilled / eggs_milk_milk powder'\n",
      " 'personal care / baby / health_baby_baby hygiene']\n"
     ]
    }
   ],
   "source": [
    "# Filter rows where 'product_name_english' contains 'milk'\n",
    "milk_products_df = filtered_df[filtered_df['product_name_english'].str.contains('milk', case=False, na=False)]\n",
    "\n",
    "print(\"Products containing 'milk':\")\n",
    "print(milk_products_df[['product_name_english', 'master_category_names']])\n",
    "\n",
    "unique_milk_categories = milk_products_df['master_category_names'].unique()\n",
    "print(\"\\nUnique master_category_names for products containing 'milk':\")\n",
    "print(unique_milk_categories)"
   ]
  },
  {
   "cell_type": "code",
   "execution_count": 48,
   "id": "1f9c3390",
   "metadata": {},
   "outputs": [
    {
     "name": "stdout",
     "output_type": "stream",
     "text": [
      "Products under 'dairy / chilled / eggs_milk_milk alternatives':\n",
      "                                    product_name_english  \\\n",
      "693                                    chufi horchata 1l   \n",
      "1001                   horchata dia pack 3 units 200 ml.   \n",
      "1370               soy drink 0% sugar vegedia brick 1 l.   \n",
      "1424                     alpro unsweetened oat drink 1 l   \n",
      "1442   fruit with milk drink mediterranean dia zumosf...   \n",
      "1642           soy drink with calcium vegedia brick 1 l.   \n",
      "1666                                alpro avena drink 1l   \n",
      "2688         valio profeel chocolate protein shake 250ml   \n",
      "2810       tropical fruit milk drink dia zumosfera 1 lt.   \n",
      "3395   fruit with milk drink caribbean dia zumosfera ...   \n",
      "3476   fruit with milk drink mediterranean dia zumosf...   \n",
      "3636                puleva cocoa shake 6 units x 200 ml.   \n",
      "4025                              alpro almond drink 1 l   \n",
      "4083   fruit & milk melon watermelon dia zumosfera 3x...   \n",
      "4842   tropical fruit milk drink dia zumosfera 3x330 ml.   \n",
      "5396   fruit with milk drink mediterranean dia zumosf...   \n",
      "5851   milk drink with tropical fruit zero don simon ...   \n",
      "5854                         vegedia bebida de aveia 1 l   \n",
      "6157                         oat milk natural vegedia 1l   \n",
      "6162                dia vital bebida de soja natural 1 l   \n",
      "6543   fruit with milk drink tropical dia zumosfera 6...   \n",
      "6780                                rice milk vegedia 1l   \n",
      "6817                  alpro drink: soy original light 1l   \n",
      "6872                               oat drink vivesoy 1 l   \n",
      "7254               oat drink 0% sugar vegedia brick 1 l.   \n",
      "7437                  alpro unsweetened almond drink 1 l   \n",
      "9045                               puleva cocoa shake 1l   \n",
      "9508                              yo soy quaker drink 1l   \n",
      "9947          fruit & milk caribbean dia zumosfera 1 lt.   \n",
      "11915                     almond milk natural vegedia 1l   \n",
      "\n",
      "                               master_category_names  \n",
      "693    dairy / chilled / eggs_milk_milk alternatives  \n",
      "1001   dairy / chilled / eggs_milk_milk alternatives  \n",
      "1370   dairy / chilled / eggs_milk_milk alternatives  \n",
      "1424   dairy / chilled / eggs_milk_milk alternatives  \n",
      "1442   dairy / chilled / eggs_milk_milk alternatives  \n",
      "1642   dairy / chilled / eggs_milk_milk alternatives  \n",
      "1666   dairy / chilled / eggs_milk_milk alternatives  \n",
      "2688   dairy / chilled / eggs_milk_milk alternatives  \n",
      "2810   dairy / chilled / eggs_milk_milk alternatives  \n",
      "3395   dairy / chilled / eggs_milk_milk alternatives  \n",
      "3476   dairy / chilled / eggs_milk_milk alternatives  \n",
      "3636   dairy / chilled / eggs_milk_milk alternatives  \n",
      "4025   dairy / chilled / eggs_milk_milk alternatives  \n",
      "4083   dairy / chilled / eggs_milk_milk alternatives  \n",
      "4842   dairy / chilled / eggs_milk_milk alternatives  \n",
      "5396   dairy / chilled / eggs_milk_milk alternatives  \n",
      "5851   dairy / chilled / eggs_milk_milk alternatives  \n",
      "5854   dairy / chilled / eggs_milk_milk alternatives  \n",
      "6157   dairy / chilled / eggs_milk_milk alternatives  \n",
      "6162   dairy / chilled / eggs_milk_milk alternatives  \n",
      "6543   dairy / chilled / eggs_milk_milk alternatives  \n",
      "6780   dairy / chilled / eggs_milk_milk alternatives  \n",
      "6817   dairy / chilled / eggs_milk_milk alternatives  \n",
      "6872   dairy / chilled / eggs_milk_milk alternatives  \n",
      "7254   dairy / chilled / eggs_milk_milk alternatives  \n",
      "7437   dairy / chilled / eggs_milk_milk alternatives  \n",
      "9045   dairy / chilled / eggs_milk_milk alternatives  \n",
      "9508   dairy / chilled / eggs_milk_milk alternatives  \n",
      "9947   dairy / chilled / eggs_milk_milk alternatives  \n",
      "11915  dairy / chilled / eggs_milk_milk alternatives  \n"
     ]
    }
   ],
   "source": [
    "# Filter rows based on the specific 'master_category_names'\n",
    "milk_alternatives_df = filtered_df[filtered_df['master_category_names'] == 'dairy / chilled / eggs_milk_milk alternatives']\n",
    "\n",
    "print(\"Products under 'dairy / chilled / eggs_milk_milk alternatives':\")\n",
    "print(milk_alternatives_df[['product_name_english', 'master_category_names']])"
   ]
  },
  {
   "cell_type": "code",
   "execution_count": 49,
   "id": "44e7841d",
   "metadata": {},
   "outputs": [],
   "source": [
    "# List of keywords to identify plant-based milk products\n",
    "plant_keywords = ['soy', 'oat', 'almond', 'rice', 'coconut', 'soja', 'avena', 'aveia']\n",
    "\n",
    "# Function to set product_description to \"plant-based\" if the product name matches keywords\n",
    "def add_plant_based_description(row):\n",
    "    if any(keyword in row['product_name_english'].lower() for keyword in plant_keywords):\n",
    "        return \"plant based\"\n",
    "    return row['product_description']\n",
    "\n",
    "# Filter the DataFrame for rows that have 'milk' in the category\n",
    "milk_category_names = ['dairy / chilled / eggs_milk_long life / uht',\n",
    "                       'dairy / chilled / eggs_milk_fresh milk',\n",
    "                       'dairy / chilled / eggs_milk_condensed / evaporated milk',\n",
    "                       'dairy / chilled / eggs_milk_milk powder',\n",
    "                       'dairy / chilled / eggs_milk_milk alternatives']\n",
    "\n",
    "# Create a filtered DataFrame to apply the transformation\n",
    "milk_filtered_df = filtered_df[filtered_df['master_category_names'].isin(milk_category_names)].copy()\n",
    "\n",
    "milk_filtered_df['product_description'] = milk_filtered_df.apply(add_plant_based_description, axis=1)\n",
    "\n",
    "filtered_df.update(milk_filtered_df)"
   ]
  },
  {
   "cell_type": "code",
   "execution_count": 50,
   "id": "8706f413",
   "metadata": {},
   "outputs": [
    {
     "name": "stdout",
     "output_type": "stream",
     "text": [
      "                                    product_name_english product_description\n",
      "8260                           asturiana whole milk 1.5l                 NaN\n",
      "1567                    lauki whole milk 1 lt. packaging                 NaN\n",
      "5110                      la lechera condensed milk 370g                 NaN\n",
      "6162                dia vital bebida de soja natural 1 l         plant based\n",
      "3615         asturiana lactose free semi skimmed milk 1l                 NaN\n",
      "1068                          asturian skimmed milk 1,5l                 NaN\n",
      "9947          fruit & milk caribbean dia zumosfera 1 lt.                 NaN\n",
      "4027   semi skimmed milk with calcium dia dairy packa...                 NaN\n",
      "4054                  puleva milk omega3 lactose free 1l                 NaN\n",
      "1499                              puleva milk omega 3 1l                 NaN\n",
      "3230                          dia lactea leite magro 1 l                 NaN\n",
      "4842   tropical fruit milk drink dia zumosfera 3x330 ml.                 NaN\n",
      "5854                         vegedia bebida de aveia 1 l         plant based\n",
      "10166             asturiana calcium semi skimmed milk 1l                 NaN\n",
      "6654                       whole milk larsa bottle 1 lt.                 NaN\n",
      "4026                    covap semi skimmed milk brick 1l                 NaN\n",
      "1960                       pascual lactose free milk 1 l                 NaN\n",
      "4150                         pascual whole milk 6x200 ml                 NaN\n",
      "9172                    asturiana semi skimmed milk 1,5l                 NaN\n",
      "4445          dia temptation gelado doce de leite 900 ml                 NaN\n",
      "1067                       semi skimmed milk pascual 1 l                 NaN\n",
      "8412                          vivesoy light soy drink 1l         plant based\n",
      "7315                             puleva protein milk 1 l                 NaN\n",
      "7461                  pascual whole lactose free milk 1l                 NaN\n",
      "3513                   semi skimmed asturian milk 2.2 l.                 NaN\n",
      "2832         puleva light morning semi skimmed milk 1 l.                 NaN\n",
      "1053                semi skimmed milk larsa 1 lt. bottle                 NaN\n",
      "647          00% lactose free suprema asturiana milk 1 l                 NaN\n",
      "1872   puleva lactose free skimmed milk light morning...                 NaN\n",
      "9108                     skimmed milk kaiku 1 lt. bottle                 NaN\n",
      "2260                           celtic whole milk 1, 5 l.                 NaN\n",
      "6477          puleva enriched semi skimmed milk brick 1l                 NaN\n",
      "2511           pascual lactose free semi skimmed milk 1l                 NaN\n",
      "1424                     alpro unsweetened oat drink 1 l         plant based\n",
      "1057                     pascual skimmed milk calcium 1l                 NaN\n",
      "5851   milk drink with tropical fruit zero don simon ...                 NaN\n",
      "7340   lactose free semi skimmed milk feiraco 1 lt. b...                 NaN\n",
      "2744         dia lactea leite meio gordo sem lactose 1 l                 NaN\n",
      "8270               skimmed milk asturiana 2.2 lt. bottle                 NaN\n",
      "9368                        dia condensed milk jar 1 kg.                 NaN\n"
     ]
    }
   ],
   "source": [
    "# Filter the DataFrame to only include rows with the specified categories\n",
    "milk_products_df = filtered_df[filtered_df['master_category_names'].isin(milk_category_names)]\n",
    "\n",
    "# Sample rows\n",
    "sampled_milk_products = milk_products_df.sample(n=40, random_state=42)\n",
    "print(sampled_milk_products[['product_name_english', 'product_description']])"
   ]
  },
  {
   "cell_type": "code",
   "execution_count": 51,
   "id": "c02387d8",
   "metadata": {
    "scrolled": true
   },
   "outputs": [
    {
     "name": "stdout",
     "output_type": "stream",
     "text": [
      "                                    product_name_english product_description\n",
      "3      alcohol free blackberry liqueur sonador bottle...        alcohol free\n",
      "25     high protein natural yogurt dia lactea cup 300...     high in protein\n",
      "183              gullon gluten free biscuits sharks 250g         gluten free\n",
      "201                  nestea lemon sugar free bottle 1,5l          sugar free\n",
      "207        non alcoholic aperitif martini vibrante 75 cl        alcohol free\n",
      "...                                                  ...                 ...\n",
      "13176  lactose and gluten free magdalenas dia bag 230...         gluten free\n",
      "13290  schar bread mold cereals mastro panettiere glu...         gluten free\n",
      "13842               sugar free mint pills smint tin 105g          sugar free\n",
      "14085  sugar free green mint flavor chewing gum mento...          sugar free\n",
      "14278                  g.gourmet vegetarian breaded 180g          vegetarian\n",
      "\n",
      "[210 rows x 2 columns]\n"
     ]
    }
   ],
   "source": [
    "# List of terms and descriptions\n",
    "descriptions_dict = {\n",
    "    'vegan': 'vegan',\n",
    "    'veggi': 'vegan',\n",
    "    'vegetarian': 'vegetarian',\n",
    "    'caffeine free': 'caffeine free',\n",
    "    'gluten free': 'gluten free',\n",
    "    'sugar free': 'sugar free',\n",
    "    'lactose free': 'lactose free',\n",
    "    'salt free': 'salt free',\n",
    "    'fat free': 'fat free',\n",
    "    'alcohol free': 'alcohol free',\n",
    "    'non alcoholic': 'alcohol free',\n",
    "    'protein': 'high in protein',\n",
    "    '0 calories': '0 calories',\n",
    "    'low in calories': 'low in calories',\n",
    "}\n",
    "\n",
    "# Function to add descriptions \n",
    "def add_descriptions(row):\n",
    "    descriptions = set()\n",
    "    \n",
    "    if pd.notna(row['product_description']):\n",
    "        descriptions.update(row['product_description'].split())\n",
    "    \n",
    "    for term, description in descriptions_dict.items():\n",
    "        if term in row['product_name_english'].lower():\n",
    "            descriptions.add(description)\n",
    "\n",
    "    return ' '.join(descriptions)\n",
    "\n",
    "filtered_df['product_description'] = filtered_df.apply(add_descriptions, axis=1)\n",
    "\n",
    "matching_terms = '|'.join(descriptions_dict.keys())\n",
    "print(filtered_df[filtered_df['product_name_english'].str.contains(matching_terms, case=False, na=False)][['product_name_english', 'product_description']])"
   ]
  },
  {
   "cell_type": "code",
   "execution_count": 52,
   "id": "769fe677",
   "metadata": {},
   "outputs": [
    {
     "name": "stdout",
     "output_type": "stream",
     "text": [
      "                                    product_name_english product_description\n",
      "3      alcohol free blackberry liqueur sonador bottle...        alcohol free\n",
      "207        non alcoholic aperitif martini vibrante 75 cl        alcohol free\n",
      "926       alcohol free heineken beer pack 12 cans 33 cl.        alcohol free\n",
      "1040   alcohol free gentle and fresh mouthwash bonte ...        alcohol free\n",
      "2283           heineken 0.0 alcohol free lager beer 33cl        alcohol free\n",
      "2453            mahou 0.0 alcohol free toasted beer 33cl        alcohol free\n",
      "2830   non alcoholic acorn liqueur la extremena bottl...        alcohol free\n",
      "3020   strawberry flavor alcohol free mouthwash junio...        alcohol free\n",
      "3204      tanqueray gin alcohol free non alcoholic 70 cl        alcohol free\n",
      "4091                    mahou alcohol free beer 6x25 cl.        alcohol free\n",
      "5021   non alcoholic toasted beer 0.0% alcohol ambar ...        alcohol free\n",
      "5171         non alcoholic aperitif martini floral 75 cl        alcohol free\n",
      "5201                    mahou alcohol free beer can 33cl        alcohol free\n",
      "5444    alcohol free apple liqueur sonador bottle 70 cl.        alcohol free\n",
      "5507   don simon tinto de verano lemon alcohol free 1,5l        alcohol free\n",
      "5952    estrella galicia alcohol free beer bottle 6x25cl        alcohol free\n",
      "6054           san miguel 0.0 alcohol free beer can 33cl        alcohol free\n",
      "6853   alcohol free express nail polish remover 0% ac...        alcohol free\n",
      "7152   radler lemon alcohol free amstel pack 12 cans ...        alcohol free\n",
      "7354              non alcoholic beer alhambra can 33 cl.        alcohol free\n",
      "7428   non alcoholic toasted beer mahou pack 12 cans ...        alcohol free\n",
      "7503   non alcoholic lemon flavored shandy beer dia r...        alcohol free\n",
      "9429   alcohol free tinto de verano with lemon dia bo...        alcohol free\n",
      "11937  alcohol free deodorant 0% aluminum salts dove ...        alcohol free\n"
     ]
    }
   ],
   "source": [
    "# Filter the DataFrame to find rows with product_description \"alcohol free\"\n",
    "alcohol_free_products = filtered_df[filtered_df['product_description'].str.contains('alcohol free', case=False, na=False)]\n",
    "print(alcohol_free_products[['product_name_english', 'product_description']])"
   ]
  },
  {
   "cell_type": "code",
   "execution_count": 53,
   "id": "3bcb4860",
   "metadata": {},
   "outputs": [
    {
     "name": "stdout",
     "output_type": "stream",
     "text": [
      "                                    product_name_english  \\\n",
      "669                  ambar gluten free beer bottle 33 cl   \n",
      "1510                        corona beer 0.0 bottle 33 cl   \n",
      "1919                          00% san miguel beer 6x25cl   \n",
      "2078                    san miguel beer 0.0 lemon 33 cl.   \n",
      "2283           heineken 0.0 alcohol free lager beer 33cl   \n",
      "2355                         buckler beer 0.0 can 33 cl.   \n",
      "2453            mahou 0.0 alcohol free toasted beer 33cl   \n",
      "2791                    moritz water beer 0.0 can 33 cl.   \n",
      "3180                    toasted gold beer 00 amstel 33cl   \n",
      "4304        cruzcampo beer without alcohol 0.0o can 33cl   \n",
      "5046                  san miguel magna red beer 0% 33 cl   \n",
      "5201                    mahou alcohol free beer can 33cl   \n",
      "5952    estrella galicia alcohol free beer bottle 6x25cl   \n",
      "6054           san miguel 0.0 alcohol free beer can 33cl   \n",
      "9972   cruzcampo beer without alcohol 0.0o bottle 6x25cl   \n",
      "11007                       00 tostada mahou beer 6x25cl   \n",
      "\n",
      "            product_description          master_category_names  \n",
      "669    gluten free alcohol free  bws_beer / cider_alcohol free  \n",
      "1510               alcohol free  bws_beer / cider_alcohol free  \n",
      "1919               alcohol free  bws_beer / cider_alcohol free  \n",
      "2078               alcohol free  bws_beer / cider_alcohol free  \n",
      "2283               alcohol free  bws_beer / cider_alcohol free  \n",
      "2355               alcohol free  bws_beer / cider_alcohol free  \n",
      "2453               alcohol free  bws_beer / cider_alcohol free  \n",
      "2791               alcohol free  bws_beer / cider_alcohol free  \n",
      "3180               alcohol free  bws_beer / cider_alcohol free  \n",
      "4304               alcohol free  bws_beer / cider_alcohol free  \n",
      "5046               alcohol free  bws_beer / cider_alcohol free  \n",
      "5201               alcohol free  bws_beer / cider_alcohol free  \n",
      "5952               alcohol free  bws_beer / cider_alcohol free  \n",
      "6054               alcohol free  bws_beer / cider_alcohol free  \n",
      "9972               alcohol free  bws_beer / cider_alcohol free  \n",
      "11007              alcohol free  bws_beer / cider_alcohol free  \n"
     ]
    }
   ],
   "source": [
    "# Function to add \"alcohol free\" to the product description if necessary\n",
    "def add_alcohol_free_description(row):\n",
    "    if 'alcohol free' not in row['product_description'].lower():\n",
    "        return f\"{row['product_description']} alcohol free\" if pd.notna(row['product_description']) else \"alcohol free\"\n",
    "    return row['product_description']\n",
    "\n",
    "# Normalise master_category_names \n",
    "filtered_df['master_category_names'] = filtered_df['master_category_names'].str.strip().str.lower()\n",
    "\n",
    "filtered_df.loc[filtered_df['master_category_names'] == 'bws_beer / cider_alcohol free', 'product_description'] = filtered_df[filtered_df['master_category_names'] == 'bws_beer / cider_alcohol free'].apply(add_alcohol_free_description, axis=1)\n",
    "print(filtered_df[filtered_df['master_category_names'] == 'bws_beer / cider_alcohol free'][['product_name_english', 'product_description', 'master_category_names']])"
   ]
  },
  {
   "cell_type": "code",
   "execution_count": 54,
   "id": "64125131",
   "metadata": {
    "scrolled": true
   },
   "outputs": [
    {
     "name": "stdout",
     "output_type": "stream",
     "text": [
      "Number of rows with a non-NaN product_description: 238\n"
     ]
    }
   ],
   "source": [
    "# Count rows with non-empty and non-NaN product_description\n",
    "non_empty_description_count = filtered_df['product_description'].notna() & filtered_df['product_description'].str.strip().astype(bool)\n",
    "count = non_empty_description_count.sum()\n",
    "\n",
    "print(f\"Number of rows with a non-NaN product_description: {count}\")"
   ]
  },
  {
   "cell_type": "markdown",
   "id": "bf13cd5c",
   "metadata": {},
   "source": [
    "# 2. MODELS"
   ]
  },
  {
   "cell_type": "markdown",
   "id": "209f5711",
   "metadata": {},
   "source": [
    "## 2.1 WORD2VEC"
   ]
  },
  {
   "cell_type": "markdown",
   "id": "c88cfcb3",
   "metadata": {},
   "source": [
    "### 2.1.1 All Tokens Weight the Same"
   ]
  },
  {
   "cell_type": "markdown",
   "id": "3773fcf9",
   "metadata": {},
   "source": [
    "#### 2.1.1.1 Prepare the text data"
   ]
  },
  {
   "cell_type": "code",
   "execution_count": 55,
   "id": "68caa075",
   "metadata": {},
   "outputs": [],
   "source": [
    "# Merge descriptions with names\n",
    "filtered_df['combined_text'] = filtered_df['product_description'].fillna('') + ' ' + filtered_df['product_name_english'].fillna('')"
   ]
  },
  {
   "cell_type": "code",
   "execution_count": 56,
   "id": "4c72842b",
   "metadata": {},
   "outputs": [],
   "source": [
    "# Tokenise and filter the text\n",
    "irrelevant_words = {'box', 'sachets', 'package', 'gr', 'grams', 'kg', 'ml', 'l', 'lt', 'pack', 'of', 'el', 'bag', 'tray', 'mini'}\n",
    "\n",
    "def tokenize_and_filter(text):\n",
    "    tokens = gensim.utils.simple_preprocess(text)\n",
    "    return [token for token in tokens if token not in irrelevant_words]\n",
    "\n",
    "filtered_df['filtered_tokens'] = filtered_df['combined_text'].apply(tokenize_and_filter)\n",
    "\n",
    "filtered_df = filtered_df[filtered_df['filtered_tokens'].str.len() > 0]"
   ]
  },
  {
   "cell_type": "markdown",
   "id": "33ff7be0",
   "metadata": {},
   "source": [
    "#### 2.1.1.2 Train Word2Vec Model"
   ]
  },
  {
   "cell_type": "code",
   "execution_count": 57,
   "id": "d095bdbe",
   "metadata": {},
   "outputs": [],
   "source": [
    "model = Word2Vec(sentences=filtered_df['filtered_tokens'], vector_size=100, window=5, min_count=1, workers=4)\n",
    "model.save(\"combined_word2vec.model\")"
   ]
  },
  {
   "cell_type": "code",
   "execution_count": 58,
   "id": "e03927a1",
   "metadata": {},
   "outputs": [],
   "source": [
    "# Normalise weights and quantities\n",
    "scaler = MinMaxScaler()\n",
    "filtered_df['normalized_weight'] = scaler.fit_transform(filtered_df[['product_weight_in_grams']].fillna(0))\n",
    "filtered_df['normalized_quantities'] = scaler.fit_transform(filtered_df[['product_in_quantities']].fillna(0))"
   ]
  },
  {
   "cell_type": "code",
   "execution_count": 59,
   "id": "01985fde",
   "metadata": {},
   "outputs": [],
   "source": [
    "# Function to average word vectors for a document\n",
    "def document_vector(tokens, model, weight, quantity):\n",
    "    tokens = [token for token in tokens if token in model.wv.key_to_index]\n",
    "    if not tokens:\n",
    "        return np.zeros(model.vector_size + 2)\n",
    "    word_vectors = np.mean(model.wv[tokens], axis=0)\n",
    "    return np.hstack((word_vectors, weight, quantity))"
   ]
  },
  {
   "cell_type": "code",
   "execution_count": 60,
   "id": "2583478e",
   "metadata": {},
   "outputs": [],
   "source": [
    "# Apply function to create vectors\n",
    "filtered_df['doc_vector'] = filtered_df.apply(\n",
    "    lambda x: document_vector(\n",
    "        x['filtered_tokens'], model, x['normalized_weight'], x['normalized_quantities']\n",
    "    ), axis=1\n",
    ")"
   ]
  },
  {
   "cell_type": "markdown",
   "id": "f5db0b01",
   "metadata": {},
   "source": [
    "#### 2.1.1.3 Utilise Cosine Similarity"
   ]
  },
  {
   "cell_type": "code",
   "execution_count": 61,
   "id": "2388e6f1",
   "metadata": {},
   "outputs": [],
   "source": [
    "filtered_df.reset_index(drop=True, inplace=True)"
   ]
  },
  {
   "cell_type": "code",
   "execution_count": 62,
   "id": "d6177e83",
   "metadata": {},
   "outputs": [],
   "source": [
    "def calculate_similarity_within_categories(df):\n",
    "    # Create empty matrix for similarities\n",
    "    n = len(df)\n",
    "    similarity_matrix = np.zeros((n, n))\n",
    "    \n",
    "    # Compute similarity ONLY within the same category\n",
    "    categories = df['master_category_names'].unique()\n",
    "    for category in categories:\n",
    "        indices = df[df['master_category_names'] == category].index.tolist()\n",
    "        category_vectors = [df.loc[idx, 'doc_vector'] for idx in indices]\n",
    "        category_similarity = cosine_similarity(np.array(category_vectors))\n",
    "        \n",
    "        for i, idx_i in enumerate(indices):\n",
    "            for j, idx_j in enumerate(indices):\n",
    "                similarity_matrix[idx_i, idx_j] = category_similarity[i, j]\n",
    "    \n",
    "    return similarity_matrix\n",
    "\n",
    "similarity_matrix = calculate_similarity_within_categories(filtered_df)"
   ]
  },
  {
   "cell_type": "code",
   "execution_count": 63,
   "id": "46e6af61",
   "metadata": {},
   "outputs": [],
   "source": [
    "def similar_products(product_index, top_n=5):\n",
    "    similarity_scores = list(enumerate(similarity_matrix[product_index]))\n",
    "    sorted_scores = sorted(similarity_scores, key=lambda x: x[1], reverse=True)\n",
    "    top_indices = [idx for idx, score in sorted_scores[:top_n+1]]\n",
    "    return filtered_df.iloc[top_indices][['product_name_english', 'product_description', 'master_category_names']]"
   ]
  },
  {
   "cell_type": "code",
   "execution_count": 64,
   "id": "03761171",
   "metadata": {
    "scrolled": true
   },
   "outputs": [
    {
     "name": "stdout",
     "output_type": "stream",
     "text": [
      "                                   product_name_english product_description  \\\n",
      "0       insolito el cencerro cured sheep cheese 200 gr.                       \n",
      "8002             cured sheep cheese el cencerro 250 gr.                       \n",
      "4744              aged sheep cheese el cencerro 250 gr.                       \n",
      "5921  semi cured sheep cheese slices dia el cencerro...                       \n",
      "6163  semi cured cheese cut dia el cencerro wedge 25...                       \n",
      "4525    semi cured cheese dia el cencerro wedge 300 gr.                       \n",
      "\n",
      "                           master_category_names  \n",
      "0     dairy / chilled / eggs_dairy / eggs_cheese  \n",
      "8002  dairy / chilled / eggs_dairy / eggs_cheese  \n",
      "4744  dairy / chilled / eggs_dairy / eggs_cheese  \n",
      "5921  dairy / chilled / eggs_dairy / eggs_cheese  \n",
      "6163  dairy / chilled / eggs_dairy / eggs_cheese  \n",
      "4525  dairy / chilled / eggs_dairy / eggs_cheese  \n"
     ]
    }
   ],
   "source": [
    "print(similar_products(0, 5))"
   ]
  },
  {
   "cell_type": "code",
   "execution_count": 65,
   "id": "21453565",
   "metadata": {
    "scrolled": true
   },
   "outputs": [
    {
     "name": "stdout",
     "output_type": "stream",
     "text": [
      "                                   product_name_english product_description  \\\n",
      "1                         diasol sunflower food oil 1 l                       \n",
      "3993          extra virgin olive oil dcoop bottle 1 lt.                       \n",
      "3980          extra virgin olive oil dcoop bottle 3 lt.                       \n",
      "4393        borges high oleic sunflower oil bottle 1 l.                       \n",
      "1692  extra virgin olive oil dia almazara del olivar...                       \n",
      "174   extra virgin olive oil dia almazara del olivar...                       \n",
      "\n",
      "                                  master_category_names  \n",
      "1     packaged foods_cooking / condiments / baking /...  \n",
      "3993  packaged foods_cooking / condiments / baking /...  \n",
      "3980  packaged foods_cooking / condiments / baking /...  \n",
      "4393  packaged foods_cooking / condiments / baking /...  \n",
      "1692  packaged foods_cooking / condiments / baking /...  \n",
      "174   packaged foods_cooking / condiments / baking /...  \n"
     ]
    }
   ],
   "source": [
    "print(similar_products(1, 5))"
   ]
  },
  {
   "cell_type": "code",
   "execution_count": 66,
   "id": "e35a06bf",
   "metadata": {},
   "outputs": [
    {
     "name": "stdout",
     "output_type": "stream",
     "text": [
      "                                   product_name_english product_description  \\\n",
      "2     dia delimagic baking powder box 5 sachets of 1...                       \n",
      "1237                      dia stevia powder jar 200 gr.                       \n",
      "8165                    dia powder sweetener jar 75 gr.                       \n",
      "5898                 delimagic pancake mix dia jar 200g                       \n",
      "3676                 strawberry gelatin dia box 170 gr.                       \n",
      "5795                             dia strong flour 1 kg.                       \n",
      "\n",
      "                                  master_category_names  \n",
      "2     packaged foods_cooking / condiments / baking /...  \n",
      "1237  packaged foods_cooking / condiments / baking /...  \n",
      "8165  packaged foods_cooking / condiments / baking /...  \n",
      "5898  packaged foods_cooking / condiments / baking /...  \n",
      "3676  packaged foods_cooking / condiments / baking /...  \n",
      "5795  packaged foods_cooking / condiments / baking /...  \n"
     ]
    }
   ],
   "source": [
    "print(similar_products(2, 5))"
   ]
  },
  {
   "cell_type": "code",
   "execution_count": 67,
   "id": "21579b6c",
   "metadata": {
    "scrolled": true
   },
   "outputs": [
    {
     "name": "stdout",
     "output_type": "stream",
     "text": [
      "                                   product_name_english product_description  \\\n",
      "3     alcohol free blackberry liqueur sonador bottle...        alcohol free   \n",
      "4545   alcohol free apple liqueur sonador bottle 70 cl.        alcohol free   \n",
      "2575  non alcoholic acorn liqueur la extremena bottl...        alcohol free   \n",
      "5601                        brandy 5 years torres 70 cl                       \n",
      "5201                          jagermeister liqueur 70cl                       \n",
      "1731                                        malibu 70cl                       \n",
      "\n",
      "              master_category_names  \n",
      "3     bws_spirits_liqueurs / creams  \n",
      "4545  bws_spirits_liqueurs / creams  \n",
      "2575  bws_spirits_liqueurs / creams  \n",
      "5601  bws_spirits_liqueurs / creams  \n",
      "5201  bws_spirits_liqueurs / creams  \n",
      "1731  bws_spirits_liqueurs / creams  \n"
     ]
    }
   ],
   "source": [
    "print(similar_products(3, 5))"
   ]
  },
  {
   "cell_type": "code",
   "execution_count": 68,
   "id": "7887a04a",
   "metadata": {},
   "outputs": [
    {
     "name": "stdout",
     "output_type": "stream",
     "text": [
      "                                   product_name_english product_description  \\\n",
      "10    iberian cebo lomo slices 50% dia nuestra alace...                       \n",
      "4212  iberian cebo ham slices 50% dia nuestra alacen...                       \n",
      "1559  iberian salami slices dia nuestra alacena 2 x 60g                       \n",
      "2017    iberian cebo ham 50% dia nuestra alacena 90 gr.                       \n",
      "4982  turkey mortadella thin slices dia nuestra alac...                       \n",
      "5959  iberian cebo shoulder 50% dia nuestra alacena ...                       \n",
      "\n",
      "                                 master_category_names  \n",
      "10    dairy / chilled / eggs_deli / snacking_deli meat  \n",
      "4212  dairy / chilled / eggs_deli / snacking_deli meat  \n",
      "1559  dairy / chilled / eggs_deli / snacking_deli meat  \n",
      "2017  dairy / chilled / eggs_deli / snacking_deli meat  \n",
      "4982  dairy / chilled / eggs_deli / snacking_deli meat  \n",
      "5959  dairy / chilled / eggs_deli / snacking_deli meat  \n"
     ]
    }
   ],
   "source": [
    "print(similar_products(10, 5))"
   ]
  },
  {
   "cell_type": "code",
   "execution_count": 69,
   "id": "01536c3e",
   "metadata": {},
   "outputs": [
    {
     "name": "stdout",
     "output_type": "stream",
     "text": [
      "                                   product_name_english product_description  \\\n",
      "11                nutrition juice with iron hohes c 1 l                       \n",
      "78                  don simon orange juice with pulp 1l                       \n",
      "4081    fruit juice with vitamin d hohes c bottle 1 lt.                       \n",
      "3994  mind fruit extracts and vitamins juice dia zum...                       \n",
      "5784  don simon la huerta cranberry apple and grape ...                       \n",
      "2986               orange juice pet with pulp sim on lt                       \n",
      "\n",
      "                                  master_category_names  \n",
      "11    beverages_juice / ice tea / sports / energy_juice  \n",
      "78    beverages_juice / ice tea / sports / energy_juice  \n",
      "4081  beverages_juice / ice tea / sports / energy_juice  \n",
      "3994  beverages_juice / ice tea / sports / energy_juice  \n",
      "5784  beverages_juice / ice tea / sports / energy_juice  \n",
      "2986  beverages_juice / ice tea / sports / energy_juice  \n"
     ]
    }
   ],
   "source": [
    "print(similar_products(11, 5))"
   ]
  },
  {
   "cell_type": "code",
   "execution_count": 70,
   "id": "6af0a04b",
   "metadata": {},
   "outputs": [
    {
     "name": "stdout",
     "output_type": "stream",
     "text": [
      "                                   product_name_english product_description  \\\n",
      "20                argan elixir gel natural honey 600 ml                       \n",
      "2190            natural shower gel honey coconut 600 ml                       \n",
      "6027       natural honey moisturizing shower gel 675 ml                       \n",
      "6447  coconut shower gel travel size natural honey 7...                       \n",
      "1920     pure micellar shower gel natural honey 750 ml.                       \n",
      "2771  sensitive shower gel natural honey dispenser 7...                       \n",
      "\n",
      "                                  master_category_names  \n",
      "20    personal care / baby / health_personal care / ...  \n",
      "2190  personal care / baby / health_personal care / ...  \n",
      "6027  personal care / baby / health_personal care / ...  \n",
      "6447  personal care / baby / health_personal care / ...  \n",
      "1920  personal care / baby / health_personal care / ...  \n",
      "2771  personal care / baby / health_personal care / ...  \n"
     ]
    }
   ],
   "source": [
    "print(similar_products(20, 5))"
   ]
  },
  {
   "cell_type": "code",
   "execution_count": 71,
   "id": "7047f76e",
   "metadata": {},
   "outputs": [
    {
     "name": "stdout",
     "output_type": "stream",
     "text": [
      "                                   product_name_english product_description  \\\n",
      "21      essencials eye makeup remover skin natura 125ml                       \n",
      "7838    makeup remover for sensitive skin bonte 250 ml.                       \n",
      "4601        waterproof eye makeup remover bonte 150 ml.                       \n",
      "8080  waterproof eye makeup remover travel size bont...                       \n",
      "7732     gentle eye makeup remover bonte bottle 150 ml.                       \n",
      "8436  eye and lip makeup remover babaria bottle 100 ml.                       \n",
      "\n",
      "                                  master_category_names  \n",
      "21    personal care / baby / health_personal care / ...  \n",
      "7838  personal care / baby / health_personal care / ...  \n",
      "4601  personal care / baby / health_personal care / ...  \n",
      "8080  personal care / baby / health_personal care / ...  \n",
      "7732  personal care / baby / health_personal care / ...  \n",
      "8436  personal care / baby / health_personal care / ...  \n"
     ]
    }
   ],
   "source": [
    "print(similar_products(21, 5))"
   ]
  },
  {
   "cell_type": "code",
   "execution_count": 72,
   "id": "113c5140",
   "metadata": {},
   "outputs": [
    {
     "name": "stdout",
     "output_type": "stream",
     "text": [
      "                        product_name_english product_description  \\\n",
      "22            albo sardines in olive oil 85g                       \n",
      "4318          cuca sardines in olive oil 82g                       \n",
      "1304    albo small sardines in olive oil 82g                       \n",
      "421         albo \\\"bonito\\\" in olive oil 82g                       \n",
      "5759   calvo tuna in olive oil pack 3x52 gr.                       \n",
      "3080  calvo tuna in olive oil pack 6x420 gr.                       \n",
      "\n",
      "                                  master_category_names  \n",
      "22    packaged foods_canned / jarred / instant meals...  \n",
      "4318  packaged foods_canned / jarred / instant meals...  \n",
      "1304  packaged foods_canned / jarred / instant meals...  \n",
      "421   packaged foods_canned / jarred / instant meals...  \n",
      "5759  packaged foods_canned / jarred / instant meals...  \n",
      "3080  packaged foods_canned / jarred / instant meals...  \n"
     ]
    }
   ],
   "source": [
    "print(similar_products(22, 5))"
   ]
  },
  {
   "cell_type": "code",
   "execution_count": 73,
   "id": "32edd035",
   "metadata": {},
   "outputs": [
    {
     "name": "stdout",
     "output_type": "stream",
     "text": [
      "                                   product_name_english product_description  \\\n",
      "35        shea butter body cream dry skin nivea 400 ml.                       \n",
      "4759  nourishing body cream very dry skin nivea bott...                       \n",
      "557   strong dry skin body cream eudermin dispenser ...                       \n",
      "5723  nivea visage nourishing day cream for dry and ...                       \n",
      "2403  anti aging hand cream dry skin nivea q10 plus ...                       \n",
      "5255            nivea day cream normal skin spf 30 50ml                       \n",
      "\n",
      "                                  master_category_names  \n",
      "35    personal care / baby / health_personal care / ...  \n",
      "4759  personal care / baby / health_personal care / ...  \n",
      "557   personal care / baby / health_personal care / ...  \n",
      "5723  personal care / baby / health_personal care / ...  \n",
      "2403  personal care / baby / health_personal care / ...  \n",
      "5255  personal care / baby / health_personal care / ...  \n"
     ]
    }
   ],
   "source": [
    "print(similar_products(35, 5))"
   ]
  },
  {
   "cell_type": "code",
   "execution_count": 74,
   "id": "0bae82cf",
   "metadata": {},
   "outputs": [
    {
     "name": "stdout",
     "output_type": "stream",
     "text": [
      "                                   product_name_english product_description  \\\n",
      "37                       colorcrem bleaching kit 1 unit                       \n",
      "3864  ultra moisturizing sock for feet imaqe bag 2 u...                       \n",
      "2023        exfoliating sock for feet imaqe bag 2 units                       \n",
      "1029  firming body milk with vitamin c and q10 imaqe...                       \n",
      "7943  moisturizing body milk with aloe vera and hyal...                       \n",
      "5473  nourishing body milk with almonds and probioti...                       \n",
      "\n",
      "                                  master_category_names  \n",
      "37    personal care / baby / health_personal care / ...  \n",
      "3864  personal care / baby / health_personal care / ...  \n",
      "2023  personal care / baby / health_personal care / ...  \n",
      "1029  personal care / baby / health_personal care / ...  \n",
      "7943  personal care / baby / health_personal care / ...  \n",
      "5473  personal care / baby / health_personal care / ...  \n"
     ]
    }
   ],
   "source": [
    "print(similar_products(37, 5))"
   ]
  },
  {
   "cell_type": "code",
   "execution_count": 75,
   "id": "0a78a0d3",
   "metadata": {},
   "outputs": [
    {
     "name": "stdout",
     "output_type": "stream",
     "text": [
      "                                   product_name_english product_description  \\\n",
      "39         day snack maniac! 130 g barbecue corn strips                       \n",
      "498            day snack maniac! nachos jalapenho 150 g                       \n",
      "1156               day snack maniac! aprious cones 85 g                       \n",
      "1527  barbecue flavored fried corn dia snack maniac ...                       \n",
      "7867    potato cheese flavored snack maniac bag 150 gr.                       \n",
      "888   cheese flavored ganchitos snack maniac bag 80 gr.                       \n",
      "\n",
      "          master_category_names  \n",
      "39    snacks_salty snacks_chips  \n",
      "498   snacks_salty snacks_chips  \n",
      "1156  snacks_salty snacks_chips  \n",
      "1527  snacks_salty snacks_chips  \n",
      "7867  snacks_salty snacks_chips  \n",
      "888   snacks_salty snacks_chips  \n"
     ]
    }
   ],
   "source": [
    "print(similar_products(39, 5))"
   ]
  },
  {
   "cell_type": "code",
   "execution_count": 76,
   "id": "f2b9dc77",
   "metadata": {},
   "outputs": [
    {
     "name": "stdout",
     "output_type": "stream",
     "text": [
      "                                   product_name_english product_description  \\\n",
      "47                         extra chorizo el pozo 85 gr.                       \n",
      "1684               extra spicy chorizo ezequiel 425 gr.                       \n",
      "4678               extra sweet chorizo ezequiel 425 gr.                       \n",
      "4788        extra chorizo without colorants dia 385 gr.                       \n",
      "8298      extra spicy sarta chorizo dia package 280 gr.                       \n",
      "8205  extra chorizo petals 50% duroc boadas pack 80 gr.                       \n",
      "\n",
      "                                 master_category_names  \n",
      "47    dairy / chilled / eggs_deli / snacking_deli meat  \n",
      "1684  dairy / chilled / eggs_deli / snacking_deli meat  \n",
      "4678  dairy / chilled / eggs_deli / snacking_deli meat  \n",
      "4788  dairy / chilled / eggs_deli / snacking_deli meat  \n",
      "8298  dairy / chilled / eggs_deli / snacking_deli meat  \n",
      "8205  dairy / chilled / eggs_deli / snacking_deli meat  \n"
     ]
    }
   ],
   "source": [
    "print(similar_products(47, 5))"
   ]
  },
  {
   "cell_type": "code",
   "execution_count": 77,
   "id": "0cdf110d",
   "metadata": {},
   "outputs": [
    {
     "name": "stdout",
     "output_type": "stream",
     "text": [
      "                              product_name_english product_description  \\\n",
      "49     salmon pate dia nuestra alacena jar 110 gr.                       \n",
      "7863      ham pate dia nuestra alacena jar 110 gr.                       \n",
      "3040  anchovy pate dia nuestra alacena jar 110 gr.                       \n",
      "5493  chicken pate dia nuestra alacena jar 110 gr.                       \n",
      "7749               pork liver pate dia jar 200 gr.                       \n",
      "4284                  dia country pate jar 125 gr.                       \n",
      "\n",
      "                                  master_category_names  \n",
      "49    packaged foods_canned / jarred / instant meals...  \n",
      "7863  packaged foods_canned / jarred / instant meals...  \n",
      "3040  packaged foods_canned / jarred / instant meals...  \n",
      "5493  packaged foods_canned / jarred / instant meals...  \n",
      "7749  packaged foods_canned / jarred / instant meals...  \n",
      "4284  packaged foods_canned / jarred / instant meals...  \n"
     ]
    }
   ],
   "source": [
    "print(similar_products(49, 5))"
   ]
  },
  {
   "cell_type": "code",
   "execution_count": 78,
   "id": "c2edf789",
   "metadata": {},
   "outputs": [
    {
     "name": "stdout",
     "output_type": "stream",
     "text": [
      "                               product_name_english product_description  \\\n",
      "60          extra fig jam 60% fruit dia jar 320 gr.                       \n",
      "509                 extra peach jam dia jar 390 gr.                       \n",
      "55                     extra peach jam dia jar 640g                       \n",
      "6082     extra peach diet jam dia vital jar 330 gr.                       \n",
      "5049  blueberry extra jam dia delicious jar 320 gr.                       \n",
      "6124  raspberry extra jam dia delicious jar 320 gr.                       \n",
      "\n",
      "                       master_category_names  \n",
      "60    packaged foods_breakfast / spreads_jam  \n",
      "509   packaged foods_breakfast / spreads_jam  \n",
      "55    packaged foods_breakfast / spreads_jam  \n",
      "6082  packaged foods_breakfast / spreads_jam  \n",
      "5049  packaged foods_breakfast / spreads_jam  \n",
      "6124  packaged foods_breakfast / spreads_jam  \n"
     ]
    }
   ],
   "source": [
    "print(similar_products(60, 5))"
   ]
  },
  {
   "cell_type": "code",
   "execution_count": 79,
   "id": "987ad1e0",
   "metadata": {},
   "outputs": [
    {
     "name": "stdout",
     "output_type": "stream",
     "text": [
      "                product_name_english product_description  \\\n",
      "811               native milk 3 800g                       \n",
      "2513    ideal evaporated milk 525 ml                       \n",
      "4294  la lechera condensed milk 370g                       \n",
      "6998  la lechera condensed milk 450g                       \n",
      "2845  la lechera condensed milk 740g                       \n",
      "6235   mardel milk sweet jar 450 gr.                       \n",
      "\n",
      "                                  master_category_names  \n",
      "811   dairy / chilled / eggs_milk_condensed / evapor...  \n",
      "2513  dairy / chilled / eggs_milk_condensed / evapor...  \n",
      "4294  dairy / chilled / eggs_milk_condensed / evapor...  \n",
      "6998  dairy / chilled / eggs_milk_condensed / evapor...  \n",
      "2845  dairy / chilled / eggs_milk_condensed / evapor...  \n",
      "6235  dairy / chilled / eggs_milk_condensed / evapor...  \n"
     ]
    }
   ],
   "source": [
    "print(similar_products(811, 5))"
   ]
  },
  {
   "cell_type": "code",
   "execution_count": 80,
   "id": "f3a3160d",
   "metadata": {},
   "outputs": [
    {
     "name": "stdout",
     "output_type": "stream",
     "text": [
      "                                   product_name_english product_description  \\\n",
      "812                         bimbo hot dog bread 6u 330g                       \n",
      "7100  rustic hot dog bread el molino de dia bag 330 gr.                       \n",
      "2673  toasted bread with tomato and oregano dia pack...                       \n",
      "86    whole wheat toasted bread with sesame dia vita...                       \n",
      "2778        bread with cheese dia naturmundo bag 90 gr.                       \n",
      "3071  milka choco trio cocoa sponge cake covered wit...                       \n",
      "\n",
      "              master_category_names  \n",
      "812   bread / bakery_bread_packaged  \n",
      "7100  bread / bakery_bread_packaged  \n",
      "2673  bread / bakery_bread_packaged  \n",
      "86    bread / bakery_bread_packaged  \n",
      "2778  bread / bakery_bread_packaged  \n",
      "3071  bread / bakery_bread_packaged  \n"
     ]
    }
   ],
   "source": [
    "print(similar_products(812, 5))"
   ]
  },
  {
   "cell_type": "code",
   "execution_count": 81,
   "id": "e9d27001",
   "metadata": {},
   "outputs": [
    {
     "name": "stdout",
     "output_type": "stream",
     "text": [
      "                                   product_name_english product_description  \\\n",
      "813   mineral sun cream for children spf 50 dia imaq...                       \n",
      "6410  facial sun cream with mineral filter spf 50 di...                       \n",
      "5182        hand cream with peach dia imaqe tube 50 ml.                       \n",
      "2711  children's sun milk spf 50+ dia imaqe tube 250...                       \n",
      "199                   dia imaqe facial cream jar 50 ml.                       \n",
      "1599      hand cream with vanilla dia imaqe tube 50 ml.                       \n",
      "\n",
      "                                  master_category_names  \n",
      "813   personal care / baby / health_personal care / ...  \n",
      "6410  personal care / baby / health_personal care / ...  \n",
      "5182  personal care / baby / health_personal care / ...  \n",
      "2711  personal care / baby / health_personal care / ...  \n",
      "199   personal care / baby / health_personal care / ...  \n",
      "1599  personal care / baby / health_personal care / ...  \n"
     ]
    }
   ],
   "source": [
    "print(similar_products(813, 5))"
   ]
  },
  {
   "cell_type": "code",
   "execution_count": 82,
   "id": "d72dfd03",
   "metadata": {},
   "outputs": [
    {
     "name": "stdout",
     "output_type": "stream",
     "text": [
      "                                   product_name_english product_description  \\\n",
      "814                freezer bags zip 3l dia pack 40 pcs.                       \n",
      "3318                        thermal bag with velcro dia                       \n",
      "3830  dia super paco saco para congelacao com zip (1...                       \n",
      "6254  dia super paco saco para congelacao com zip (3...                       \n",
      "4616            large ziplock bags ziperfix box 10 pcs.                       \n",
      "2028                         dia papel de aluminio 30 m                       \n",
      "\n",
      "                            master_category_names  \n",
      "814   home / pet_disposables_food storage / wraps  \n",
      "3318  home / pet_disposables_food storage / wraps  \n",
      "3830  home / pet_disposables_food storage / wraps  \n",
      "6254  home / pet_disposables_food storage / wraps  \n",
      "4616  home / pet_disposables_food storage / wraps  \n",
      "2028  home / pet_disposables_food storage / wraps  \n"
     ]
    }
   ],
   "source": [
    "print(similar_products(814, 5))"
   ]
  },
  {
   "cell_type": "code",
   "execution_count": 83,
   "id": "b7e249b2",
   "metadata": {},
   "outputs": [
    {
     "name": "stdout",
     "output_type": "stream",
     "text": [
      "                                   product_name_english product_description  \\\n",
      "5011                        oat milk natural vegedia 1l         plant based   \n",
      "7866                     almond milk natural vegedia 1l         plant based   \n",
      "5474                               rice milk vegedia 1l         plant based   \n",
      "3026  fruit with milk drink mediterranean dia zumosf...                       \n",
      "4510  fruit with milk drink mediterranean dia zumosf...                       \n",
      "1383  fruit with milk drink mediterranean dia zumosf...                       \n",
      "\n",
      "                              master_category_names  \n",
      "5011  dairy / chilled / eggs_milk_milk alternatives  \n",
      "7866  dairy / chilled / eggs_milk_milk alternatives  \n",
      "5474  dairy / chilled / eggs_milk_milk alternatives  \n",
      "3026  dairy / chilled / eggs_milk_milk alternatives  \n",
      "4510  dairy / chilled / eggs_milk_milk alternatives  \n",
      "1383  dairy / chilled / eggs_milk_milk alternatives  \n"
     ]
    }
   ],
   "source": [
    "print(similar_products(5011, 5))"
   ]
  },
  {
   "cell_type": "markdown",
   "id": "741f2dbd",
   "metadata": {},
   "source": [
    "### 2.1.2 Implement TF-IDF Weighted Word Vectors"
   ]
  },
  {
   "cell_type": "markdown",
   "id": "ee27c70b",
   "metadata": {},
   "source": [
    "This method weights the importance of terms in a document based on how frequently they appear across multiple documents. "
   ]
  },
  {
   "cell_type": "code",
   "execution_count": 84,
   "id": "c3a464f6",
   "metadata": {},
   "outputs": [],
   "source": [
    "documents = filtered_df['combined_text'].tolist()\n",
    "master_categories = filtered_df['master_category_names'].tolist()\n",
    "\n",
    "# Initialise a TF-IDF Vectoriser \n",
    "tfidf_vectorizer = TfidfVectorizer()\n",
    "tfidf_matrix = tfidf_vectorizer.fit_transform(documents)\n",
    "\n",
    "features = tfidf_vectorizer.get_feature_names_out()\n",
    "\n",
    "def weighted_text_vector(text, model, tfidf_vector, features):\n",
    "    words = text.split()\n",
    "    word_vecs = []\n",
    "    tfidf_scores = []\n",
    "    \n",
    "    for word in words:\n",
    "        if word in model.wv.key_to_index and word in features:\n",
    "            word_vecs.append(model.wv[word])\n",
    "            tfidf_index = features.tolist().index(word)\n",
    "            tfidf_scores.append(tfidf_vector[0, tfidf_index])\n",
    "\n",
    "    if word_vecs:\n",
    "        return np.average(word_vecs, axis=0, weights=tfidf_scores)\n",
    "    else:\n",
    "        return np.zeros(model.vector_size)\n",
    "\n",
    "filtered_df['weighted_doc_vector'] = [\n",
    "    weighted_text_vector(text, model, tfidf_matrix[idx], features) \n",
    "    for idx, text in enumerate(documents)\n",
    "]"
   ]
  },
  {
   "cell_type": "code",
   "execution_count": 85,
   "id": "becb19d5",
   "metadata": {},
   "outputs": [],
   "source": [
    "vectors = np.array(filtered_df['weighted_doc_vector'].tolist())\n",
    "\n",
    "# Compute the cosine similarity matrix\n",
    "similarity_matrix = cosine_similarity(vectors)\n",
    "\n",
    "for i in range(len(master_categories)):\n",
    "    for j in range(len(master_categories)):\n",
    "        if master_categories[i] != master_categories[j]:\n",
    "            similarity_matrix[i, j] = 0\n",
    "\n",
    "def similar_products(product_index, top_n=5):\n",
    "    similarity_scores = list(enumerate(similarity_matrix[product_index]))\n",
    "    sorted_scores = sorted(similarity_scores, key=lambda x: x[1], reverse=True)\n",
    "    top_indices = [idx for idx, score in sorted_scores[1:top_n+1]]\n",
    "    return filtered_df.iloc[top_indices][['product_name_english', 'product_description', 'master_category_names']]"
   ]
  },
  {
   "cell_type": "code",
   "execution_count": 86,
   "id": "9bea4217",
   "metadata": {},
   "outputs": [
    {
     "name": "stdout",
     "output_type": "stream",
     "text": [
      "                                   product_name_english product_description  \\\n",
      "8002             cured sheep cheese el cencerro 250 gr.                       \n",
      "5921  semi cured sheep cheese slices dia el cencerro...                       \n",
      "4744              aged sheep cheese el cencerro 250 gr.                       \n",
      "6163  semi cured cheese cut dia el cencerro wedge 25...                       \n",
      "3310  semi cured cheese slices dia el cencerro pack ...                       \n",
      "\n",
      "                           master_category_names  \n",
      "8002  dairy / chilled / eggs_dairy / eggs_cheese  \n",
      "5921  dairy / chilled / eggs_dairy / eggs_cheese  \n",
      "4744  dairy / chilled / eggs_dairy / eggs_cheese  \n",
      "6163  dairy / chilled / eggs_dairy / eggs_cheese  \n",
      "3310  dairy / chilled / eggs_dairy / eggs_cheese  \n"
     ]
    }
   ],
   "source": [
    "print(similar_products(0, 5))"
   ]
  },
  {
   "cell_type": "code",
   "execution_count": 87,
   "id": "ee6887dd",
   "metadata": {},
   "outputs": [
    {
     "name": "stdout",
     "output_type": "stream",
     "text": [
      "                                   product_name_english product_description  \\\n",
      "4393        borges high oleic sunflower oil bottle 1 l.                       \n",
      "4366  extra virgin olive oil with garlic la espanola...                       \n",
      "1724  extra virgin olive oil with chili la espanola ...                       \n",
      "174   extra virgin olive oil dia almazara del olivar...                       \n",
      "1692  extra virgin olive oil dia almazara del olivar...                       \n",
      "\n",
      "                                  master_category_names  \n",
      "4393  packaged foods_cooking / condiments / baking /...  \n",
      "4366  packaged foods_cooking / condiments / baking /...  \n",
      "1724  packaged foods_cooking / condiments / baking /...  \n",
      "174   packaged foods_cooking / condiments / baking /...  \n",
      "1692  packaged foods_cooking / condiments / baking /...  \n"
     ]
    }
   ],
   "source": [
    "print(similar_products(1, 5))"
   ]
  },
  {
   "cell_type": "code",
   "execution_count": 88,
   "id": "d700985b",
   "metadata": {
    "scrolled": false
   },
   "outputs": [
    {
     "name": "stdout",
     "output_type": "stream",
     "text": [
      "                             product_name_english product_description  \\\n",
      "1237                dia stevia powder jar 200 gr.                       \n",
      "4962  royal baking powder mix 6 sachets of 16 gr.                       \n",
      "8165              dia powder sweetener jar 75 gr.                       \n",
      "5898           delimagic pancake mix dia jar 200g                       \n",
      "6761             dia liquid sweetener jar 200 gr.                       \n",
      "\n",
      "                                  master_category_names  \n",
      "1237  packaged foods_cooking / condiments / baking /...  \n",
      "4962  packaged foods_cooking / condiments / baking /...  \n",
      "8165  packaged foods_cooking / condiments / baking /...  \n",
      "5898  packaged foods_cooking / condiments / baking /...  \n",
      "6761  packaged foods_cooking / condiments / baking /...  \n"
     ]
    }
   ],
   "source": [
    "print(similar_products(2, 5))"
   ]
  },
  {
   "cell_type": "markdown",
   "id": "86968f04",
   "metadata": {},
   "source": [
    "After TF-IDF implementation, one of \"dia delimagic baking powder\"s replacement is another baking powder! Although there is still another baking powder that it still doesn't recognise as a substitute."
   ]
  },
  {
   "cell_type": "code",
   "execution_count": 89,
   "id": "63d91437",
   "metadata": {},
   "outputs": [
    {
     "name": "stdout",
     "output_type": "stream",
     "text": [
      "                                   product_name_english product_description  \\\n",
      "4545   alcohol free apple liqueur sonador bottle 70 cl.        alcohol free   \n",
      "2575  non alcoholic acorn liqueur la extremena bottl...        alcohol free   \n",
      "5601                        brandy 5 years torres 70 cl                       \n",
      "5280        baileys deliciously light irish cream 70 cl                       \n",
      "3183             sweet anise liqueur estepa bottle 1 l.                       \n",
      "\n",
      "              master_category_names  \n",
      "4545  bws_spirits_liqueurs / creams  \n",
      "2575  bws_spirits_liqueurs / creams  \n",
      "5601  bws_spirits_liqueurs / creams  \n",
      "5280  bws_spirits_liqueurs / creams  \n",
      "3183  bws_spirits_liqueurs / creams  \n"
     ]
    }
   ],
   "source": [
    "print(similar_products(3, 5))"
   ]
  },
  {
   "cell_type": "code",
   "execution_count": 90,
   "id": "4bfdaff5",
   "metadata": {},
   "outputs": [
    {
     "name": "stdout",
     "output_type": "stream",
     "text": [
      "                                   product_name_english product_description  \\\n",
      "1019                 mini bag snickers chocolates 130 g                       \n",
      "418                                     twix minis 227g                       \n",
      "7177                     snickers chocolate dessert 50g                       \n",
      "299                   kinder surprise figure sheep 36 g                       \n",
      "8222  snickers chocolate bar with caramel and peanut...                       \n",
      "\n",
      "               master_category_names  \n",
      "1019  snacks_confectionary_chocolate  \n",
      "418   snacks_confectionary_chocolate  \n",
      "7177  snacks_confectionary_chocolate  \n",
      "299   snacks_confectionary_chocolate  \n",
      "8222  snacks_confectionary_chocolate  \n"
     ]
    }
   ],
   "source": [
    "print(similar_products(7, 5))"
   ]
  },
  {
   "cell_type": "code",
   "execution_count": 91,
   "id": "8a185309",
   "metadata": {},
   "outputs": [
    {
     "name": "stdout",
     "output_type": "stream",
     "text": [
      "                 product_name_english product_description  \\\n",
      "430            kiwi zespri tray 500 g                       \n",
      "7782            kiwi bio tray 500 gr.                       \n",
      "684      pink lady apple tray 550 gr.                       \n",
      "3822                  apple bag 1 kg.                       \n",
      "6356  la cuerva strawberries bag 300g                       \n",
      "\n",
      "     master_category_names  \n",
      "430    produce_fruit_other  \n",
      "7782   produce_fruit_other  \n",
      "684    produce_fruit_other  \n",
      "3822   produce_fruit_other  \n",
      "6356   produce_fruit_other  \n"
     ]
    }
   ],
   "source": [
    "print(similar_products(9, 5))"
   ]
  },
  {
   "cell_type": "code",
   "execution_count": 92,
   "id": "c82c5ad9",
   "metadata": {},
   "outputs": [
    {
     "name": "stdout",
     "output_type": "stream",
     "text": [
      "                                   product_name_english product_description  \\\n",
      "4212  iberian cebo ham slices 50% dia nuestra alacen...                       \n",
      "2017    iberian cebo ham 50% dia nuestra alacena 90 gr.                       \n",
      "1559  iberian salami slices dia nuestra alacena 2 x 60g                       \n",
      "4982  turkey mortadella thin slices dia nuestra alac...                       \n",
      "487   turkey ham thin slices dia nuestra alacena 200...                       \n",
      "\n",
      "                                 master_category_names  \n",
      "4212  dairy / chilled / eggs_deli / snacking_deli meat  \n",
      "2017  dairy / chilled / eggs_deli / snacking_deli meat  \n",
      "1559  dairy / chilled / eggs_deli / snacking_deli meat  \n",
      "4982  dairy / chilled / eggs_deli / snacking_deli meat  \n",
      "487   dairy / chilled / eggs_deli / snacking_deli meat  \n"
     ]
    }
   ],
   "source": [
    "print(similar_products(10, 5))"
   ]
  },
  {
   "cell_type": "code",
   "execution_count": 93,
   "id": "3626cba7",
   "metadata": {},
   "outputs": [
    {
     "name": "stdout",
     "output_type": "stream",
     "text": [
      "                                 product_name_english product_description  \\\n",
      "4081  fruit juice with vitamin d hohes c bottle 1 lt.                       \n",
      "78                don simon orange juice with pulp 1l                       \n",
      "3263          100% pineapple juice dia delicious 1 l.                       \n",
      "7313                  orange juice dia packaging 1 l.                       \n",
      "6903             peach apple and grape juice dia 1 l.                       \n",
      "\n",
      "                                  master_category_names  \n",
      "4081  beverages_juice / ice tea / sports / energy_juice  \n",
      "78    beverages_juice / ice tea / sports / energy_juice  \n",
      "3263  beverages_juice / ice tea / sports / energy_juice  \n",
      "7313  beverages_juice / ice tea / sports / energy_juice  \n",
      "6903  beverages_juice / ice tea / sports / energy_juice  \n"
     ]
    }
   ],
   "source": [
    "print(similar_products(11, 5))"
   ]
  },
  {
   "cell_type": "code",
   "execution_count": 94,
   "id": "755047cc",
   "metadata": {},
   "outputs": [
    {
     "name": "stdout",
     "output_type": "stream",
     "text": [
      "                                   product_name_english product_description  \\\n",
      "4601        waterproof eye makeup remover bonte 150 ml.                       \n",
      "8436  eye and lip makeup remover babaria bottle 100 ml.                       \n",
      "7838    makeup remover for sensitive skin bonte 250 ml.                       \n",
      "2888  sensitive skin makeup remover wipes bonte 10 pcs.                       \n",
      "7010   makeup remover wipes for oily skin bonte 20 pcs.                       \n",
      "\n",
      "                                  master_category_names  \n",
      "4601  personal care / baby / health_personal care / ...  \n",
      "8436  personal care / baby / health_personal care / ...  \n",
      "7838  personal care / baby / health_personal care / ...  \n",
      "2888  personal care / baby / health_personal care / ...  \n",
      "7010  personal care / baby / health_personal care / ...  \n"
     ]
    }
   ],
   "source": [
    "print(similar_products(21, 5))"
   ]
  },
  {
   "cell_type": "code",
   "execution_count": 95,
   "id": "0c5f2e58",
   "metadata": {},
   "outputs": [
    {
     "name": "stdout",
     "output_type": "stream",
     "text": [
      "                        product_name_english product_description  \\\n",
      "421         albo \\\"bonito\\\" in olive oil 82g                       \n",
      "4318          cuca sardines in olive oil 82g                       \n",
      "1304    albo small sardines in olive oil 82g                       \n",
      "3080  calvo tuna in olive oil pack 6x420 gr.                       \n",
      "5759   calvo tuna in olive oil pack 3x52 gr.                       \n",
      "\n",
      "                                  master_category_names  \n",
      "421   packaged foods_canned / jarred / instant meals...  \n",
      "4318  packaged foods_canned / jarred / instant meals...  \n",
      "1304  packaged foods_canned / jarred / instant meals...  \n",
      "3080  packaged foods_canned / jarred / instant meals...  \n",
      "5759  packaged foods_canned / jarred / instant meals...  \n"
     ]
    }
   ],
   "source": [
    "print(similar_products(22, 5))"
   ]
  },
  {
   "cell_type": "code",
   "execution_count": 96,
   "id": "fd1b28df",
   "metadata": {},
   "outputs": [
    {
     "name": "stdout",
     "output_type": "stream",
     "text": [
      "                                   product_name_english product_description  \\\n",
      "4759  nourishing body cream very dry skin nivea bott...                       \n",
      "5723  nivea visage nourishing day cream for dry and ...                       \n",
      "2403  anti aging hand cream dry skin nivea q10 plus ...                       \n",
      "5255            nivea day cream normal skin spf 30 50ml                       \n",
      "7983  moisturizing body lotion dry skin sanex bottle...                       \n",
      "\n",
      "                                  master_category_names  \n",
      "4759  personal care / baby / health_personal care / ...  \n",
      "5723  personal care / baby / health_personal care / ...  \n",
      "2403  personal care / baby / health_personal care / ...  \n",
      "5255  personal care / baby / health_personal care / ...  \n",
      "7983  personal care / baby / health_personal care / ...  \n"
     ]
    }
   ],
   "source": [
    "print(similar_products(35, 5))"
   ]
  },
  {
   "cell_type": "code",
   "execution_count": 97,
   "id": "308bdb2c",
   "metadata": {},
   "outputs": [
    {
     "name": "stdout",
     "output_type": "stream",
     "text": [
      "                                   product_name_english product_description  \\\n",
      "2785         imaqe nourishing body butter bottle 200 ml                       \n",
      "1029  firming body milk with vitamin c and q10 imaqe...                       \n",
      "8179        imaqe aromatherapy body cream bottle 240 ml                       \n",
      "5473  nourishing body milk with almonds and probioti...                       \n",
      "7997  foot cream urea 10% moisturizes and repairs bo...                       \n",
      "\n",
      "                                  master_category_names  \n",
      "2785  personal care / baby / health_personal care / ...  \n",
      "1029  personal care / baby / health_personal care / ...  \n",
      "8179  personal care / baby / health_personal care / ...  \n",
      "5473  personal care / baby / health_personal care / ...  \n",
      "7997  personal care / baby / health_personal care / ...  \n"
     ]
    }
   ],
   "source": [
    "print(similar_products(37, 5))"
   ]
  },
  {
   "cell_type": "code",
   "execution_count": 98,
   "id": "19f68294",
   "metadata": {},
   "outputs": [
    {
     "name": "stdout",
     "output_type": "stream",
     "text": [
      "                                   product_name_english product_description  \\\n",
      "1527  barbecue flavored fried corn dia snack maniac ...                       \n",
      "966   vital day mini corn and rice tortitas 75 g che...                       \n",
      "7867    potato cheese flavored snack maniac bag 150 gr.                       \n",
      "3672        dia snack maniac light potatoes bag 150 gr.                       \n",
      "6850      vital day corn tortitas with 90.4 g chocolate                       \n",
      "\n",
      "          master_category_names  \n",
      "1527  snacks_salty snacks_chips  \n",
      "966   snacks_salty snacks_chips  \n",
      "7867  snacks_salty snacks_chips  \n",
      "3672  snacks_salty snacks_chips  \n",
      "6850  snacks_salty snacks_chips  \n"
     ]
    }
   ],
   "source": [
    "print(similar_products(39, 5))"
   ]
  },
  {
   "cell_type": "code",
   "execution_count": 99,
   "id": "bcc9b3e4",
   "metadata": {},
   "outputs": [
    {
     "name": "stdout",
     "output_type": "stream",
     "text": [
      "                               product_name_english product_description  \\\n",
      "7271       extra sliced chorizo dia package 225 gr.                       \n",
      "4788    extra chorizo without colorants dia 385 gr.                       \n",
      "8298  extra spicy sarta chorizo dia package 280 gr.                       \n",
      "8173          extra sarta chorizo dia piece 280 gr.                       \n",
      "4678           extra sweet chorizo ezequiel 425 gr.                       \n",
      "\n",
      "                                 master_category_names  \n",
      "7271  dairy / chilled / eggs_deli / snacking_deli meat  \n",
      "4788  dairy / chilled / eggs_deli / snacking_deli meat  \n",
      "8298  dairy / chilled / eggs_deli / snacking_deli meat  \n",
      "8173  dairy / chilled / eggs_deli / snacking_deli meat  \n",
      "4678  dairy / chilled / eggs_deli / snacking_deli meat  \n"
     ]
    }
   ],
   "source": [
    "print(similar_products(47, 5))"
   ]
  },
  {
   "cell_type": "code",
   "execution_count": 100,
   "id": "6d6d61aa",
   "metadata": {},
   "outputs": [
    {
     "name": "stdout",
     "output_type": "stream",
     "text": [
      "                              product_name_english product_description  \\\n",
      "7863      ham pate dia nuestra alacena jar 110 gr.                       \n",
      "3040  anchovy pate dia nuestra alacena jar 110 gr.                       \n",
      "5493  chicken pate dia nuestra alacena jar 110 gr.                       \n",
      "7749               pork liver pate dia jar 200 gr.                       \n",
      "3878                    ham pate coren jar 160 gr.                       \n",
      "\n",
      "                                  master_category_names  \n",
      "7863  packaged foods_canned / jarred / instant meals...  \n",
      "3040  packaged foods_canned / jarred / instant meals...  \n",
      "5493  packaged foods_canned / jarred / instant meals...  \n",
      "7749  packaged foods_canned / jarred / instant meals...  \n",
      "3878  packaged foods_canned / jarred / instant meals...  \n"
     ]
    }
   ],
   "source": [
    "print(similar_products(49, 5))"
   ]
  },
  {
   "cell_type": "code",
   "execution_count": 101,
   "id": "1b840eb0",
   "metadata": {},
   "outputs": [
    {
     "name": "stdout",
     "output_type": "stream",
     "text": [
      "                            product_name_english product_description  \\\n",
      "55                  extra peach jam dia jar 640g                       \n",
      "509              extra peach jam dia jar 390 gr.                       \n",
      "6082  extra peach diet jam dia vital jar 330 gr.                       \n",
      "2997        extra strawberry jam dia jar 390 gr.                       \n",
      "5140           extra strawberry jam dia jar 650g                       \n",
      "\n",
      "                       master_category_names  \n",
      "55    packaged foods_breakfast / spreads_jam  \n",
      "509   packaged foods_breakfast / spreads_jam  \n",
      "6082  packaged foods_breakfast / spreads_jam  \n",
      "2997  packaged foods_breakfast / spreads_jam  \n",
      "5140  packaged foods_breakfast / spreads_jam  \n"
     ]
    }
   ],
   "source": [
    "print(similar_products(60, 5))"
   ]
  },
  {
   "cell_type": "code",
   "execution_count": 102,
   "id": "75e8fe9f",
   "metadata": {},
   "outputs": [
    {
     "name": "stdout",
     "output_type": "stream",
     "text": [
      "                product_name_english product_description  \\\n",
      "6235   mardel milk sweet jar 450 gr.                       \n",
      "2845  la lechera condensed milk 740g                       \n",
      "4294  la lechera condensed milk 370g                       \n",
      "6998  la lechera condensed milk 450g                       \n",
      "2358  dia condensed milk jar 450 gr.                       \n",
      "\n",
      "                                  master_category_names  \n",
      "6235  dairy / chilled / eggs_milk_condensed / evapor...  \n",
      "2845  dairy / chilled / eggs_milk_condensed / evapor...  \n",
      "4294  dairy / chilled / eggs_milk_condensed / evapor...  \n",
      "6998  dairy / chilled / eggs_milk_condensed / evapor...  \n",
      "2358  dairy / chilled / eggs_milk_condensed / evapor...  \n"
     ]
    }
   ],
   "source": [
    "print(similar_products(811, 5))"
   ]
  },
  {
   "cell_type": "code",
   "execution_count": 103,
   "id": "24c20ff4",
   "metadata": {},
   "outputs": [
    {
     "name": "stdout",
     "output_type": "stream",
     "text": [
      "                                   product_name_english product_description  \\\n",
      "7100  rustic hot dog bread el molino de dia bag 330 gr.                       \n",
      "2673  toasted bread with tomato and oregano dia pack...                       \n",
      "2778        bread with cheese dia naturmundo bag 90 gr.                       \n",
      "86    whole wheat toasted bread with sesame dia vita...                       \n",
      "2176     bimbo sliced bread 50% integral 50% white 480g                       \n",
      "\n",
      "              master_category_names  \n",
      "7100  bread / bakery_bread_packaged  \n",
      "2673  bread / bakery_bread_packaged  \n",
      "2778  bread / bakery_bread_packaged  \n",
      "86    bread / bakery_bread_packaged  \n",
      "2176  bread / bakery_bread_packaged  \n"
     ]
    }
   ],
   "source": [
    "print(similar_products(812, 5))"
   ]
  },
  {
   "cell_type": "code",
   "execution_count": 104,
   "id": "251336d7",
   "metadata": {},
   "outputs": [
    {
     "name": "stdout",
     "output_type": "stream",
     "text": [
      "                                  product_name_english product_description  \\\n",
      "7144                zip small freezer bags dia 25 pcs.                       \n",
      "3326                  fliss freezer bag 17x25 20 units                       \n",
      "3318                       thermal bag with velcro dia                       \n",
      "2028                        dia papel de aluminio 30 m                       \n",
      "5397  paper bag for sandwiches green fliss box 30 pcs.                       \n",
      "\n",
      "                            master_category_names  \n",
      "7144  home / pet_disposables_food storage / wraps  \n",
      "3326  home / pet_disposables_food storage / wraps  \n",
      "3318  home / pet_disposables_food storage / wraps  \n",
      "2028  home / pet_disposables_food storage / wraps  \n",
      "5397  home / pet_disposables_food storage / wraps  \n"
     ]
    }
   ],
   "source": [
    "print(similar_products(814, 5))"
   ]
  },
  {
   "cell_type": "code",
   "execution_count": 105,
   "id": "15f6ae9b",
   "metadata": {},
   "outputs": [
    {
     "name": "stdout",
     "output_type": "stream",
     "text": [
      "                                   product_name_english product_description  \\\n",
      "7866                     almond milk natural vegedia 1l         plant based   \n",
      "5474                               rice milk vegedia 1l         plant based   \n",
      "1562          soy drink with calcium vegedia brick 1 l.         plant based   \n",
      "1383  fruit with milk drink mediterranean dia zumosf...                       \n",
      "3026  fruit with milk drink mediterranean dia zumosf...                       \n",
      "\n",
      "                              master_category_names  \n",
      "7866  dairy / chilled / eggs_milk_milk alternatives  \n",
      "5474  dairy / chilled / eggs_milk_milk alternatives  \n",
      "1562  dairy / chilled / eggs_milk_milk alternatives  \n",
      "1383  dairy / chilled / eggs_milk_milk alternatives  \n",
      "3026  dairy / chilled / eggs_milk_milk alternatives  \n"
     ]
    }
   ],
   "source": [
    "print(similar_products(5011, 5))"
   ]
  },
  {
   "cell_type": "markdown",
   "id": "e8e3ba2a",
   "metadata": {},
   "source": [
    "### 2.1.3 Implement BERT Model"
   ]
  },
  {
   "cell_type": "code",
   "execution_count": 106,
   "id": "ee207362",
   "metadata": {},
   "outputs": [],
   "source": [
    "# Load BERT pre-trained model tokeniser\n",
    "tokenizer = BertTokenizer.from_pretrained('bert-base-uncased')\n",
    "model = BertModel.from_pretrained('bert-base-uncased')\n",
    "\n",
    "# Function to encode text and get embeddings\n",
    "def get_bert_embeddings(texts, tokenizer, model, batch_size=32):\n",
    "    embeddings = []\n",
    "    for i in range(0, len(texts), batch_size):\n",
    "        encoded_input = tokenizer(texts[i:i+batch_size], return_tensors='pt', padding=True, truncation=True, max_length=512)\n",
    "        with torch.no_grad():\n",
    "            output = model(**encoded_input)\n",
    "        batch_embeddings = output.last_hidden_state[:, 0, :].numpy() \n",
    "        embeddings.append(batch_embeddings)\n",
    "    return np.vstack(embeddings)  \n",
    "\n",
    "texts = filtered_df['combined_text'].tolist()\n",
    "bert_embeddings = get_bert_embeddings(texts, tokenizer, model, batch_size=32)\n",
    "\n",
    "# Function to process embeddings \n",
    "def process_embeddings_and_add_to_df(df, embeddings, n_components=None):\n",
    "    # Reduce dimensionality with PCA\n",
    "    if n_components is not None:\n",
    "        pca = PCA(n_components=n_components)\n",
    "        embeddings = pca.fit_transform(embeddings)\n",
    "\n",
    "    embeddings_df = pd.DataFrame(embeddings, columns=[f'emb_{i}' for i in range(embeddings.shape[1])])\n",
    "\n",
    "    new_df = pd.concat([df.reset_index(drop=True), embeddings_df.reset_index(drop=True)], axis=1)\n",
    "    return new_df\n",
    "\n",
    "processed_df = process_embeddings_and_add_to_df(filtered_df, bert_embeddings, n_components=50)"
   ]
  },
  {
   "cell_type": "code",
   "execution_count": 107,
   "id": "0dd767b6",
   "metadata": {},
   "outputs": [],
   "source": [
    "def process_embeddings_and_add_to_df(df, embeddings, n_components=None):\n",
    "    if n_components is not None:\n",
    "        # Reduce dimensionality of embeddings\n",
    "        pca = PCA(n_components=n_components)\n",
    "        embeddings = pca.fit_transform(embeddings)\n",
    "\n",
    "    embeddings_df = pd.DataFrame(embeddings, columns=[f'emb_{i}' for i in range(embeddings.shape[1])])\n",
    "\n",
    "    new_df = pd.concat([df.reset_index(drop=True), embeddings_df.reset_index(drop=True)], axis=1)\n",
    "    return new_df\n",
    "\n",
    "processed_df = process_embeddings_and_add_to_df(filtered_df, bert_embeddings, n_components=50)\n",
    "\n",
    "feature_vectors = np.vstack(processed_df.iloc[:, -50:].values)\n",
    "similarity_matrix = cosine_similarity(feature_vectors)"
   ]
  },
  {
   "cell_type": "code",
   "execution_count": 108,
   "id": "08940592",
   "metadata": {},
   "outputs": [],
   "source": [
    "# Compute the cosine similarity matrix from the document vectors\n",
    "similarity_matrix = cosine_similarity(feature_vectors)"
   ]
  },
  {
   "cell_type": "code",
   "execution_count": 109,
   "id": "4ac7246f",
   "metadata": {},
   "outputs": [],
   "source": [
    "# Function to find similar products within the same category\n",
    "def find_similar_products(df, product_index, top_n=5):\n",
    "    target_category = df.iloc[product_index]['master_category_names']\n",
    "    same_category_df = df[df['master_category_names'] == target_category]\n",
    "    same_category_df = same_category_df.drop(index=product_index)\n",
    "     # If the category is unique or very few items share it, handle potential issues\n",
    "    if same_category_df.empty or len(same_category_df) < top_n:\n",
    "        return f\"Not enough products in the same category to compare for product index {product_index}.\"\n",
    "    category_feature_vectors = np.vstack(same_category_df.iloc[:, -50:].values)  # Assuming the last 50 are embeddings\n",
    "    similarity_scores = cosine_similarity([df.iloc[product_index, -50:].values], category_feature_vectors)[0]\n",
    "    top_indices = np.argsort(similarity_scores)[::-1][:top_n]\n",
    "    return same_category_df.iloc[top_indices][['product_name_english', 'master_category_names']]"
   ]
  },
  {
   "cell_type": "code",
   "execution_count": 110,
   "id": "0bd38807",
   "metadata": {},
   "outputs": [
    {
     "name": "stdout",
     "output_type": "stream",
     "text": [
      "                                   product_name_english  \\\n",
      "3141    cremositos del zujar sheep cheese torta 800 gr.   \n",
      "8002             cured sheep cheese el cencerro 250 gr.   \n",
      "7850                blue cheese dia el cencerro 150 gr.   \n",
      "3265  sheep cheese cured in olive oil el cencerro 25...   \n",
      "1915  la cava barus garcia baquero aged cheese wedge...   \n",
      "\n",
      "                           master_category_names  \n",
      "3141  dairy / chilled / eggs_dairy / eggs_cheese  \n",
      "8002  dairy / chilled / eggs_dairy / eggs_cheese  \n",
      "7850  dairy / chilled / eggs_dairy / eggs_cheese  \n",
      "3265  dairy / chilled / eggs_dairy / eggs_cheese  \n",
      "1915  dairy / chilled / eggs_dairy / eggs_cheese  \n"
     ]
    }
   ],
   "source": [
    "print(find_similar_products(processed_df, 0, 5))"
   ]
  },
  {
   "cell_type": "code",
   "execution_count": 111,
   "id": "72213c8b",
   "metadata": {},
   "outputs": [
    {
     "name": "stdout",
     "output_type": "stream",
     "text": [
      "                   product_name_english  \\\n",
      "6986     04o spanish mild olive oil 1 l   \n",
      "217     paella broth gallina blanca 1 l   \n",
      "6378         soyplus avocado oil 250 ml   \n",
      "602       garlic powder carmencita 55 g   \n",
      "7560  extra virgin olive oil coosur 1 l   \n",
      "\n",
      "                                  master_category_names  \n",
      "6986  packaged foods_cooking / condiments / baking /...  \n",
      "217   packaged foods_cooking / condiments / baking /...  \n",
      "6378  packaged foods_cooking / condiments / baking /...  \n",
      "602   packaged foods_cooking / condiments / baking /...  \n",
      "7560  packaged foods_cooking / condiments / baking /...  \n"
     ]
    }
   ],
   "source": [
    "print(find_similar_products(processed_df, 1, 5))"
   ]
  },
  {
   "cell_type": "code",
   "execution_count": 112,
   "id": "89159e06",
   "metadata": {},
   "outputs": [
    {
     "name": "stdout",
     "output_type": "stream",
     "text": [
      "                                   product_name_english  \\\n",
      "4962        royal baking powder mix 6 sachets of 16 gr.   \n",
      "4640      maizena baker's yeast box 5 sachets of 55 gr.   \n",
      "5501  tabletop liquid sweetener with stevia dia bott...   \n",
      "1237                      dia stevia powder jar 200 gr.   \n",
      "2208  white sugar in dia envelopes 50 units box 300 gr.   \n",
      "\n",
      "                                  master_category_names  \n",
      "4962  packaged foods_cooking / condiments / baking /...  \n",
      "4640  packaged foods_cooking / condiments / baking /...  \n",
      "5501  packaged foods_cooking / condiments / baking /...  \n",
      "1237  packaged foods_cooking / condiments / baking /...  \n",
      "2208  packaged foods_cooking / condiments / baking /...  \n"
     ]
    }
   ],
   "source": [
    "print(find_similar_products(processed_df, 2, 5))"
   ]
  },
  {
   "cell_type": "code",
   "execution_count": 113,
   "id": "e0c8796e",
   "metadata": {},
   "outputs": [
    {
     "name": "stdout",
     "output_type": "stream",
     "text": [
      "                                   product_name_english  \\\n",
      "4545   alcohol free apple liqueur sonador bottle 70 cl.   \n",
      "2575  non alcoholic acorn liqueur la extremena bottl...   \n",
      "7020           herbal liqueur 30o mourama bottle 70 cl.   \n",
      "1706           coffee liqueur 30o mourama bottle 70 cl.   \n",
      "840    cream of orujo liqueur 17o mourama bottle 70 cl.   \n",
      "\n",
      "              master_category_names  \n",
      "4545  bws_spirits_liqueurs / creams  \n",
      "2575  bws_spirits_liqueurs / creams  \n",
      "7020  bws_spirits_liqueurs / creams  \n",
      "1706  bws_spirits_liqueurs / creams  \n",
      "840   bws_spirits_liqueurs / creams  \n"
     ]
    }
   ],
   "source": [
    "print(find_similar_products(processed_df, 3, 5))"
   ]
  },
  {
   "cell_type": "code",
   "execution_count": 114,
   "id": "6435b1b4",
   "metadata": {},
   "outputs": [
    {
     "name": "stdout",
     "output_type": "stream",
     "text": [
      "                      product_name_english           master_category_names\n",
      "5870                      mars dessert 51g  snacks_confectionary_chocolate\n",
      "6921  reese's peanut butter nutrageous 47g  snacks_confectionary_chocolate\n",
      "2371                    kinder joy 3 x 20g  snacks_confectionary_chocolate\n",
      "3373      nestle extrafine chocoballs 140g  snacks_confectionary_chocolate\n",
      "3506  kit kat 4 fingers white dessert 415g  snacks_confectionary_chocolate\n"
     ]
    }
   ],
   "source": [
    "print(find_similar_products(processed_df, 7, 5))"
   ]
  },
  {
   "cell_type": "code",
   "execution_count": 115,
   "id": "e910fa3c",
   "metadata": {},
   "outputs": [
    {
     "name": "stdout",
     "output_type": "stream",
     "text": [
      "                              product_name_english master_category_names\n",
      "7782                         kiwi bio tray 500 gr.   produce_fruit_other\n",
      "684                   pink lady apple tray 550 gr.   produce_fruit_other\n",
      "972                      leek unit approx. 250 gr.   produce_fruit_other\n",
      "1452               seedless red grape tray 500 gr.   produce_fruit_other\n",
      "6515  gold premium pineapple unit 2000 gr. approx.   produce_fruit_other\n"
     ]
    }
   ],
   "source": [
    "print(find_similar_products(processed_df, 9, 5))"
   ]
  },
  {
   "cell_type": "code",
   "execution_count": 116,
   "id": "aeba917f",
   "metadata": {},
   "outputs": [
    {
     "name": "stdout",
     "output_type": "stream",
     "text": [
      "                                   product_name_english  \\\n",
      "4212  iberian cebo ham slices 50% dia nuestra alacen...   \n",
      "2017    iberian cebo ham 50% dia nuestra alacena 90 gr.   \n",
      "4220     50% iberian bait ham in legado shavings 45 gr.   \n",
      "5959  iberian cebo shoulder 50% dia nuestra alacena ...   \n",
      "5078  90% turkey breast slices dia nuestra alacena 1...   \n",
      "\n",
      "                                 master_category_names  \n",
      "4212  dairy / chilled / eggs_deli / snacking_deli meat  \n",
      "2017  dairy / chilled / eggs_deli / snacking_deli meat  \n",
      "4220  dairy / chilled / eggs_deli / snacking_deli meat  \n",
      "5959  dairy / chilled / eggs_deli / snacking_deli meat  \n",
      "5078  dairy / chilled / eggs_deli / snacking_deli meat  \n"
     ]
    }
   ],
   "source": [
    "print(find_similar_products(processed_df, 10, 5))"
   ]
  },
  {
   "cell_type": "code",
   "execution_count": 117,
   "id": "989f6451",
   "metadata": {},
   "outputs": [
    {
     "name": "stdout",
     "output_type": "stream",
     "text": [
      "                                product_name_english  \\\n",
      "704   freshly squeezed orange juice sp don simon 1 l   \n",
      "5732                        don simon apple juice 1l   \n",
      "5769                       don simon orange juice 1l   \n",
      "658                          pear nectar granini 1 l   \n",
      "4929                       peach juice don simon 1 l   \n",
      "\n",
      "                                  master_category_names  \n",
      "704   beverages_juice / ice tea / sports / energy_juice  \n",
      "5732  beverages_juice / ice tea / sports / energy_juice  \n",
      "5769  beverages_juice / ice tea / sports / energy_juice  \n",
      "658   beverages_juice / ice tea / sports / energy_juice  \n",
      "4929  beverages_juice / ice tea / sports / energy_juice  \n"
     ]
    }
   ],
   "source": [
    "print(find_similar_products(processed_df, 11, 5))"
   ]
  },
  {
   "cell_type": "code",
   "execution_count": 118,
   "id": "79506dbd",
   "metadata": {},
   "outputs": [
    {
     "name": "stdout",
     "output_type": "stream",
     "text": [
      "                                   product_name_english  \\\n",
      "2190            natural shower gel honey coconut 600 ml   \n",
      "3034  bio agave revitalizing shower gel sanex bottle...   \n",
      "6408           natural honey shower gel amazonia 600 ml   \n",
      "817                     chilly intimate gel soap 250 ml   \n",
      "6640  palmolive natural milk and almond liquid hand ...   \n",
      "\n",
      "                                  master_category_names  \n",
      "2190  personal care / baby / health_personal care / ...  \n",
      "3034  personal care / baby / health_personal care / ...  \n",
      "6408  personal care / baby / health_personal care / ...  \n",
      "817   personal care / baby / health_personal care / ...  \n",
      "6640  personal care / baby / health_personal care / ...  \n"
     ]
    }
   ],
   "source": [
    "print(find_similar_products(processed_df, 20, 5))"
   ]
  },
  {
   "cell_type": "code",
   "execution_count": 119,
   "id": "dbf5cb9a",
   "metadata": {},
   "outputs": [
    {
     "name": "stdout",
     "output_type": "stream",
     "text": [
      "                         product_name_english  \\\n",
      "1304     albo small sardines in olive oil 82g   \n",
      "4318           cuca sardines in olive oil 82g   \n",
      "7041         tejero mackerel in olive oil 80g   \n",
      "1364  cabo de penas sardines in olive oil 85g   \n",
      "8405      calvo tuna fillet in olive oil 163g   \n",
      "\n",
      "                                  master_category_names  \n",
      "1304  packaged foods_canned / jarred / instant meals...  \n",
      "4318  packaged foods_canned / jarred / instant meals...  \n",
      "7041  packaged foods_canned / jarred / instant meals...  \n",
      "1364  packaged foods_canned / jarred / instant meals...  \n",
      "8405  packaged foods_canned / jarred / instant meals...  \n"
     ]
    }
   ],
   "source": [
    "print(find_similar_products(processed_df, 22, 5))"
   ]
  },
  {
   "cell_type": "code",
   "execution_count": 120,
   "id": "c1104fa6",
   "metadata": {},
   "outputs": [
    {
     "name": "stdout",
     "output_type": "stream",
     "text": [
      "                                   product_name_english  \\\n",
      "5613               dove shea butter body lotion 400 ml.   \n",
      "5535                olive body cream amalfi jar 250 ml.   \n",
      "7353  coconut hand cream with argan oil bonte tube 3...   \n",
      "1489           vitamin c body cream babaria jar 400 ml.   \n",
      "4759  nourishing body cream very dry skin nivea bott...   \n",
      "\n",
      "                                  master_category_names  \n",
      "5613  personal care / baby / health_personal care / ...  \n",
      "5535  personal care / baby / health_personal care / ...  \n",
      "7353  personal care / baby / health_personal care / ...  \n",
      "1489  personal care / baby / health_personal care / ...  \n",
      "4759  personal care / baby / health_personal care / ...  \n"
     ]
    }
   ],
   "source": [
    "print(find_similar_products(processed_df, 35, 5))"
   ]
  },
  {
   "cell_type": "code",
   "execution_count": 121,
   "id": "44d63ea5",
   "metadata": {},
   "outputs": [
    {
     "name": "stdout",
     "output_type": "stream",
     "text": [
      "                          product_name_english      master_category_names\n",
      "1156      day snack maniac! aprious cones 85 g  snacks_salty snacks_chips\n",
      "1090        day tofita! wavy chip potato 150 g  snacks_salty snacks_chips\n",
      "2604             day tofita! light 140 g chips  snacks_salty snacks_chips\n",
      "2598  day tofita! 150 g cheese flavor potatoes  snacks_salty snacks_chips\n",
      "2592    day snack maniac! nachos tex mex 150 g  snacks_salty snacks_chips\n"
     ]
    }
   ],
   "source": [
    "print(find_similar_products(processed_df, 39, 5))"
   ]
  },
  {
   "cell_type": "code",
   "execution_count": 122,
   "id": "c630808a",
   "metadata": {},
   "outputs": [
    {
     "name": "stdout",
     "output_type": "stream",
     "text": [
      "                                   product_name_english  \\\n",
      "8287  iberian salchichon manuel de montejo package 9...   \n",
      "3611          chorizo portions carnicas gallego 415 gr.   \n",
      "2411  chorizo y salchichon extra dia nuestra alacena...   \n",
      "2535  chorizo cular iberico extra dia nuestra alacen...   \n",
      "855   chorizo de pavo en lonchas dia nuestra alacena...   \n",
      "\n",
      "                                 master_category_names  \n",
      "8287  dairy / chilled / eggs_deli / snacking_deli meat  \n",
      "3611  dairy / chilled / eggs_deli / snacking_deli meat  \n",
      "2411  dairy / chilled / eggs_deli / snacking_deli meat  \n",
      "2535  dairy / chilled / eggs_deli / snacking_deli meat  \n",
      "855   dairy / chilled / eggs_deli / snacking_deli meat  \n"
     ]
    }
   ],
   "source": [
    "print(find_similar_products(processed_df, 47, 5))"
   ]
  },
  {
   "cell_type": "code",
   "execution_count": 123,
   "id": "3d0f2f15",
   "metadata": {},
   "outputs": [
    {
     "name": "stdout",
     "output_type": "stream",
     "text": [
      "                                   product_name_english  \\\n",
      "3040       anchovy pate dia nuestra alacena jar 110 gr.   \n",
      "7863           ham pate dia nuestra alacena jar 110 gr.   \n",
      "1313               olivada pate dia vegedia jar 110 gr.   \n",
      "2101            pedro ximenez pate la piara jar 130 gr.   \n",
      "443   mackerel in escabeche dia mari marinera can 73...   \n",
      "\n",
      "                                  master_category_names  \n",
      "3040  packaged foods_canned / jarred / instant meals...  \n",
      "7863  packaged foods_canned / jarred / instant meals...  \n",
      "1313  packaged foods_canned / jarred / instant meals...  \n",
      "2101  packaged foods_canned / jarred / instant meals...  \n",
      "443   packaged foods_canned / jarred / instant meals...  \n"
     ]
    }
   ],
   "source": [
    "print(find_similar_products(processed_df, 49, 5))"
   ]
  },
  {
   "cell_type": "code",
   "execution_count": 124,
   "id": "b16043cb",
   "metadata": {},
   "outputs": [
    {
     "name": "stdout",
     "output_type": "stream",
     "text": [
      "                            product_name_english  \\\n",
      "6082  extra peach diet jam dia vital jar 330 gr.   \n",
      "7201          extra peach jam helios jar 340 gr.   \n",
      "3908      extra plum jam diet helios jar 280 gr.   \n",
      "1624              extra plum jam dia jar 650 gr.   \n",
      "509              extra peach jam dia jar 390 gr.   \n",
      "\n",
      "                       master_category_names  \n",
      "6082  packaged foods_breakfast / spreads_jam  \n",
      "7201  packaged foods_breakfast / spreads_jam  \n",
      "3908  packaged foods_breakfast / spreads_jam  \n",
      "1624  packaged foods_breakfast / spreads_jam  \n",
      "509   packaged foods_breakfast / spreads_jam  \n"
     ]
    }
   ],
   "source": [
    "print(find_similar_products(processed_df, 60, 5))"
   ]
  },
  {
   "cell_type": "code",
   "execution_count": 125,
   "id": "13cc3a97",
   "metadata": {},
   "outputs": [
    {
     "name": "stdout",
     "output_type": "stream",
     "text": [
      "                product_name_english  \\\n",
      "6998  la lechera condensed milk 450g   \n",
      "2513    ideal evaporated milk 525 ml   \n",
      "2845  la lechera condensed milk 740g   \n",
      "4294  la lechera condensed milk 370g   \n",
      "6819    dia condensed milk jar 1 kg.   \n",
      "\n",
      "                                  master_category_names  \n",
      "6998  dairy / chilled / eggs_milk_condensed / evapor...  \n",
      "2513  dairy / chilled / eggs_milk_condensed / evapor...  \n",
      "2845  dairy / chilled / eggs_milk_condensed / evapor...  \n",
      "4294  dairy / chilled / eggs_milk_condensed / evapor...  \n",
      "6819  dairy / chilled / eggs_milk_condensed / evapor...  \n"
     ]
    }
   ],
   "source": [
    "print(find_similar_products(processed_df, 811, 5))"
   ]
  },
  {
   "cell_type": "code",
   "execution_count": 126,
   "id": "fd35cdaf",
   "metadata": {},
   "outputs": [
    {
     "name": "stdout",
     "output_type": "stream",
     "text": [
      "                                   product_name_english  \\\n",
      "2176     bimbo sliced bread 50% integral 50% white 480g   \n",
      "1113            bimbo artisan sliced bread brioche 550g   \n",
      "568               family size sliced bread dia bag 820g   \n",
      "216      milka choco brownie chocolate sponge cake 150g   \n",
      "5401  100% whole wheat toast bread el molino de dia ...   \n",
      "\n",
      "              master_category_names  \n",
      "2176  bread / bakery_bread_packaged  \n",
      "1113  bread / bakery_bread_packaged  \n",
      "568   bread / bakery_bread_packaged  \n",
      "216   bread / bakery_bread_packaged  \n",
      "5401  bread / bakery_bread_packaged  \n"
     ]
    }
   ],
   "source": [
    "print(find_similar_products(processed_df, 812, 5))"
   ]
  },
  {
   "cell_type": "code",
   "execution_count": 127,
   "id": "72fb4de5",
   "metadata": {},
   "outputs": [
    {
     "name": "stdout",
     "output_type": "stream",
     "text": [
      "                                 product_name_english  \\\n",
      "7144               zip small freezer bags dia 25 pcs.   \n",
      "748            small ziplock bag ziperfix bag 20 pcs.   \n",
      "6186                         sandwich bag dia 40 pcs.   \n",
      "846   zipper freezer bags 1 lt super paco box 15 pcs.   \n",
      "7734          small ziplock bags ziperfix box 15 pcs.   \n",
      "\n",
      "                            master_category_names  \n",
      "7144  home / pet_disposables_food storage / wraps  \n",
      "748   home / pet_disposables_food storage / wraps  \n",
      "6186  home / pet_disposables_food storage / wraps  \n",
      "846   home / pet_disposables_food storage / wraps  \n",
      "7734  home / pet_disposables_food storage / wraps  \n"
     ]
    }
   ],
   "source": [
    "print(find_similar_products(processed_df, 814, 5))"
   ]
  },
  {
   "cell_type": "code",
   "execution_count": 128,
   "id": "ae546738",
   "metadata": {},
   "outputs": [
    {
     "name": "stdout",
     "output_type": "stream",
     "text": [
      "                    product_name_english  \\\n",
      "5474                rice milk vegedia 1l   \n",
      "7866      almond milk natural vegedia 1l   \n",
      "6887              yo soy quaker drink 1l   \n",
      "3450              alpro almond drink 1 l   \n",
      "5889  alpro unsweetened almond drink 1 l   \n",
      "\n",
      "                              master_category_names  \n",
      "5474  dairy / chilled / eggs_milk_milk alternatives  \n",
      "7866  dairy / chilled / eggs_milk_milk alternatives  \n",
      "6887  dairy / chilled / eggs_milk_milk alternatives  \n",
      "3450  dairy / chilled / eggs_milk_milk alternatives  \n",
      "5889  dairy / chilled / eggs_milk_milk alternatives  \n"
     ]
    }
   ],
   "source": [
    "print(find_similar_products(processed_df, 5011, 5))"
   ]
  },
  {
   "cell_type": "markdown",
   "id": "4b8efbfb",
   "metadata": {},
   "source": [
    "Similarities for product 5011 (oat milk natural vegedia 1l) have improved a lot. Conversely, similarities for product 1 (diasol sunflower food oil 1 l) have gotten worse."
   ]
  },
  {
   "cell_type": "markdown",
   "id": "023106fe",
   "metadata": {},
   "source": [
    "### 2.1.4 Hybrid Method (TF-IDF + BERT)"
   ]
  },
  {
   "cell_type": "code",
   "execution_count": 129,
   "id": "c5d5549d",
   "metadata": {},
   "outputs": [
    {
     "name": "stdout",
     "output_type": "stream",
     "text": [
      "Word2Vec model loaded with vocabulary size: 400000\n"
     ]
    }
   ],
   "source": [
    "from gensim.models import Word2Vec\n",
    "import gensim.downloader as api\n",
    "\n",
    "# Load Word2Vec model\n",
    "w2v_model = api.load('glove-wiki-gigaword-100') \n",
    "print(\"Word2Vec model loaded with vocabulary size:\", len(w2v_model.key_to_index))"
   ]
  },
  {
   "cell_type": "code",
   "execution_count": 130,
   "id": "a0072a8b",
   "metadata": {},
   "outputs": [],
   "source": [
    "def tfidf_weighted_w2v(vectorizer, w2v_model, docs):\n",
    "    features = vectorizer.get_feature_names_out()\n",
    "    word_vecs = []\n",
    "\n",
    "    for doc in docs:\n",
    "        words = doc.split()\n",
    "        word_embedding = []\n",
    "        tfidf_scores = []\n",
    "\n",
    "        for word in words:\n",
    "            if word in features and word in w2v_model.key_to_index:\n",
    "                word_embedding.append(w2v_model[word])\n",
    "                tfidf_index = list(features).index(word)\n",
    "                tfidf_scores.append(tfidf_matrix[docs.index(doc), tfidf_index])\n",
    "\n",
    "        if word_embedding:\n",
    "            word_vecs.append(np.average(word_embedding, axis=0, weights=tfidf_scores))\n",
    "        else:\n",
    "            word_vecs.append(np.zeros(w2v_model.vector_size))\n",
    "\n",
    "    return np.array(word_vecs)"
   ]
  },
  {
   "cell_type": "code",
   "execution_count": 131,
   "id": "5f0d398b",
   "metadata": {},
   "outputs": [],
   "source": [
    "tfidf_weighted_vectors = tfidf_weighted_w2v(tfidf_vectorizer, w2v_model, filtered_df['combined_text'].tolist())"
   ]
  },
  {
   "cell_type": "code",
   "execution_count": 132,
   "id": "1a3d6100",
   "metadata": {},
   "outputs": [],
   "source": [
    "# BERT embeddings already shown in previous examples\n",
    "bert_embeddings = get_bert_embeddings(texts, tokenizer, model, batch_size=32)"
   ]
  },
  {
   "cell_type": "code",
   "execution_count": 133,
   "id": "cd04e43c",
   "metadata": {},
   "outputs": [],
   "source": [
    "# Concatenate TF-IDF and BERT Embeddings\n",
    "combined_embeddings = np.concatenate((tfidf_weighted_vectors, bert_embeddings), axis=1)"
   ]
  },
  {
   "cell_type": "code",
   "execution_count": 134,
   "id": "3badafa7",
   "metadata": {},
   "outputs": [],
   "source": [
    "# Initialise PCA, let's reduce to 100 components \n",
    "pca = PCA(n_components=100)\n",
    "reduced_embeddings = pca.fit_transform(combined_embeddings)"
   ]
  },
  {
   "cell_type": "code",
   "execution_count": 135,
   "id": "23d23aee",
   "metadata": {},
   "outputs": [],
   "source": [
    "# Compute the cosine similarity matrix\n",
    "similarity_matrix = cosine_similarity(reduced_embeddings)"
   ]
  },
  {
   "cell_type": "code",
   "execution_count": 136,
   "id": "e36d886a",
   "metadata": {},
   "outputs": [],
   "source": [
    "# Function to find similar products\n",
    "def find_similar_products(df, product_index, top_n=5):\n",
    "    target_category = df.iloc[product_index]['master_category_names']\n",
    "\n",
    "    # Filter to only include products from the same category\n",
    "    category_mask = df['master_category_names'] == target_category\n",
    "    category_indices = np.where(category_mask)[0]\n",
    "\n",
    "    # Get similarity scores and filter by same category\n",
    "    similarity_scores = similarity_matrix[product_index, category_indices]\n",
    "\n",
    "    top_indices = np.argsort(similarity_scores)[::-1][:top_n + 1]\n",
    "    top_indices = top_indices[top_indices != product_index]\n",
    "\n",
    "    return df.iloc[category_indices[top_indices]][['product_name_english', 'product_description', 'master_category_names']]"
   ]
  },
  {
   "cell_type": "code",
   "execution_count": 137,
   "id": "85cfd4c6",
   "metadata": {},
   "outputs": [
    {
     "name": "stdout",
     "output_type": "stream",
     "text": [
      "                                   product_name_english product_description  \\\n",
      "3141    cremositos del zujar sheep cheese torta 800 gr.                       \n",
      "8002             cured sheep cheese el cencerro 250 gr.                       \n",
      "3265  sheep cheese cured in olive oil el cencerro 25...                       \n",
      "7495   semi cured goat cheese el cencerro wedge 300 gr.                       \n",
      "4744              aged sheep cheese el cencerro 250 gr.                       \n",
      "\n",
      "                           master_category_names  \n",
      "3141  dairy / chilled / eggs_dairy / eggs_cheese  \n",
      "8002  dairy / chilled / eggs_dairy / eggs_cheese  \n",
      "3265  dairy / chilled / eggs_dairy / eggs_cheese  \n",
      "7495  dairy / chilled / eggs_dairy / eggs_cheese  \n",
      "4744  dairy / chilled / eggs_dairy / eggs_cheese  \n"
     ]
    }
   ],
   "source": [
    "print(find_similar_products(filtered_df, 0, 5))"
   ]
  },
  {
   "cell_type": "code",
   "execution_count": 138,
   "id": "eb1ea749",
   "metadata": {},
   "outputs": [
    {
     "name": "stdout",
     "output_type": "stream",
     "text": [
      "                       product_name_english product_description  \\\n",
      "1             diasol sunflower food oil 1 l                       \n",
      "6986         04o spanish mild olive oil 1 l                       \n",
      "7560      extra virgin olive oil coosur 1 l                       \n",
      "6378             soyplus avocado oil 250 ml                       \n",
      "4230  extra virgin olive oil hojiblanca 1 l                       \n",
      "217         paella broth gallina blanca 1 l                       \n",
      "\n",
      "                                  master_category_names  \n",
      "1     packaged foods_cooking / condiments / baking /...  \n",
      "6986  packaged foods_cooking / condiments / baking /...  \n",
      "7560  packaged foods_cooking / condiments / baking /...  \n",
      "6378  packaged foods_cooking / condiments / baking /...  \n",
      "4230  packaged foods_cooking / condiments / baking /...  \n",
      "217   packaged foods_cooking / condiments / baking /...  \n"
     ]
    }
   ],
   "source": [
    "print(find_similar_products(filtered_df, 1, 5))"
   ]
  },
  {
   "cell_type": "code",
   "execution_count": 139,
   "id": "e6bf5029",
   "metadata": {},
   "outputs": [
    {
     "name": "stdout",
     "output_type": "stream",
     "text": [
      "                                   product_name_english product_description  \\\n",
      "2     dia delimagic baking powder box 5 sachets of 1...                       \n",
      "4962        royal baking powder mix 6 sachets of 16 gr.                       \n",
      "4640      maizena baker's yeast box 5 sachets of 55 gr.                       \n",
      "1237                      dia stevia powder jar 200 gr.                       \n",
      "2208  white sugar in dia envelopes 50 units box 300 gr.                       \n",
      "6001                       icing sugar dia pack 300 gr.                       \n",
      "\n",
      "                                  master_category_names  \n",
      "2     packaged foods_cooking / condiments / baking /...  \n",
      "4962  packaged foods_cooking / condiments / baking /...  \n",
      "4640  packaged foods_cooking / condiments / baking /...  \n",
      "1237  packaged foods_cooking / condiments / baking /...  \n",
      "2208  packaged foods_cooking / condiments / baking /...  \n",
      "6001  packaged foods_cooking / condiments / baking /...  \n"
     ]
    }
   ],
   "source": [
    "print(find_similar_products(filtered_df, 2, 5))"
   ]
  },
  {
   "cell_type": "code",
   "execution_count": 140,
   "id": "156e8af7",
   "metadata": {},
   "outputs": [
    {
     "name": "stdout",
     "output_type": "stream",
     "text": [
      "                                   product_name_english product_description  \\\n",
      "3     alcohol free blackberry liqueur sonador bottle...        alcohol free   \n",
      "4545   alcohol free apple liqueur sonador bottle 70 cl.        alcohol free   \n",
      "2575  non alcoholic acorn liqueur la extremena bottl...        alcohol free   \n",
      "7020           herbal liqueur 30o mourama bottle 70 cl.                       \n",
      "1706           coffee liqueur 30o mourama bottle 70 cl.                       \n",
      "840    cream of orujo liqueur 17o mourama bottle 70 cl.                       \n",
      "\n",
      "              master_category_names  \n",
      "3     bws_spirits_liqueurs / creams  \n",
      "4545  bws_spirits_liqueurs / creams  \n",
      "2575  bws_spirits_liqueurs / creams  \n",
      "7020  bws_spirits_liqueurs / creams  \n",
      "1706  bws_spirits_liqueurs / creams  \n",
      "840   bws_spirits_liqueurs / creams  \n"
     ]
    }
   ],
   "source": [
    "print(find_similar_products(filtered_df, 3, 5))"
   ]
  },
  {
   "cell_type": "code",
   "execution_count": 141,
   "id": "c18c99d1",
   "metadata": {},
   "outputs": [
    {
     "name": "stdout",
     "output_type": "stream",
     "text": [
      "                product_name_english product_description  \\\n",
      "7                snickers minis 227g                       \n",
      "418                  twix minis 227g                       \n",
      "5870                mars dessert 51g                       \n",
      "2371              kinder joy 3 x 20g                       \n",
      "7907   twix kingsize dessert 75g 75g                       \n",
      "7177  snickers chocolate dessert 50g                       \n",
      "\n",
      "               master_category_names  \n",
      "7     snacks_confectionary_chocolate  \n",
      "418   snacks_confectionary_chocolate  \n",
      "5870  snacks_confectionary_chocolate  \n",
      "2371  snacks_confectionary_chocolate  \n",
      "7907  snacks_confectionary_chocolate  \n",
      "7177  snacks_confectionary_chocolate  \n"
     ]
    }
   ],
   "source": [
    "print(find_similar_products(filtered_df, 7, 5))"
   ]
  },
  {
   "cell_type": "code",
   "execution_count": 142,
   "id": "b0338479",
   "metadata": {},
   "outputs": [
    {
     "name": "stdout",
     "output_type": "stream",
     "text": [
      "                              product_name_english product_description  \\\n",
      "9                         kiwi zespri tray 700 gr.                       \n",
      "7782                         kiwi bio tray 500 gr.                       \n",
      "684                   pink lady apple tray 550 gr.                       \n",
      "972                      leek unit approx. 250 gr.                       \n",
      "1452               seedless red grape tray 500 gr.                       \n",
      "6515  gold premium pineapple unit 2000 gr. approx.                       \n",
      "\n",
      "     master_category_names  \n",
      "9      produce_fruit_other  \n",
      "7782   produce_fruit_other  \n",
      "684    produce_fruit_other  \n",
      "972    produce_fruit_other  \n",
      "1452   produce_fruit_other  \n",
      "6515   produce_fruit_other  \n"
     ]
    }
   ],
   "source": [
    "print(find_similar_products(filtered_df, 9, 5))"
   ]
  },
  {
   "cell_type": "code",
   "execution_count": 143,
   "id": "6a0bd639",
   "metadata": {},
   "outputs": [
    {
     "name": "stdout",
     "output_type": "stream",
     "text": [
      "                                   product_name_english product_description  \\\n",
      "10    iberian cebo lomo slices 50% dia nuestra alace...                       \n",
      "4212  iberian cebo ham slices 50% dia nuestra alacen...                       \n",
      "2017    iberian cebo ham 50% dia nuestra alacena 90 gr.                       \n",
      "5959  iberian cebo shoulder 50% dia nuestra alacena ...                       \n",
      "4220     50% iberian bait ham in legado shavings 45 gr.                       \n",
      "5078  90% turkey breast slices dia nuestra alacena 1...                       \n",
      "\n",
      "                                 master_category_names  \n",
      "10    dairy / chilled / eggs_deli / snacking_deli meat  \n",
      "4212  dairy / chilled / eggs_deli / snacking_deli meat  \n",
      "2017  dairy / chilled / eggs_deli / snacking_deli meat  \n",
      "5959  dairy / chilled / eggs_deli / snacking_deli meat  \n",
      "4220  dairy / chilled / eggs_deli / snacking_deli meat  \n",
      "5078  dairy / chilled / eggs_deli / snacking_deli meat  \n"
     ]
    }
   ],
   "source": [
    "print(find_similar_products(filtered_df, 10, 5))"
   ]
  },
  {
   "cell_type": "code",
   "execution_count": 144,
   "id": "bbfc24ab",
   "metadata": {},
   "outputs": [
    {
     "name": "stdout",
     "output_type": "stream",
     "text": [
      "                                   product_name_english product_description  \\\n",
      "11                nutrition juice with iron hohes c 1 l                       \n",
      "704      freshly squeezed orange juice sp don simon 1 l                       \n",
      "5732                           don simon apple juice 1l                       \n",
      "5136  granini cranberry juice without added sugar an...                       \n",
      "5769                          don simon orange juice 1l                       \n",
      "4929                          peach juice don simon 1 l                       \n",
      "\n",
      "                                  master_category_names  \n",
      "11    beverages_juice / ice tea / sports / energy_juice  \n",
      "704   beverages_juice / ice tea / sports / energy_juice  \n",
      "5732  beverages_juice / ice tea / sports / energy_juice  \n",
      "5136  beverages_juice / ice tea / sports / energy_juice  \n",
      "5769  beverages_juice / ice tea / sports / energy_juice  \n",
      "4929  beverages_juice / ice tea / sports / energy_juice  \n"
     ]
    }
   ],
   "source": [
    "print(find_similar_products(filtered_df, 11, 5))"
   ]
  },
  {
   "cell_type": "code",
   "execution_count": 145,
   "id": "d508ec4f",
   "metadata": {},
   "outputs": [
    {
     "name": "stdout",
     "output_type": "stream",
     "text": [
      "                         product_name_english product_description  \\\n",
      "22             albo sardines in olive oil 85g                       \n",
      "4318           cuca sardines in olive oil 82g                       \n",
      "1304     albo small sardines in olive oil 82g                       \n",
      "7041         tejero mackerel in olive oil 80g                       \n",
      "1364  cabo de penas sardines in olive oil 85g                       \n",
      "8405      calvo tuna fillet in olive oil 163g                       \n",
      "\n",
      "                                  master_category_names  \n",
      "22    packaged foods_canned / jarred / instant meals...  \n",
      "4318  packaged foods_canned / jarred / instant meals...  \n",
      "1304  packaged foods_canned / jarred / instant meals...  \n",
      "7041  packaged foods_canned / jarred / instant meals...  \n",
      "1364  packaged foods_canned / jarred / instant meals...  \n",
      "8405  packaged foods_canned / jarred / instant meals...  \n"
     ]
    }
   ],
   "source": [
    "print(find_similar_products(filtered_df, 22, 5))"
   ]
  },
  {
   "cell_type": "code",
   "execution_count": 146,
   "id": "78d70b5b",
   "metadata": {},
   "outputs": [
    {
     "name": "stdout",
     "output_type": "stream",
     "text": [
      "                                   product_name_english product_description  \\\n",
      "35        shea butter body cream dry skin nivea 400 ml.                       \n",
      "5613               dove shea butter body lotion 400 ml.                       \n",
      "4759  nourishing body cream very dry skin nivea bott...                       \n",
      "7353  coconut hand cream with argan oil bonte tube 3...                       \n",
      "8400  10% urea hand cream very dry skin bonte tube 7...                       \n",
      "1489           vitamin c body cream babaria jar 400 ml.                       \n",
      "\n",
      "                                  master_category_names  \n",
      "35    personal care / baby / health_personal care / ...  \n",
      "5613  personal care / baby / health_personal care / ...  \n",
      "4759  personal care / baby / health_personal care / ...  \n",
      "7353  personal care / baby / health_personal care / ...  \n",
      "8400  personal care / baby / health_personal care / ...  \n",
      "1489  personal care / baby / health_personal care / ...  \n"
     ]
    }
   ],
   "source": [
    "print(find_similar_products(filtered_df, 35, 5))"
   ]
  },
  {
   "cell_type": "code",
   "execution_count": 147,
   "id": "3cf9c376",
   "metadata": {},
   "outputs": [
    {
     "name": "stdout",
     "output_type": "stream",
     "text": [
      "                                   product_name_english product_description  \\\n",
      "37                       colorcrem bleaching kit 1 unit                       \n",
      "6176                       diat hygienic wipes 15 units                       \n",
      "2023        exfoliating sock for feet imaqe bag 2 units                       \n",
      "3864  ultra moisturizing sock for feet imaqe bag 2 u...                       \n",
      "801                   hair nails skin vivisima 50 units                       \n",
      "2025      veet pure sensitive skin body strips 20 units                       \n",
      "\n",
      "                                  master_category_names  \n",
      "37    personal care / baby / health_personal care / ...  \n",
      "6176  personal care / baby / health_personal care / ...  \n",
      "2023  personal care / baby / health_personal care / ...  \n",
      "3864  personal care / baby / health_personal care / ...  \n",
      "801   personal care / baby / health_personal care / ...  \n",
      "2025  personal care / baby / health_personal care / ...  \n"
     ]
    }
   ],
   "source": [
    "print(find_similar_products(filtered_df, 37, 5))"
   ]
  },
  {
   "cell_type": "code",
   "execution_count": 148,
   "id": "07342729",
   "metadata": {},
   "outputs": [
    {
     "name": "stdout",
     "output_type": "stream",
     "text": [
      "                              product_name_english product_description  \\\n",
      "39    day snack maniac! 130 g barbecue corn strips                       \n",
      "1156          day snack maniac! aprious cones 85 g                       \n",
      "1090            day tofita! wavy chip potato 150 g                       \n",
      "2598      day tofita! 150 g cheese flavor potatoes                       \n",
      "2592        day snack maniac! nachos tex mex 150 g                       \n",
      "7445           lay's 3 d's bugles corn snack 100 g                       \n",
      "\n",
      "          master_category_names  \n",
      "39    snacks_salty snacks_chips  \n",
      "1156  snacks_salty snacks_chips  \n",
      "1090  snacks_salty snacks_chips  \n",
      "2598  snacks_salty snacks_chips  \n",
      "2592  snacks_salty snacks_chips  \n",
      "7445  snacks_salty snacks_chips  \n"
     ]
    }
   ],
   "source": [
    "print(find_similar_products(filtered_df, 39, 5))"
   ]
  },
  {
   "cell_type": "code",
   "execution_count": 149,
   "id": "6c5633cc",
   "metadata": {},
   "outputs": [
    {
     "name": "stdout",
     "output_type": "stream",
     "text": [
      "                                   product_name_english product_description  \\\n",
      "47                         extra chorizo el pozo 85 gr.                       \n",
      "867   extra iberian salchichon dia nuestra alacena t...                       \n",
      "2411  chorizo y salchichon extra dia nuestra alacena...                       \n",
      "3611          chorizo portions carnicas gallego 415 gr.                       \n",
      "2535  chorizo cular iberico extra dia nuestra alacen...                       \n",
      "8287  iberian salchichon manuel de montejo package 9...                       \n",
      "\n",
      "                                 master_category_names  \n",
      "47    dairy / chilled / eggs_deli / snacking_deli meat  \n",
      "867   dairy / chilled / eggs_deli / snacking_deli meat  \n",
      "2411  dairy / chilled / eggs_deli / snacking_deli meat  \n",
      "3611  dairy / chilled / eggs_deli / snacking_deli meat  \n",
      "2535  dairy / chilled / eggs_deli / snacking_deli meat  \n",
      "8287  dairy / chilled / eggs_deli / snacking_deli meat  \n"
     ]
    }
   ],
   "source": [
    "print(find_similar_products(filtered_df, 47, 5))"
   ]
  },
  {
   "cell_type": "code",
   "execution_count": 150,
   "id": "0ffe74af",
   "metadata": {},
   "outputs": [
    {
     "name": "stdout",
     "output_type": "stream",
     "text": [
      "                                   product_name_english product_description  \\\n",
      "49          salmon pate dia nuestra alacena jar 110 gr.                       \n",
      "3040       anchovy pate dia nuestra alacena jar 110 gr.                       \n",
      "7863           ham pate dia nuestra alacena jar 110 gr.                       \n",
      "1313               olivada pate dia vegedia jar 110 gr.                       \n",
      "443   mackerel in escabeche dia mari marinera can 73...                       \n",
      "5493       chicken pate dia nuestra alacena jar 110 gr.                       \n",
      "\n",
      "                                  master_category_names  \n",
      "49    packaged foods_canned / jarred / instant meals...  \n",
      "3040  packaged foods_canned / jarred / instant meals...  \n",
      "7863  packaged foods_canned / jarred / instant meals...  \n",
      "1313  packaged foods_canned / jarred / instant meals...  \n",
      "443   packaged foods_canned / jarred / instant meals...  \n",
      "5493  packaged foods_canned / jarred / instant meals...  \n"
     ]
    }
   ],
   "source": [
    "print(find_similar_products(filtered_df, 49, 5))"
   ]
  },
  {
   "cell_type": "code",
   "execution_count": 151,
   "id": "09c64c80",
   "metadata": {},
   "outputs": [
    {
     "name": "stdout",
     "output_type": "stream",
     "text": [
      "                            product_name_english product_description  \\\n",
      "60       extra fig jam 60% fruit dia jar 320 gr.                       \n",
      "6082  extra peach diet jam dia vital jar 330 gr.                       \n",
      "7201          extra peach jam helios jar 340 gr.                       \n",
      "3908      extra plum jam diet helios jar 280 gr.                       \n",
      "1624              extra plum jam dia jar 650 gr.                       \n",
      "509              extra peach jam dia jar 390 gr.                       \n",
      "\n",
      "                       master_category_names  \n",
      "60    packaged foods_breakfast / spreads_jam  \n",
      "6082  packaged foods_breakfast / spreads_jam  \n",
      "7201  packaged foods_breakfast / spreads_jam  \n",
      "3908  packaged foods_breakfast / spreads_jam  \n",
      "1624  packaged foods_breakfast / spreads_jam  \n",
      "509   packaged foods_breakfast / spreads_jam  \n"
     ]
    }
   ],
   "source": [
    "print(find_similar_products(filtered_df, 60, 5))"
   ]
  },
  {
   "cell_type": "code",
   "execution_count": 152,
   "id": "1566edcd",
   "metadata": {},
   "outputs": [
    {
     "name": "stdout",
     "output_type": "stream",
     "text": [
      "                                   product_name_english product_description  \\\n",
      "812                         bimbo hot dog bread 6u 330g                       \n",
      "2176     bimbo sliced bread 50% integral 50% white 480g                       \n",
      "1113            bimbo artisan sliced bread brioche 550g                       \n",
      "568               family size sliced bread dia bag 820g                       \n",
      "216      milka choco brownie chocolate sponge cake 150g                       \n",
      "5401  100% whole wheat toast bread el molino de dia ...                       \n",
      "\n",
      "              master_category_names  \n",
      "812   bread / bakery_bread_packaged  \n",
      "2176  bread / bakery_bread_packaged  \n",
      "1113  bread / bakery_bread_packaged  \n",
      "568   bread / bakery_bread_packaged  \n",
      "216   bread / bakery_bread_packaged  \n",
      "5401  bread / bakery_bread_packaged  \n"
     ]
    }
   ],
   "source": [
    "print(find_similar_products(filtered_df, 812, 5))"
   ]
  },
  {
   "cell_type": "code",
   "execution_count": 153,
   "id": "8c99e17e",
   "metadata": {},
   "outputs": [
    {
     "name": "stdout",
     "output_type": "stream",
     "text": [
      "                                 product_name_english product_description  \\\n",
      "814              freezer bags zip 3l dia pack 40 pcs.                       \n",
      "7144               zip small freezer bags dia 25 pcs.                       \n",
      "846   zipper freezer bags 1 lt super paco box 15 pcs.                       \n",
      "6186                         sandwich bag dia 40 pcs.                       \n",
      "748            small ziplock bag ziperfix bag 20 pcs.                       \n",
      "7734          small ziplock bags ziperfix box 15 pcs.                       \n",
      "\n",
      "                            master_category_names  \n",
      "814   home / pet_disposables_food storage / wraps  \n",
      "7144  home / pet_disposables_food storage / wraps  \n",
      "846   home / pet_disposables_food storage / wraps  \n",
      "6186  home / pet_disposables_food storage / wraps  \n",
      "748   home / pet_disposables_food storage / wraps  \n",
      "7734  home / pet_disposables_food storage / wraps  \n"
     ]
    }
   ],
   "source": [
    "print(find_similar_products(filtered_df, 814, 5))"
   ]
  },
  {
   "cell_type": "code",
   "execution_count": 154,
   "id": "098eeee4",
   "metadata": {},
   "outputs": [
    {
     "name": "stdout",
     "output_type": "stream",
     "text": [
      "                 product_name_english product_description  \\\n",
      "5011      oat milk natural vegedia 1l         plant based   \n",
      "7866   almond milk natural vegedia 1l         plant based   \n",
      "5474             rice milk vegedia 1l         plant based   \n",
      "6887           yo soy quaker drink 1l         plant based   \n",
      "1366  alpro unsweetened oat drink 1 l         plant based   \n",
      "5545            oat drink vivesoy 1 l         plant based   \n",
      "\n",
      "                              master_category_names  \n",
      "5011  dairy / chilled / eggs_milk_milk alternatives  \n",
      "7866  dairy / chilled / eggs_milk_milk alternatives  \n",
      "5474  dairy / chilled / eggs_milk_milk alternatives  \n",
      "6887  dairy / chilled / eggs_milk_milk alternatives  \n",
      "1366  dairy / chilled / eggs_milk_milk alternatives  \n",
      "5545  dairy / chilled / eggs_milk_milk alternatives  \n"
     ]
    }
   ],
   "source": [
    "print(find_similar_products(filtered_df, 5011, 5))"
   ]
  },
  {
   "cell_type": "markdown",
   "id": "940adffe",
   "metadata": {},
   "source": [
    "### 2.1.5 Implement Sentence Transformers"
   ]
  },
  {
   "cell_type": "markdown",
   "id": "0961aa91",
   "metadata": {},
   "source": [
    "These models are trained specifically for greater semantic understanding and might capture nuances that BERT or TF-IDF miss."
   ]
  },
  {
   "cell_type": "code",
   "execution_count": 155,
   "id": "6d4ccb51",
   "metadata": {},
   "outputs": [],
   "source": [
    "# Load pre-trained model\n",
    "model = SentenceTransformer('all-MiniLM-L6-v2')"
   ]
  },
  {
   "cell_type": "code",
   "execution_count": 156,
   "id": "4473488c",
   "metadata": {},
   "outputs": [],
   "source": [
    "texts = filtered_df['combined_text'].tolist()\n",
    "embeddings = model.encode(texts)"
   ]
  },
  {
   "cell_type": "code",
   "execution_count": 157,
   "id": "f52fa9a5",
   "metadata": {},
   "outputs": [],
   "source": [
    "# Compute the similarity matrix\n",
    "similarity_matrix = cosine_similarity(embeddings)"
   ]
  },
  {
   "cell_type": "code",
   "execution_count": 158,
   "id": "3b49b318",
   "metadata": {},
   "outputs": [],
   "source": [
    "def find_similar_products(df, product_index, top_n=5):\n",
    "    target_category = df.iloc[product_index]['master_category_names']\n",
    "\n",
    "    # Filter the DataFrame to only include products from the same category\n",
    "    same_category_df = df[df['master_category_names'] == target_category]\n",
    "\n",
    "    # Exclude the product itself from the comparison\n",
    "    same_category_df = same_category_df[same_category_df.index != product_index]\n",
    "\n",
    "    # Check if there are enough products to compare\n",
    "    if len(same_category_df) < top_n:\n",
    "        return f\"Not enough products in the same category to compare for product index {product_index}.\"\n",
    "\n",
    "    # Encode filtered texts\n",
    "    filtered_texts = same_category_df['combined_text'].tolist()\n",
    "    filtered_embeddings = model.encode(filtered_texts)\n",
    "\n",
    "    # Compute the cosine similarity with the target product's embedding\n",
    "    target_embedding = [embeddings[product_index]]  # Single embedding in a list\n",
    "    similarity_scores = cosine_similarity(target_embedding, filtered_embeddings)[0]\n",
    "\n",
    "    # Get the top N similar products\n",
    "    top_indices = np.argsort(similarity_scores)[::-1][:top_n]\n",
    "\n",
    "    # Return the most similar products\n",
    "    return same_category_df.iloc[top_indices][['product_name_english', 'master_category_names']]"
   ]
  },
  {
   "cell_type": "code",
   "execution_count": 159,
   "id": "01f2b396",
   "metadata": {},
   "outputs": [],
   "source": [
    "# Encode all descriptions to embeddings\n",
    "texts = filtered_df['combined_text'].tolist()\n",
    "embeddings = model.encode(texts)  # Save embeddings globally if using them outside the function"
   ]
  },
  {
   "cell_type": "code",
   "execution_count": 160,
   "id": "092146b6",
   "metadata": {},
   "outputs": [],
   "source": [
    "filtered_df['embeddings'] = list(embeddings)"
   ]
  },
  {
   "cell_type": "code",
   "execution_count": 161,
   "id": "894d5ace",
   "metadata": {},
   "outputs": [
    {
     "name": "stdout",
     "output_type": "stream",
     "text": [
      "                                   product_name_english  \\\n",
      "8002             cured sheep cheese el cencerro 250 gr.   \n",
      "3265  sheep cheese cured in olive oil el cencerro 25...   \n",
      "4744              aged sheep cheese el cencerro 250 gr.   \n",
      "7495   semi cured goat cheese el cencerro wedge 300 gr.   \n",
      "5921  semi cured sheep cheese slices dia el cencerro...   \n",
      "\n",
      "                           master_category_names  \n",
      "8002  dairy / chilled / eggs_dairy / eggs_cheese  \n",
      "3265  dairy / chilled / eggs_dairy / eggs_cheese  \n",
      "4744  dairy / chilled / eggs_dairy / eggs_cheese  \n",
      "7495  dairy / chilled / eggs_dairy / eggs_cheese  \n",
      "5921  dairy / chilled / eggs_dairy / eggs_cheese  \n"
     ]
    }
   ],
   "source": [
    "# Find similar products within the same category for the first product\n",
    "print(find_similar_products(filtered_df, 0, 5))"
   ]
  },
  {
   "cell_type": "code",
   "execution_count": 162,
   "id": "e1ae446a",
   "metadata": {},
   "outputs": [
    {
     "name": "stdout",
     "output_type": "stream",
     "text": [
      "                                   product_name_english  \\\n",
      "6907  refined sunflower oil for frying diasol bottle...   \n",
      "6273                    koipe sunflower oil fritos 1 l.   \n",
      "4393        borges high oleic sunflower oil bottle 1 l.   \n",
      "7560                  extra virgin olive oil coosur 1 l   \n",
      "6470  mild olive oil dia almazara del olivar bottle 1l.   \n",
      "\n",
      "                                  master_category_names  \n",
      "6907  packaged foods_cooking / condiments / baking /...  \n",
      "6273  packaged foods_cooking / condiments / baking /...  \n",
      "4393  packaged foods_cooking / condiments / baking /...  \n",
      "7560  packaged foods_cooking / condiments / baking /...  \n",
      "6470  packaged foods_cooking / condiments / baking /...  \n"
     ]
    }
   ],
   "source": [
    "print(find_similar_products(filtered_df, 1, 5))"
   ]
  },
  {
   "cell_type": "code",
   "execution_count": 163,
   "id": "88f1b9a2",
   "metadata": {},
   "outputs": [
    {
     "name": "stdout",
     "output_type": "stream",
     "text": [
      "                                   product_name_english  \\\n",
      "4962        royal baking powder mix 6 sachets of 16 gr.   \n",
      "4640      maizena baker's yeast box 5 sachets of 55 gr.   \n",
      "8165                    dia powder sweetener jar 75 gr.   \n",
      "7501                 promolac baking powder can 175 gr.   \n",
      "5225  brown sugar dia in envelopes 50 units box 300 gr.   \n",
      "\n",
      "                                  master_category_names  \n",
      "4962  packaged foods_cooking / condiments / baking /...  \n",
      "4640  packaged foods_cooking / condiments / baking /...  \n",
      "8165  packaged foods_cooking / condiments / baking /...  \n",
      "7501  packaged foods_cooking / condiments / baking /...  \n",
      "5225  packaged foods_cooking / condiments / baking /...  \n"
     ]
    }
   ],
   "source": [
    "print(find_similar_products(filtered_df, 2, 5))"
   ]
  },
  {
   "cell_type": "code",
   "execution_count": 164,
   "id": "6c95d48d",
   "metadata": {},
   "outputs": [
    {
     "name": "stdout",
     "output_type": "stream",
     "text": [
      "                                   product_name_english  \\\n",
      "4545   alcohol free apple liqueur sonador bottle 70 cl.   \n",
      "2575  non alcoholic acorn liqueur la extremena bottl...   \n",
      "7192       galician brandy abadia da cova bottle 70 cl.   \n",
      "3306           acorn liqueur la extremena bottle 70 cl.   \n",
      "1453               lollipop liqueur riska bottle 70 cl.   \n",
      "\n",
      "              master_category_names  \n",
      "4545  bws_spirits_liqueurs / creams  \n",
      "2575  bws_spirits_liqueurs / creams  \n",
      "7192  bws_spirits_liqueurs / creams  \n",
      "3306  bws_spirits_liqueurs / creams  \n",
      "1453  bws_spirits_liqueurs / creams  \n"
     ]
    }
   ],
   "source": [
    "print(find_similar_products(filtered_df, 3, 5))"
   ]
  },
  {
   "cell_type": "code",
   "execution_count": 165,
   "id": "2c3298a9",
   "metadata": {},
   "outputs": [
    {
     "name": "stdout",
     "output_type": "stream",
     "text": [
      "                                  product_name_english  \\\n",
      "1019                mini bag snickers chocolates 130 g   \n",
      "7177                    snickers chocolate dessert 50g   \n",
      "418                                    twix minis 227g   \n",
      "4454                mini bag twix chocolate bars 130 g   \n",
      "682   snack kit kat nestle mini milk chocolate 200 gr.   \n",
      "\n",
      "               master_category_names  \n",
      "1019  snacks_confectionary_chocolate  \n",
      "7177  snacks_confectionary_chocolate  \n",
      "418   snacks_confectionary_chocolate  \n",
      "4454  snacks_confectionary_chocolate  \n",
      "682   snacks_confectionary_chocolate  \n"
     ]
    }
   ],
   "source": [
    "print(find_similar_products(filtered_df, 7, 5))"
   ]
  },
  {
   "cell_type": "code",
   "execution_count": 166,
   "id": "618490e7",
   "metadata": {},
   "outputs": [
    {
     "name": "stdout",
     "output_type": "stream",
     "text": [
      "                 product_name_english master_category_names\n",
      "430            kiwi zespri tray 500 g   produce_fruit_other\n",
      "7782            kiwi bio tray 500 gr.   produce_fruit_other\n",
      "684      pink lady apple tray 550 gr.   produce_fruit_other\n",
      "1452  seedless red grape tray 500 gr.   produce_fruit_other\n",
      "2163               mango tray 2 units   produce_fruit_other\n"
     ]
    }
   ],
   "source": [
    "print(find_similar_products(filtered_df, 9, 5))"
   ]
  },
  {
   "cell_type": "code",
   "execution_count": 167,
   "id": "951c6389",
   "metadata": {},
   "outputs": [
    {
     "name": "stdout",
     "output_type": "stream",
     "text": [
      "                                   product_name_english  \\\n",
      "4212  iberian cebo ham slices 50% dia nuestra alacen...   \n",
      "2017    iberian cebo ham 50% dia nuestra alacena 90 gr.   \n",
      "5959  iberian cebo shoulder 50% dia nuestra alacena ...   \n",
      "1559  iberian salami slices dia nuestra alacena 2 x 60g   \n",
      "6788  gran reserva serrano ham petals 50% duroc nues...   \n",
      "\n",
      "                                 master_category_names  \n",
      "4212  dairy / chilled / eggs_deli / snacking_deli meat  \n",
      "2017  dairy / chilled / eggs_deli / snacking_deli meat  \n",
      "5959  dairy / chilled / eggs_deli / snacking_deli meat  \n",
      "1559  dairy / chilled / eggs_deli / snacking_deli meat  \n",
      "6788  dairy / chilled / eggs_deli / snacking_deli meat  \n"
     ]
    }
   ],
   "source": [
    "print(find_similar_products(filtered_df, 10, 5))"
   ]
  },
  {
   "cell_type": "code",
   "execution_count": 168,
   "id": "8035aa36",
   "metadata": {},
   "outputs": [
    {
     "name": "stdout",
     "output_type": "stream",
     "text": [
      "                                   product_name_english  \\\n",
      "4081    fruit juice with vitamin d hohes c bottle 1 lt.   \n",
      "4431  peach juice without added sugar dia zumosfera ...   \n",
      "4177        tomato juice zumosfera pack 4 units 200 ml.   \n",
      "3175  apple juice without added sugar dia zumosfera ...   \n",
      "6903               peach apple and grape juice dia 1 l.   \n",
      "\n",
      "                                  master_category_names  \n",
      "4081  beverages_juice / ice tea / sports / energy_juice  \n",
      "4431  beverages_juice / ice tea / sports / energy_juice  \n",
      "4177  beverages_juice / ice tea / sports / energy_juice  \n",
      "3175  beverages_juice / ice tea / sports / energy_juice  \n",
      "6903  beverages_juice / ice tea / sports / energy_juice  \n"
     ]
    }
   ],
   "source": [
    "print(find_similar_products(filtered_df, 11, 5))"
   ]
  },
  {
   "cell_type": "code",
   "execution_count": 169,
   "id": "b33f8e0d",
   "metadata": {},
   "outputs": [
    {
     "name": "stdout",
     "output_type": "stream",
     "text": [
      "                                 product_name_english  \\\n",
      "5631                   natural honey argan oil 300 ml   \n",
      "5917         argan hand soap natural honey 2 x 100 g.   \n",
      "6650  spa experience shower gel natural honey 650 ml.   \n",
      "6408         natural honey shower gel amazonia 600 ml   \n",
      "1920   pure micellar shower gel natural honey 750 ml.   \n",
      "\n",
      "                                  master_category_names  \n",
      "5631  personal care / baby / health_personal care / ...  \n",
      "5917  personal care / baby / health_personal care / ...  \n",
      "6650  personal care / baby / health_personal care / ...  \n",
      "6408  personal care / baby / health_personal care / ...  \n",
      "1920  personal care / baby / health_personal care / ...  \n"
     ]
    }
   ],
   "source": [
    "print(find_similar_products(filtered_df, 20, 5))"
   ]
  },
  {
   "cell_type": "code",
   "execution_count": 170,
   "id": "fc3bf342",
   "metadata": {},
   "outputs": [
    {
     "name": "stdout",
     "output_type": "stream",
     "text": [
      "                                   product_name_english  \\\n",
      "8436  eye and lip makeup remover babaria bottle 100 ml.   \n",
      "7838    makeup remover for sensitive skin bonte 250 ml.   \n",
      "4601        waterproof eye makeup remover bonte 150 ml.   \n",
      "7732     gentle eye makeup remover bonte bottle 150 ml.   \n",
      "4766              makeup remover milk diadermine 200ml.   \n",
      "\n",
      "                                  master_category_names  \n",
      "8436  personal care / baby / health_personal care / ...  \n",
      "7838  personal care / baby / health_personal care / ...  \n",
      "4601  personal care / baby / health_personal care / ...  \n",
      "7732  personal care / baby / health_personal care / ...  \n",
      "4766  personal care / baby / health_personal care / ...  \n"
     ]
    }
   ],
   "source": [
    "print(find_similar_products(filtered_df, 21, 5))"
   ]
  },
  {
   "cell_type": "code",
   "execution_count": 171,
   "id": "c4d8eeae",
   "metadata": {},
   "outputs": [
    {
     "name": "stdout",
     "output_type": "stream",
     "text": [
      "                                   product_name_english  \\\n",
      "1304               albo small sardines in olive oil 82g   \n",
      "1364            cabo de penas sardines in olive oil 85g   \n",
      "4984                            albo spicy sardines 85g   \n",
      "2947          sardine in sunflower oil albo can 105 gr.   \n",
      "529   sardines in olive oil dia mari marinera pack 2...   \n",
      "\n",
      "                                  master_category_names  \n",
      "1304  packaged foods_canned / jarred / instant meals...  \n",
      "1364  packaged foods_canned / jarred / instant meals...  \n",
      "4984  packaged foods_canned / jarred / instant meals...  \n",
      "2947  packaged foods_canned / jarred / instant meals...  \n",
      "529   packaged foods_canned / jarred / instant meals...  \n"
     ]
    }
   ],
   "source": [
    "print(find_similar_products(filtered_df, 22, 5))"
   ]
  },
  {
   "cell_type": "code",
   "execution_count": 172,
   "id": "b1c06763",
   "metadata": {},
   "outputs": [
    {
     "name": "stdout",
     "output_type": "stream",
     "text": [
      "                                   product_name_english  \\\n",
      "5321   body cream with olive oil dry skin nivea 300 ml.   \n",
      "4759  nourishing body cream very dry skin nivea bott...   \n",
      "5613               dove shea butter body lotion 400 ml.   \n",
      "6024                    body milk dove dry skin 400 ml.   \n",
      "7983  moisturizing body lotion dry skin sanex bottle...   \n",
      "\n",
      "                                  master_category_names  \n",
      "5321  personal care / baby / health_personal care / ...  \n",
      "4759  personal care / baby / health_personal care / ...  \n",
      "5613  personal care / baby / health_personal care / ...  \n",
      "6024  personal care / baby / health_personal care / ...  \n",
      "7983  personal care / baby / health_personal care / ...  \n"
     ]
    }
   ],
   "source": [
    "print(find_similar_products(filtered_df, 35, 5))"
   ]
  },
  {
   "cell_type": "code",
   "execution_count": 173,
   "id": "0e675ba5",
   "metadata": {},
   "outputs": [
    {
     "name": "stdout",
     "output_type": "stream",
     "text": [
      "                                   product_name_english  \\\n",
      "6592              brush elect concillo clean oral b 4ud   \n",
      "6645     disiclin concentrated gold floor cleaner 900ml   \n",
      "7811                          blue cotton bag dia 1 pc.   \n",
      "1897  intensive age color 8.5 golden blonde palette ...   \n",
      "2475                           red cotton bag dia 1 pc.   \n",
      "\n",
      "                                  master_category_names  \n",
      "6592  personal care / baby / health_personal care / ...  \n",
      "6645  personal care / baby / health_personal care / ...  \n",
      "7811  personal care / baby / health_personal care / ...  \n",
      "1897  personal care / baby / health_personal care / ...  \n",
      "2475  personal care / baby / health_personal care / ...  \n"
     ]
    }
   ],
   "source": [
    "print(find_similar_products(filtered_df, 37, 5))"
   ]
  },
  {
   "cell_type": "code",
   "execution_count": 174,
   "id": "68024254",
   "metadata": {},
   "outputs": [
    {
     "name": "stdout",
     "output_type": "stream",
     "text": [
      "                                   product_name_english  \\\n",
      "1527  barbecue flavored fried corn dia snack maniac ...   \n",
      "5564                       jumpers mix corn snacks 100g   \n",
      "7445                lay's 3 d's bugles corn snack 100 g   \n",
      "1156               day snack maniac! aprious cones 85 g   \n",
      "1769       day snack maniac! nachos nachos nachos 150 g   \n",
      "\n",
      "          master_category_names  \n",
      "1527  snacks_salty snacks_chips  \n",
      "5564  snacks_salty snacks_chips  \n",
      "7445  snacks_salty snacks_chips  \n",
      "1156  snacks_salty snacks_chips  \n",
      "1769  snacks_salty snacks_chips  \n"
     ]
    }
   ],
   "source": [
    "print(find_similar_products(filtered_df, 39, 5))"
   ]
  },
  {
   "cell_type": "code",
   "execution_count": 175,
   "id": "492a9112",
   "metadata": {},
   "outputs": [
    {
     "name": "stdout",
     "output_type": "stream",
     "text": [
      "                                   product_name_english  \\\n",
      "4678               extra sweet chorizo ezequiel 425 gr.   \n",
      "1684               extra spicy chorizo ezequiel 425 gr.   \n",
      "8173              extra sarta chorizo dia piece 280 gr.   \n",
      "8426   extra chorizo already cut espana e hijos 200 gr.   \n",
      "2535  chorizo cular iberico extra dia nuestra alacen...   \n",
      "\n",
      "                                 master_category_names  \n",
      "4678  dairy / chilled / eggs_deli / snacking_deli meat  \n",
      "1684  dairy / chilled / eggs_deli / snacking_deli meat  \n",
      "8173  dairy / chilled / eggs_deli / snacking_deli meat  \n",
      "8426  dairy / chilled / eggs_deli / snacking_deli meat  \n",
      "2535  dairy / chilled / eggs_deli / snacking_deli meat  \n"
     ]
    }
   ],
   "source": [
    "print(find_similar_products(filtered_df, 47, 5))"
   ]
  },
  {
   "cell_type": "code",
   "execution_count": 176,
   "id": "e9103051",
   "metadata": {},
   "outputs": [
    {
     "name": "stdout",
     "output_type": "stream",
     "text": [
      "                              product_name_english  \\\n",
      "5493  chicken pate dia nuestra alacena jar 110 gr.   \n",
      "3040  anchovy pate dia nuestra alacena jar 110 gr.   \n",
      "7863      ham pate dia nuestra alacena jar 110 gr.   \n",
      "1313          olivada pate dia vegedia jar 110 gr.   \n",
      "130       olivada gourmet pate cazorla jar 110 gr.   \n",
      "\n",
      "                                  master_category_names  \n",
      "5493  packaged foods_canned / jarred / instant meals...  \n",
      "3040  packaged foods_canned / jarred / instant meals...  \n",
      "7863  packaged foods_canned / jarred / instant meals...  \n",
      "1313  packaged foods_canned / jarred / instant meals...  \n",
      "130   packaged foods_canned / jarred / instant meals...  \n"
     ]
    }
   ],
   "source": [
    "print(find_similar_products(filtered_df, 49, 5))"
   ]
  },
  {
   "cell_type": "code",
   "execution_count": 177,
   "id": "c20abc37",
   "metadata": {},
   "outputs": [
    {
     "name": "stdout",
     "output_type": "stream",
     "text": [
      "                               product_name_english  \\\n",
      "2997           extra strawberry jam dia jar 390 gr.   \n",
      "6129       wild fruit jam dia delicious jar 320 gr.   \n",
      "509                 extra peach jam dia jar 390 gr.   \n",
      "6124  raspberry extra jam dia delicious jar 320 gr.   \n",
      "55                     extra peach jam dia jar 640g   \n",
      "\n",
      "                       master_category_names  \n",
      "2997  packaged foods_breakfast / spreads_jam  \n",
      "6129  packaged foods_breakfast / spreads_jam  \n",
      "509   packaged foods_breakfast / spreads_jam  \n",
      "6124  packaged foods_breakfast / spreads_jam  \n",
      "55    packaged foods_breakfast / spreads_jam  \n"
     ]
    }
   ],
   "source": [
    "print(find_similar_products(filtered_df, 60, 5))"
   ]
  },
  {
   "cell_type": "code",
   "execution_count": 178,
   "id": "3e438224",
   "metadata": {},
   "outputs": [
    {
     "name": "stdout",
     "output_type": "stream",
     "text": [
      "                product_name_english  \\\n",
      "6998  la lechera condensed milk 450g   \n",
      "4294  la lechera condensed milk 370g   \n",
      "2845  la lechera condensed milk 740g   \n",
      "2513    ideal evaporated milk 525 ml   \n",
      "6819    dia condensed milk jar 1 kg.   \n",
      "\n",
      "                                  master_category_names  \n",
      "6998  dairy / chilled / eggs_milk_condensed / evapor...  \n",
      "4294  dairy / chilled / eggs_milk_condensed / evapor...  \n",
      "2845  dairy / chilled / eggs_milk_condensed / evapor...  \n",
      "2513  dairy / chilled / eggs_milk_condensed / evapor...  \n",
      "6819  dairy / chilled / eggs_milk_condensed / evapor...  \n"
     ]
    }
   ],
   "source": [
    "print(find_similar_products(filtered_df, 811, 5))"
   ]
  },
  {
   "cell_type": "code",
   "execution_count": 179,
   "id": "86b331ca",
   "metadata": {},
   "outputs": [
    {
     "name": "stdout",
     "output_type": "stream",
     "text": [
      "                                   product_name_english  \\\n",
      "7100  rustic hot dog bread el molino de dia bag 330 gr.   \n",
      "1113            bimbo artisan sliced bread brioche 550g   \n",
      "6280               bimbo sliced bread tender crust 460g   \n",
      "2419           8 cereal bread bimbo silueta bag 650 gr.   \n",
      "3424                pasquier milk bread 8 units 280 gr.   \n",
      "\n",
      "              master_category_names  \n",
      "7100  bread / bakery_bread_packaged  \n",
      "1113  bread / bakery_bread_packaged  \n",
      "6280  bread / bakery_bread_packaged  \n",
      "2419  bread / bakery_bread_packaged  \n",
      "3424  bread / bakery_bread_packaged  \n"
     ]
    }
   ],
   "source": [
    "print(find_similar_products(filtered_df, 812, 5))"
   ]
  },
  {
   "cell_type": "code",
   "execution_count": 180,
   "id": "abe25a81",
   "metadata": {},
   "outputs": [
    {
     "name": "stdout",
     "output_type": "stream",
     "text": [
      "                                   product_name_english  \\\n",
      "6410  facial sun cream with mineral filter spf 50 di...   \n",
      "2711  children's sun milk spf 50+ dia imaqe tube 250...   \n",
      "3151  facial sunscreen medium tone spf 50+ dia imaqe...   \n",
      "7711  facial solar cream with q10 spf 50 nivea sun t...   \n",
      "3492  sensitive facial sunscreen spf 50 nivea sun tu...   \n",
      "\n",
      "                                  master_category_names  \n",
      "6410  personal care / baby / health_personal care / ...  \n",
      "2711  personal care / baby / health_personal care / ...  \n",
      "3151  personal care / baby / health_personal care / ...  \n",
      "7711  personal care / baby / health_personal care / ...  \n",
      "3492  personal care / baby / health_personal care / ...  \n"
     ]
    }
   ],
   "source": [
    "print(find_similar_products(filtered_df, 813, 5))"
   ]
  },
  {
   "cell_type": "code",
   "execution_count": 181,
   "id": "f4c7ffa7",
   "metadata": {},
   "outputs": [
    {
     "name": "stdout",
     "output_type": "stream",
     "text": [
      "                                 product_name_english  \\\n",
      "7144               zip small freezer bags dia 25 pcs.   \n",
      "846   zipper freezer bags 1 lt super paco box 15 pcs.   \n",
      "6358              super paco freezer bags box 30 pcs.   \n",
      "7734          small ziplock bags ziperfix box 15 pcs.   \n",
      "4616          large ziplock bags ziperfix box 10 pcs.   \n",
      "\n",
      "                            master_category_names  \n",
      "7144  home / pet_disposables_food storage / wraps  \n",
      "846   home / pet_disposables_food storage / wraps  \n",
      "6358  home / pet_disposables_food storage / wraps  \n",
      "7734  home / pet_disposables_food storage / wraps  \n",
      "4616  home / pet_disposables_food storage / wraps  \n"
     ]
    }
   ],
   "source": [
    "print(find_similar_products(filtered_df, 814, 5))"
   ]
  },
  {
   "cell_type": "code",
   "execution_count": 182,
   "id": "b51efc31",
   "metadata": {},
   "outputs": [
    {
     "name": "stdout",
     "output_type": "stream",
     "text": [
      "                       product_name_english  \\\n",
      "5474                   rice milk vegedia 1l   \n",
      "7866         almond milk natural vegedia 1l   \n",
      "5783  oat drink 0% sugar vegedia brick 1 l.   \n",
      "5545                  oat drink vivesoy 1 l   \n",
      "4811            vegedia bebida de aveia 1 l   \n",
      "\n",
      "                              master_category_names  \n",
      "5474  dairy / chilled / eggs_milk_milk alternatives  \n",
      "7866  dairy / chilled / eggs_milk_milk alternatives  \n",
      "5783  dairy / chilled / eggs_milk_milk alternatives  \n",
      "5545  dairy / chilled / eggs_milk_milk alternatives  \n",
      "4811  dairy / chilled / eggs_milk_milk alternatives  \n"
     ]
    }
   ],
   "source": [
    "print(find_similar_products(filtered_df, 5011, 5))"
   ]
  },
  {
   "cell_type": "markdown",
   "id": "19675a28",
   "metadata": {},
   "source": [
    "# 3. A MORE PERSONALISED APPROACH"
   ]
  },
  {
   "cell_type": "markdown",
   "id": "38e727bb",
   "metadata": {},
   "source": [
    "### 3.1 PREPROCESSING"
   ]
  },
  {
   "cell_type": "code",
   "execution_count": 183,
   "id": "1b827c5d",
   "metadata": {},
   "outputs": [
    {
     "name": "stdout",
     "output_type": "stream",
     "text": [
      "   customer_id  store_id        store_name product_external_id  \\\n",
      "0    133256310       726  Supermercado DIA               88697   \n",
      "1     90986424      6040  Supermercado DIA              264423   \n",
      "2     25575026     52287          Kaufland            09700041   \n",
      "3     29760668     99379  Supermercado DIA               50569   \n",
      "4    155960899     67668          Kaufland            00013259   \n",
      "\n",
      "                                        product_name  times_clicked  \\\n",
      "0  rosquillas de chocolate el molino de dia 4 uds...              2   \n",
      "1          ensaladilla rusa al punto bandeja 250 gr.              1   \n",
      "2                                    banane vrac /kg              2   \n",
      "3  refresco de té al melocotón dia freshquitos bo...             11   \n",
      "4                 rio mare ton in ulei masline 3x80g              3   \n",
      "\n",
      "   times_bought  quantity_bought  \n",
      "0             2                2  \n",
      "1             1                1  \n",
      "2             0                0  \n",
      "3             4                6  \n",
      "4             1                2  \n"
     ]
    }
   ],
   "source": [
    "# Read the Parquet file into a DataFrame\n",
    "df_orders = pd.read_parquet('/Users/xinyingjinzhu/Desktop/PROJECT/GLOVO/bought_and_clicked_products_0424.parquet')\n",
    "\n",
    "# Display the DataFrame\n",
    "print(df_orders.head())"
   ]
  },
  {
   "cell_type": "code",
   "execution_count": 184,
   "id": "8f835ecc",
   "metadata": {},
   "outputs": [
    {
     "name": "stdout",
     "output_type": "stream",
     "text": [
      "   customer_id  store_id        store_name product_external_id  \\\n",
      "0    133256310       726  Supermercado DIA               88697   \n",
      "1     90986424      6040  Supermercado DIA              264423   \n",
      "2     25575026     52287          Kaufland            09700041   \n",
      "3     29760668     99379  Supermercado DIA               50569   \n",
      "4    155960899     67668          Kaufland            00013259   \n",
      "\n",
      "                                        product_name  times_clicked  \\\n",
      "0  rosquillas de chocolate el molino de dia 4 uds...              2   \n",
      "1          ensaladilla rusa al punto bandeja 250 gr.              1   \n",
      "2                                    banane vrac /kg              2   \n",
      "3  refresco de té al melocotón dia freshquitos bo...             11   \n",
      "4                 rio mare ton in ulei masline 3x80g              3   \n",
      "\n",
      "   times_bought  quantity_bought  \n",
      "0             2                2  \n",
      "1             1                1  \n",
      "2             0                0  \n",
      "3             4                6  \n",
      "4             1                2  \n",
      "        customer_id      store_id  times_clicked  times_bought  \\\n",
      "count  4.809901e+06  4.809901e+06   4.809901e+06  4.809901e+06   \n",
      "mean   7.935095e+07  9.031129e+04   1.722506e+00  6.169416e-01   \n",
      "std    5.746611e+07  9.815119e+04   2.849773e+00  8.254734e-01   \n",
      "min    4.330000e+02  7.250000e+02   1.000000e+00  0.000000e+00   \n",
      "25%    2.819622e+07  9.542000e+03   1.000000e+00  0.000000e+00   \n",
      "50%    6.169802e+07  6.767700e+04   1.000000e+00  0.000000e+00   \n",
      "75%    1.381805e+08  1.161900e+05   2.000000e+00  1.000000e+00   \n",
      "max    1.691334e+08  4.256640e+05   1.288000e+03  3.700000e+01   \n",
      "\n",
      "       quantity_bought  \n",
      "count     4.809901e+06  \n",
      "mean      9.931980e-01  \n",
      "std       3.036550e+00  \n",
      "min       0.000000e+00  \n",
      "25%       0.000000e+00  \n",
      "50%       0.000000e+00  \n",
      "75%       1.000000e+00  \n",
      "max       6.720000e+02  \n",
      "<class 'pandas.core.frame.DataFrame'>\n",
      "RangeIndex: 4809901 entries, 0 to 4809900\n",
      "Data columns (total 8 columns):\n",
      " #   Column               Dtype \n",
      "---  ------               ----- \n",
      " 0   customer_id          int64 \n",
      " 1   store_id             int64 \n",
      " 2   store_name           object\n",
      " 3   product_external_id  object\n",
      " 4   product_name         object\n",
      " 5   times_clicked        int64 \n",
      " 6   times_bought         int64 \n",
      " 7   quantity_bought      int64 \n",
      "dtypes: int64(5), object(3)\n",
      "memory usage: 293.6+ MB\n",
      "None\n",
      "Unique customers: 263508\n",
      "Unique products: 38087\n"
     ]
    }
   ],
   "source": [
    "# Display the first few rows of the dataset to understand its structure\n",
    "print(df_orders.head())\n",
    "\n",
    "# Display summary statistics and information about the dataset\n",
    "print(df_orders.describe())\n",
    "print(df_orders.info())\n",
    "\n",
    "# Check for the number of unique customers and products\n",
    "print(\"Unique customers:\", df_orders['customer_id'].nunique())\n",
    "print(\"Unique products:\", df_orders['product_external_id'].nunique())"
   ]
  },
  {
   "cell_type": "code",
   "execution_count": 185,
   "id": "a434769f",
   "metadata": {},
   "outputs": [
    {
     "name": "stdout",
     "output_type": "stream",
     "text": [
      "   customer_id  store_id        store_name product_external_id  \\\n",
      "0    133256310       726  Supermercado DIA               88697   \n",
      "1     90986424      6040  Supermercado DIA              264423   \n",
      "3     29760668     99379  Supermercado DIA               50569   \n",
      "5     64770849     32052  Supermercado DIA              129845   \n",
      "7     43617161    166858  Supermercado DIA              126847   \n",
      "\n",
      "                                        product_name  times_clicked  \\\n",
      "0  rosquillas de chocolate el molino de dia 4 uds...              2   \n",
      "1          ensaladilla rusa al punto bandeja 250 gr.              1   \n",
      "3  refresco de té al melocotón dia freshquitos bo...             11   \n",
      "5  pepinillos agridulces dia vegecampo frasco 360...             11   \n",
      "7    coca-cola zero azúcar zero cafeína lata 330 ml.              4   \n",
      "\n",
      "   times_bought  quantity_bought  \n",
      "0             2                2  \n",
      "1             1                1  \n",
      "3             4                6  \n",
      "5             5                7  \n",
      "7             2                4  \n"
     ]
    }
   ],
   "source": [
    "df_dia = df_orders[df_orders['store_name'] == 'Supermercado DIA'].copy()\n",
    "print(df_dia.head())"
   ]
  },
  {
   "cell_type": "code",
   "execution_count": 186,
   "id": "d0acb955",
   "metadata": {
    "scrolled": true
   },
   "outputs": [
    {
     "name": "stdout",
     "output_type": "stream",
     "text": [
      "customer_id               0\n",
      "store_id                  0\n",
      "store_name                0\n",
      "product_external_id    5341\n",
      "product_name             59\n",
      "times_clicked             0\n",
      "times_bought              0\n",
      "quantity_bought           0\n",
      "dtype: int64\n"
     ]
    }
   ],
   "source": [
    "# Check for any missing values\n",
    "print(df_dia.isnull().sum())"
   ]
  },
  {
   "cell_type": "code",
   "execution_count": 187,
   "id": "8dd2afd9",
   "metadata": {},
   "outputs": [
    {
     "name": "stdout",
     "output_type": "stream",
     "text": [
      "        product_external_id product_name\n",
      "215689                 None         None\n",
      "218304                 None         None\n",
      "288848                 None         None\n",
      "380058                 None         None\n",
      "573847                 None         None\n",
      "669318                 None         None\n",
      "679092                 None         None\n",
      "792075                 None         None\n",
      "939950                 None         None\n",
      "1012362                None         None\n",
      "1075657                None         None\n",
      "1186164                None         None\n",
      "1191516                None         None\n",
      "1226398                None         None\n",
      "1256422                None         None\n",
      "1446891                None         None\n",
      "1456361                None         None\n",
      "1536847                None         None\n",
      "1632746                None         None\n",
      "1802814                None         None\n",
      "1883796                None         None\n",
      "1923428                None         None\n",
      "1989612                None         None\n",
      "1991038                None         None\n",
      "2045548                None         None\n",
      "2160197                None         None\n",
      "2291180                None         None\n",
      "2498934                None         None\n",
      "2612931                None         None\n",
      "2660664                None         None\n",
      "2713085                None         None\n",
      "2811469                None         None\n",
      "2982800                None         None\n",
      "2991745                None         None\n",
      "3019543                None         None\n",
      "3023381                None         None\n",
      "3210931                None         None\n",
      "3250420                None         None\n",
      "3300448                None         None\n",
      "3472334                None         None\n",
      "3558532                None         None\n",
      "3601037                None         None\n",
      "3616227                None         None\n",
      "3713731                None         None\n",
      "3758746                None         None\n",
      "3815443                None         None\n",
      "3922277                None         None\n",
      "4020593                None         None\n",
      "4106442                None         None\n",
      "4143284                None         None\n",
      "4318234                None         None\n",
      "4352419                None         None\n",
      "4428518                None         None\n",
      "4468605                None         None\n",
      "4549540                None         None\n",
      "4565438                None         None\n",
      "4604405                None         None\n",
      "4609873                None         None\n",
      "4635805                None         None\n"
     ]
    }
   ],
   "source": [
    "# Filter to display only rows where 'product_name' is missing\n",
    "missing_product_names = df_dia[df_dia['product_name'].isnull()]\n",
    "\n",
    "# Display these rows with specific focus on 'product_external_id'\n",
    "print(missing_product_names[['product_external_id', 'product_name']])"
   ]
  },
  {
   "cell_type": "code",
   "execution_count": 188,
   "id": "a74c9ca0",
   "metadata": {},
   "outputs": [],
   "source": [
    "# For 'product_name', drop rows if the product name is missing\n",
    "df_dia.dropna(subset=['product_name'], inplace=True)"
   ]
  },
  {
   "cell_type": "code",
   "execution_count": 189,
   "id": "1388feb4",
   "metadata": {},
   "outputs": [
    {
     "name": "stdout",
     "output_type": "stream",
     "text": [
      "        product_external_id product_name\n",
      "739                    None             \n",
      "849                    None             \n",
      "2259                   None             \n",
      "3534                   None             \n",
      "4194                   None             \n",
      "...                     ...          ...\n",
      "4808247                None             \n",
      "4809346                None             \n",
      "4809496                None             \n",
      "4809525                None             \n",
      "4809651                None             \n",
      "\n",
      "[5282 rows x 2 columns]\n"
     ]
    }
   ],
   "source": [
    "# Filter to display only rows where 'product_external_id' is missing\n",
    "missing_product_names = df_dia[df_dia['product_external_id'].isnull()]\n",
    "\n",
    "# Display these rows with specific focus on 'product_name'\n",
    "print(missing_product_names[['product_external_id', 'product_name']])"
   ]
  },
  {
   "cell_type": "code",
   "execution_count": 190,
   "id": "be3b93ac",
   "metadata": {},
   "outputs": [
    {
     "name": "stdout",
     "output_type": "stream",
     "text": [
      "6499\n"
     ]
    }
   ],
   "source": [
    "unique_product_ids_count = df_dia['product_external_id'].nunique()\n",
    "print(unique_product_ids_count)"
   ]
  },
  {
   "cell_type": "code",
   "execution_count": 191,
   "id": "046a9326",
   "metadata": {},
   "outputs": [
    {
     "name": "stdout",
     "output_type": "stream",
     "text": [
      "6499\n",
      "customer_id            0\n",
      "store_id               0\n",
      "store_name             0\n",
      "product_external_id    0\n",
      "product_name           0\n",
      "times_clicked          0\n",
      "times_bought           0\n",
      "quantity_bought        0\n",
      "dtype: int64\n"
     ]
    }
   ],
   "source": [
    "# For 'product_external_id', drop rows if the product name is missing\n",
    "df_dia.dropna(subset=['product_external_id'], inplace=True)\n",
    "\n",
    "unique_product_ids_count = df_dia['product_external_id'].nunique()\n",
    "print(unique_product_ids_count)\n",
    "\n",
    "# Check for any missing values\n",
    "print(df_dia.isnull().sum())"
   ]
  },
  {
   "cell_type": "code",
   "execution_count": 192,
   "id": "8f7c84fb",
   "metadata": {},
   "outputs": [],
   "source": [
    "# Function to normalize text\n",
    "def normalize_text(text):\n",
    "    # Convert to lowercase and replace hyphens with spaces\n",
    "    return text.lower().replace('-', ' ')\n",
    "\n",
    "# Apply normalization\n",
    "df_dia['product_name'] = df_dia['product_name'].apply(normalize_text)"
   ]
  },
  {
   "cell_type": "code",
   "execution_count": 193,
   "id": "fc4cde3b",
   "metadata": {},
   "outputs": [],
   "source": [
    "# Calculate the click-to-purchase ratio\n",
    "df_dia['click_to_purchase_ratio'] = df_dia['times_bought'] / df_dia['times_clicked']\n",
    "\n",
    "# Frequency of purchase per customer for each product\n",
    "df_dia['purchase_freq'] = df_dia.groupby('customer_id')['product_external_id'].transform('count')"
   ]
  },
  {
   "cell_type": "markdown",
   "id": "39f8e678",
   "metadata": {},
   "source": [
    "### 3.2 EXPLORATORY DATA ANALYSIS (EDA)"
   ]
  },
  {
   "cell_type": "code",
   "execution_count": 194,
   "id": "b0839ae0",
   "metadata": {},
   "outputs": [
    {
     "data": {
      "image/png": "[encoded data removed]",
      "text/plain": [
       "<Figure size 640x480 with 2 Axes>"
      ]
     },
     "metadata": {},
     "output_type": "display_data"
    },
    {
     "data": {
      "image/png": "[encoded data removed]",
      "text/plain": [
       "<Figure size 750x750 with 12 Axes>"
      ]
     },
     "metadata": {},
     "output_type": "display_data"
    }
   ],
   "source": [
    "# Correlation matrix\n",
    "correlation_matrix = df_dia[['times_clicked', 'times_bought', 'quantity_bought']].corr()\n",
    "\n",
    "# Heatmap of the correlation matrix\n",
    "sns.heatmap(correlation_matrix, annot=True, cmap='coolwarm')\n",
    "plt.show()\n",
    "\n",
    "# Pairplot\n",
    "sns.pairplot(df_dia[['times_clicked', 'times_bought', 'quantity_bought']])\n",
    "plt.show()"
   ]
  },
  {
   "cell_type": "markdown",
   "id": "6d36b4c1",
   "metadata": {},
   "source": [
    "### 3.3 COLLABORATIVE FILTERING MODEL (CF)"
   ]
  },
  {
   "cell_type": "markdown",
   "id": "9eff042b",
   "metadata": {},
   "source": [
    "Collaborative filtering is a method of making automatic predictions (filtering) about the interests of a user by collecting preferences from many users (collaborating). The underlying assumption is that if a person A has the same opinion as a person B on an issue, A is more likely to have B's opinion on a different issue than that of a randomly chosen person."
   ]
  },
  {
   "cell_type": "markdown",
   "id": "cb0118bf",
   "metadata": {},
   "source": [
    "# 4. MERGE BOTH DATASETS"
   ]
  },
  {
   "cell_type": "code",
   "execution_count": 195,
   "id": "fe89602c",
   "metadata": {},
   "outputs": [
    {
     "name": "stdout",
     "output_type": "stream",
     "text": [
      "Unique IDs in filtered_df: 8442\n",
      "Unique Names in filtered_df: 8416\n",
      "Unique IDs in df_dia: 6499\n",
      "Unique Names in df_dia: 8040\n"
     ]
    }
   ],
   "source": [
    "unique_ids_filtered = filtered_df['product_external_id'].nunique()\n",
    "unique_names_filtered = filtered_df['product_name'].nunique()\n",
    "unique_ids_dia = df_dia['product_external_id'].nunique()\n",
    "unique_names_dia = df_dia['product_name'].nunique()\n",
    "\n",
    "print(\"Unique IDs in filtered_df:\", unique_ids_filtered)\n",
    "print(\"Unique Names in filtered_df:\", unique_names_filtered)\n",
    "print(\"Unique IDs in df_dia:\", unique_ids_dia)\n",
    "print(\"Unique Names in df_dia:\", unique_names_dia)"
   ]
  },
  {
   "cell_type": "code",
   "execution_count": 196,
   "id": "ba664318",
   "metadata": {
    "scrolled": false
   },
   "outputs": [
    {
     "name": "stdout",
     "output_type": "stream",
     "text": [
      "  product_external_id                                 product_name  \\\n",
      "0                 101  aceite refinado de girasol dia botella 1 l.   \n",
      "1                 101  aceite refinado de girasol dia botella 1 l.   \n",
      "2                 101  aceite refinado de girasol dia botella 1 l.   \n",
      "3                 101  aceite refinado de girasol dia botella 1 l.   \n",
      "4                 101  aceite refinado de girasol dia botella 1 l.   \n",
      "\n",
      "  product_description  product_price  \\\n",
      "0                               1.53   \n",
      "1                               1.53   \n",
      "2                               1.53   \n",
      "3                               1.53   \n",
      "4                               1.53   \n",
      "\n",
      "                                   product_image_url  \\\n",
      "0  https://images.deliveryhero.io/image/global-ca...   \n",
      "1  https://images.deliveryhero.io/image/global-ca...   \n",
      "2  https://images.deliveryhero.io/image/global-ca...   \n",
      "3  https://images.deliveryhero.io/image/global-ca...   \n",
      "4  https://images.deliveryhero.io/image/global-ca...   \n",
      "\n",
      "                         groups_collections_sections  \\\n",
      "0  [[1, [['Despensa', None, 15120, '230a3305-6da7...   \n",
      "1  [[1, [['Despensa', None, 15120, '230a3305-6da7...   \n",
      "2  [[1, [['Despensa', None, 15120, '230a3305-6da7...   \n",
      "3  [[1, [['Despensa', None, 15120, '230a3305-6da7...   \n",
      "4  [[1, [['Despensa', None, 15120, '230a3305-6da7...   \n",
      "\n",
      "        product_master_code  \\\n",
      "0  65525334e2bbfd215f410ae2   \n",
      "1  65525334e2bbfd215f410ae2   \n",
      "2  65525334e2bbfd215f410ae2   \n",
      "3  65525334e2bbfd215f410ae2   \n",
      "4  65525334e2bbfd215f410ae2   \n",
      "\n",
      "                               master_category_names product_brand  \\\n",
      "0  packaged foods_cooking / condiments / baking /...        diasol   \n",
      "1  packaged foods_cooking / condiments / baking /...        diasol   \n",
      "2  packaged foods_cooking / condiments / baking /...        diasol   \n",
      "3  packaged foods_cooking / condiments / baking /...        diasol   \n",
      "4  packaged foods_cooking / condiments / baking /...        diasol   \n",
      "\n",
      "   product_weight_in_grams  ...  \\\n",
      "0                   1021.0  ...   \n",
      "1                   1021.0  ...   \n",
      "2                   1021.0  ...   \n",
      "3                   1021.0  ...   \n",
      "4                   1021.0  ...   \n",
      "\n",
      "                                 weighted_doc_vector  \\\n",
      "0  [-0.028771226632018948, 0.17897162923642146, 0...   \n",
      "1  [-0.028771226632018948, 0.17897162923642146, 0...   \n",
      "2  [-0.028771226632018948, 0.17897162923642146, 0...   \n",
      "3  [-0.028771226632018948, 0.17897162923642146, 0...   \n",
      "4  [-0.028771226632018948, 0.17897162923642146, 0...   \n",
      "\n",
      "                                          embeddings customer_id store_id  \\\n",
      "0  [-0.054471165, 0.018109487, 0.07694275, 0.0083...      644099   129958   \n",
      "1  [-0.054471165, 0.018109487, 0.07694275, 0.0083...   136893388      725   \n",
      "2  [-0.054471165, 0.018109487, 0.07694275, 0.0083...    21567107     2742   \n",
      "3  [-0.054471165, 0.018109487, 0.07694275, 0.0083...    11059367    12104   \n",
      "4  [-0.054471165, 0.018109487, 0.07694275, 0.0083...   166266728      725   \n",
      "\n",
      "         store_name  times_clicked times_bought quantity_bought  \\\n",
      "0  Supermercado DIA              2            1               2   \n",
      "1  Supermercado DIA              1            0               0   \n",
      "2  Supermercado DIA              2            0               0   \n",
      "3  Supermercado DIA              2            2               2   \n",
      "4  Supermercado DIA              3            0               0   \n",
      "\n",
      "  click_to_purchase_ratio  purchase_freq  \n",
      "0                     0.5             58  \n",
      "1                     0.0             48  \n",
      "2                     0.0             31  \n",
      "3                     1.0            108  \n",
      "4                     0.0             36  \n",
      "\n",
      "[5 rows x 27 columns]\n",
      "Number of rows in combined dataset: 1767773\n"
     ]
    }
   ],
   "source": [
    "filtered_df['product_external_id'] = filtered_df['product_external_id'].astype(str).str.strip().str.lower()\n",
    "filtered_df['product_name'] = filtered_df['product_name'].str.strip().str.lower()\n",
    "\n",
    "df_dia['product_external_id'] = df_dia['product_external_id'].astype(str).str.strip().str.lower()\n",
    "df_dia['product_name'] = df_dia['product_name'].str.strip().str.lower()\n",
    "\n",
    "combined_df = pd.merge(filtered_df, df_dia, on=['product_external_id', 'product_name'], how='inner')\n",
    "\n",
    "print(combined_df.head())\n",
    "print(\"Number of rows in combined dataset:\", combined_df.shape[0])"
   ]
  },
  {
   "cell_type": "markdown",
   "id": "c01fd7d7",
   "metadata": {},
   "source": [
    "## 4.1 Review Results"
   ]
  },
  {
   "cell_type": "code",
   "execution_count": 197,
   "id": "b7386e8a",
   "metadata": {},
   "outputs": [
    {
     "name": "stdout",
     "output_type": "stream",
     "text": [
      "Number of duplicate rows: 8652\n",
      "       product_external_id                                       product_name  \\\n",
      "375463              100267  galletas estrellas con chocolate con leche lu ...   \n",
      "375486              100267  galletas estrellas con chocolate con leche lu ...   \n",
      "375387              100267  galletas estrellas con chocolate con leche lu ...   \n",
      "375591              100267  galletas estrellas con chocolate con leche lu ...   \n",
      "375315              100267  galletas estrellas con chocolate con leche lu ...   \n",
      "...                    ...                                                ...   \n",
      "514936               99265            agua mineral con gas dia botella 1.5 l.   \n",
      "514267               99265            agua mineral con gas dia botella 1.5 l.   \n",
      "514825               99265            agua mineral con gas dia botella 1.5 l.   \n",
      "513554               99265            agua mineral con gas dia botella 1.5 l.   \n",
      "514989               99265            agua mineral con gas dia botella 1.5 l.   \n",
      "\n",
      "       product_description  product_price  \\\n",
      "375463                               2.69   \n",
      "375486                               2.69   \n",
      "375387                               2.69   \n",
      "375591                               2.69   \n",
      "375315                               2.69   \n",
      "...                    ...            ...   \n",
      "514936                               0.46   \n",
      "514267                               0.46   \n",
      "514825                               0.46   \n",
      "513554                               0.46   \n",
      "514989                               0.46   \n",
      "\n",
      "                                        product_image_url  \\\n",
      "375463  https://images.deliveryhero.io/image/global-ca...   \n",
      "375486  https://images.deliveryhero.io/image/global-ca...   \n",
      "375387  https://images.deliveryhero.io/image/global-ca...   \n",
      "375591  https://images.deliveryhero.io/image/global-ca...   \n",
      "375315  https://images.deliveryhero.io/image/global-ca...   \n",
      "...                                                   ...   \n",
      "514936  https://images.deliveryhero.io/image/global-ca...   \n",
      "514267  https://images.deliveryhero.io/image/global-ca...   \n",
      "514825  https://images.deliveryhero.io/image/global-ca...   \n",
      "513554  https://images.deliveryhero.io/image/global-ca...   \n",
      "514989  https://images.deliveryhero.io/image/global-ca...   \n",
      "\n",
      "                              groups_collections_sections  \\\n",
      "375463  [[1, [['Desayunos', None, 15352, '2e2b2d16-e68...   \n",
      "375486  [[1, [['Desayunos', None, 15352, '2e2b2d16-e68...   \n",
      "375387  [[1, [['Desayunos', None, 15352, '2e2b2d16-e68...   \n",
      "375591  [[1, [['Desayunos', None, 15352, '2e2b2d16-e68...   \n",
      "375315  [[1, [['Desayunos', None, 15352, '2e2b2d16-e68...   \n",
      "...                                                   ...   \n",
      "514936  [[1, [['Agua y Refrescos', None, 14987, '3b0a7...   \n",
      "514267  [[1, [['Agua y Refrescos', None, 14987, '3b0a7...   \n",
      "514825  [[1, [['Agua y Refrescos', None, 14987, '3b0a7...   \n",
      "513554  [[1, [['Agua y Refrescos', None, 14987, '3b0a7...   \n",
      "514989  [[1, [['Agua y Refrescos', None, 14987, '3b0a7...   \n",
      "\n",
      "             product_master_code          master_category_names product_brand  \\\n",
      "375463  64a457e4cf7bd1acc1845908  snacks_confectionary_biscuits      principe   \n",
      "375486  64a457e4cf7bd1acc1845908  snacks_confectionary_biscuits      principe   \n",
      "375387  64a457e4cf7bd1acc1845908  snacks_confectionary_biscuits      principe   \n",
      "375591  64a457e4cf7bd1acc1845908  snacks_confectionary_biscuits      principe   \n",
      "375315  64a457e4cf7bd1acc1845908  snacks_confectionary_biscuits      principe   \n",
      "...                          ...                            ...           ...   \n",
      "514936  6566267178313924cbbb910b      beverages_water_sparkling           dia   \n",
      "514267  6566267178313924cbbb910b      beverages_water_sparkling           dia   \n",
      "514825  6566267178313924cbbb910b      beverages_water_sparkling           dia   \n",
      "513554  6566267178313924cbbb910b      beverages_water_sparkling           dia   \n",
      "514989  6566267178313924cbbb910b      beverages_water_sparkling           dia   \n",
      "\n",
      "        product_weight_in_grams  ...  \\\n",
      "375463                    230.0  ...   \n",
      "375486                    230.0  ...   \n",
      "375387                    230.0  ...   \n",
      "375591                    230.0  ...   \n",
      "375315                    230.0  ...   \n",
      "...                         ...  ...   \n",
      "514936                   1500.0  ...   \n",
      "514267                   1500.0  ...   \n",
      "514825                   1500.0  ...   \n",
      "513554                   1500.0  ...   \n",
      "514989                   1500.0  ...   \n",
      "\n",
      "                                      weighted_doc_vector  \\\n",
      "375463  [-0.02232047858720299, 0.12120104915755217, 0....   \n",
      "375486  [-0.02232047858720299, 0.12120104915755217, 0....   \n",
      "375387  [-0.02232047858720299, 0.12120104915755217, 0....   \n",
      "375591  [-0.02232047858720299, 0.12120104915755217, 0....   \n",
      "375315  [-0.02232047858720299, 0.12120104915755217, 0....   \n",
      "...                                                   ...   \n",
      "514936  [-0.05411821000190709, 0.24992256065705556, 0....   \n",
      "514267  [-0.05411821000190709, 0.24992256065705556, 0....   \n",
      "514825  [-0.05411821000190709, 0.24992256065705556, 0....   \n",
      "513554  [-0.05411821000190709, 0.24992256065705556, 0....   \n",
      "514989  [-0.05411821000190709, 0.24992256065705556, 0....   \n",
      "\n",
      "                                               embeddings customer_id  \\\n",
      "375463  [-0.05028531, 0.016196167, 0.014885116, 0.0927...     9704444   \n",
      "375486  [-0.05028531, 0.016196167, 0.014885116, 0.0927...     9704444   \n",
      "375387  [-0.05028531, 0.016196167, 0.014885116, 0.0927...    54042178   \n",
      "375591  [-0.05028531, 0.016196167, 0.014885116, 0.0927...    54042178   \n",
      "375315  [-0.05028531, 0.016196167, 0.014885116, 0.0927...   144568826   \n",
      "...                                                   ...         ...   \n",
      "514936  [-0.033893846, 0.025563283, -0.038415633, -0.0...   130409399   \n",
      "514267  [-0.033893846, 0.025563283, -0.038415633, -0.0...   136211932   \n",
      "514825  [-0.033893846, 0.025563283, -0.038415633, -0.0...   136211932   \n",
      "513554  [-0.033893846, 0.025563283, -0.038415633, -0.0...   167747005   \n",
      "514989  [-0.033893846, 0.025563283, -0.038415633, -0.0...   167747005   \n",
      "\n",
      "       store_id        store_name  times_clicked times_bought quantity_bought  \\\n",
      "375463     2864  Supermercado DIA              1            1               1   \n",
      "375486      726  Supermercado DIA              1            0               0   \n",
      "375387    94942  Supermercado DIA              1            1               1   \n",
      "375591    11233  Supermercado DIA              1            0               0   \n",
      "375315    38882  Supermercado DIA              1            1               1   \n",
      "...         ...               ...            ...          ...             ...   \n",
      "514936     2864  Supermercado DIA              1            0               0   \n",
      "514267    94942  Supermercado DIA              1            0               0   \n",
      "514825    12104  Supermercado DIA              4            1               4   \n",
      "513554   317830  Supermercado DIA              5            0               0   \n",
      "514989   185964  Supermercado DIA             11            4              19   \n",
      "\n",
      "       click_to_purchase_ratio  purchase_freq  \n",
      "375463                1.000000             14  \n",
      "375486                0.000000             14  \n",
      "375387                1.000000             74  \n",
      "375591                0.000000             74  \n",
      "375315                1.000000             42  \n",
      "...                        ...            ...  \n",
      "514936                0.000000              3  \n",
      "514267                0.000000             36  \n",
      "514825                0.250000             36  \n",
      "513554                0.000000             92  \n",
      "514989                0.363636             92  \n",
      "\n",
      "[8652 rows x 27 columns]\n",
      "Entries with zero interactions but have purchase data:\n",
      "Empty DataFrame\n",
      "Columns: [product_external_id, product_name, product_description, product_price, product_image_url, groups_collections_sections, product_master_code, master_category_names, product_brand, product_weight_in_grams, product_name_english, product_in_quantities, combined_text, filtered_tokens, normalized_weight, normalized_quantities, doc_vector, weighted_doc_vector, embeddings, customer_id, store_id, store_name, times_clicked, times_bought, quantity_bought, click_to_purchase_ratio, purchase_freq]\n",
      "Index: []\n",
      "\n",
      "[0 rows x 27 columns]\n",
      "Summary statistics for numerical fields:\n",
      "       times_clicked  times_bought  quantity_bought  product_price\n",
      "count   1.767773e+06  1.767773e+06     1.767773e+06   1.767773e+06\n",
      "mean    1.842442e+00  7.231833e-01     1.198614e+00   2.304933e+00\n",
      "std     3.412915e+00  9.032649e-01     3.772055e+00   1.946115e+00\n",
      "min     1.000000e+00  0.000000e+00     0.000000e+00   1.800000e-01\n",
      "25%     1.000000e+00  0.000000e+00     0.000000e+00   1.290000e+00\n",
      "50%     1.000000e+00  1.000000e+00     1.000000e+00   1.910000e+00\n",
      "75%     2.000000e+00  1.000000e+00     1.000000e+00   2.770000e+00\n",
      "max     6.770000e+02  3.500000e+01     6.000000e+02   3.499000e+01\n",
      "Non-null count in each column:\n",
      "product_external_id            1767773\n",
      "product_name                   1767773\n",
      "product_description            1767773\n",
      "product_price                  1767773\n",
      "product_image_url              1767773\n",
      "groups_collections_sections    1767773\n",
      "product_master_code            1767773\n",
      "master_category_names          1767773\n",
      "product_brand                  1767773\n",
      "product_weight_in_grams        1767773\n",
      "product_name_english           1767773\n",
      "product_in_quantities            80910\n",
      "combined_text                  1767773\n",
      "filtered_tokens                1767773\n",
      "normalized_weight              1767773\n",
      "normalized_quantities          1767773\n",
      "doc_vector                     1767773\n",
      "weighted_doc_vector            1767773\n",
      "embeddings                     1767773\n",
      "customer_id                    1767773\n",
      "store_id                       1767773\n",
      "store_name                     1767773\n",
      "times_clicked                  1767773\n",
      "times_bought                   1767773\n",
      "quantity_bought                1767773\n",
      "click_to_purchase_ratio        1767773\n",
      "purchase_freq                  1767773\n",
      "dtype: int64\n"
     ]
    }
   ],
   "source": [
    "# Check for duplicates\n",
    "duplicate_rows = combined_df.duplicated(subset=['product_external_id', 'customer_id'], keep=False)\n",
    "print(\"Number of duplicate rows:\", duplicate_rows.sum())\n",
    "print(combined_df[duplicate_rows].sort_values(by=['product_external_id', 'customer_id']))\n",
    "\n",
    "# Check for any unusual data entries\n",
    "print(\"Entries with zero interactions but have purchase data:\")\n",
    "print(combined_df[(combined_df['times_clicked'] == 0) & (combined_df['times_bought'] > 0)])\n",
    "\n",
    "print(\"Summary statistics for numerical fields:\")\n",
    "print(combined_df[['times_clicked', 'times_bought', 'quantity_bought', 'product_price']].describe())\n",
    "\n",
    "print(\"Non-null count in each column:\")\n",
    "print(combined_df.notnull().sum())"
   ]
  },
  {
   "cell_type": "markdown",
   "id": "50263dc4",
   "metadata": {},
   "source": [
    "The presence of duplicates represent valid multiple transactions."
   ]
  },
  {
   "cell_type": "markdown",
   "id": "39f6c716",
   "metadata": {},
   "source": [
    "The situation where entries show zero interactions (times_clicked is zero) but still record purchases (times_bought and quantity_bought are greater than zero) could indicate data issues."
   ]
  },
  {
   "cell_type": "code",
   "execution_count": 198,
   "id": "eb0af5bd",
   "metadata": {},
   "outputs": [
    {
     "name": "stdout",
     "output_type": "stream",
     "text": [
      "Total duplicates in df_dia: 8\n",
      "         customer_id  store_id        store_name product_external_id  \\\n",
      "10430        5830994      9542  Supermercado DIA              156729   \n",
      "10431        5830994      9542  Supermercado DIA              156729   \n",
      "415395       5830994      9542  Supermercado DIA              156729   \n",
      "415396       5830994      9542  Supermercado DIA              156729   \n",
      "2602425    136918858      2741  Supermercado DIA              156729   \n",
      "\n",
      "                                            product_name  times_clicked  \\\n",
      "10430           mars barrita de chocolate y caramelo 51g              2   \n",
      "10431           mars barrita de chocolate y caramelo 51g              2   \n",
      "415395   barrita de chocolate y caramelo mars bolsa 51 g              2   \n",
      "415396   barrita de chocolate y caramelo mars bolsa 51 g              2   \n",
      "2602425  barrita de chocolate y caramelo mars bolsa 51 g              4   \n",
      "\n",
      "         times_bought  quantity_bought  click_to_purchase_ratio  purchase_freq  \n",
      "10430               1                1                     0.50             58  \n",
      "10431               1                1                     0.50             58  \n",
      "415395              1                1                     0.50             58  \n",
      "415396              1                1                     0.50             58  \n",
      "2602425             1                2                     0.25             16  \n"
     ]
    }
   ],
   "source": [
    "# Check for duplicates across all columns\n",
    "dia_duplicates = df_dia.duplicated(keep=False)\n",
    "print(f\"Total duplicates in df_dia: {dia_duplicates.sum()}\")\n",
    "\n",
    "if dia_duplicates.sum() > 0:\n",
    "    print(df_dia[dia_duplicates].sort_values(by='product_external_id').head())"
   ]
  },
  {
   "cell_type": "code",
   "execution_count": 199,
   "id": "3c6ac9d5",
   "metadata": {},
   "outputs": [],
   "source": [
    "filtered_df['doc_vector'] = filtered_df['doc_vector'].apply(lambda x: np.array2string(x) if isinstance(x, np.ndarray) else x)"
   ]
  },
  {
   "cell_type": "code",
   "execution_count": 200,
   "id": "d3aed246",
   "metadata": {},
   "outputs": [
    {
     "name": "stdout",
     "output_type": "stream",
     "text": [
      "Total duplicates in filtered_df: 0\n"
     ]
    }
   ],
   "source": [
    "# Convert all elements to string \n",
    "for col in filtered_df.columns:\n",
    "    filtered_df[col] = filtered_df[col].apply(lambda x: str(x) if isinstance(x, (list, dict, np.ndarray)) else x)\n",
    "\n",
    "try:\n",
    "    filtered_duplicates = filtered_df.duplicated(keep=False)\n",
    "    print(f\"Total duplicates in filtered_df: {filtered_duplicates.sum()}\")\n",
    "    if filtered_duplicates.sum() > 0:\n",
    "        print(filtered_df[filtered_duplicates].head())\n",
    "except Exception as e:\n",
    "    print(\"Error when checking duplicates:\", e)"
   ]
  },
  {
   "cell_type": "code",
   "execution_count": 201,
   "id": "236c9abc",
   "metadata": {},
   "outputs": [
    {
     "name": "stdout",
     "output_type": "stream",
     "text": [
      "       times_bought  quantity_bought\n",
      "count           0.0              0.0\n",
      "mean            NaN              NaN\n",
      "std             NaN              NaN\n",
      "min             NaN              NaN\n",
      "25%             NaN              NaN\n",
      "50%             NaN              NaN\n",
      "75%             NaN              NaN\n",
      "max             NaN              NaN\n",
      "Series([], Name: master_category_names, dtype: int64)\n"
     ]
    }
   ],
   "source": [
    "# Filter entries with zero clicks but non-zero purchases\n",
    "zero_click_purchases = combined_df[(combined_df['times_clicked'] == 0) & (combined_df['times_bought'] > 0)]\n",
    "\n",
    "# Examine distribution \n",
    "print(zero_click_purchases[['times_bought', 'quantity_bought']].describe())\n",
    "\n",
    "category_analysis = zero_click_purchases['master_category_names'].value_counts()\n",
    "print(category_analysis.head())"
   ]
  },
  {
   "cell_type": "code",
   "execution_count": 202,
   "id": "8bc91b21",
   "metadata": {},
   "outputs": [
    {
     "name": "stdout",
     "output_type": "stream",
     "text": [
      "Number of zero interaction but purchases: 0\n",
      "Empty DataFrame\n",
      "Columns: [customer_id, store_id, store_name, product_external_id, product_name, times_clicked, times_bought, quantity_bought, click_to_purchase_ratio, purchase_freq]\n",
      "Index: []\n"
     ]
    }
   ],
   "source": [
    "# Filter entries where times_clicked is zero but times_bought is greater than zero\n",
    "zero_interaction_purchases = df_dia[(df_dia['times_clicked'] == 0) & (df_dia['times_bought'] > 0)]\n",
    "\n",
    "zero_interaction_count = zero_interaction_purchases.shape[0]\n",
    "\n",
    "zero_interaction_purchases_sample = zero_interaction_purchases.sample(n=min(5, zero_interaction_count))\n",
    "\n",
    "print(f\"Number of zero interaction but purchases: {zero_interaction_count}\")\n",
    "print(zero_interaction_purchases_sample)"
   ]
  },
  {
   "cell_type": "markdown",
   "id": "fb30e80e",
   "metadata": {},
   "source": [
    "## 4.2 Exploratory Data Analysis (EDA)"
   ]
  },
  {
   "cell_type": "code",
   "execution_count": 203,
   "id": "54aa6bc4",
   "metadata": {},
   "outputs": [],
   "source": [
    "# Calculate the click-to-purchase ratio\n",
    "combined_df['click_to_purchase_ratio'] = combined_df['times_bought'] / combined_df['times_clicked'].replace(0, np.nan)\n",
    "\n",
    "# Identify products with high clicks but low purchases\n",
    "low_conversion_products = combined_df.query('times_clicked > 10 and click_to_purchase_ratio < 0.1')\n",
    "\n",
    "customer_behavior = combined_df.groupby('customer_id').agg(\n",
    "    total_clicks=('times_clicked', 'sum'),\n",
    "    total_purchases=('times_bought', 'sum')\n",
    ").assign(behavior_type=lambda x: pd.cut(x['total_purchases'], bins=[-1, 1, 10, float('inf')], labels=['Low', 'Medium', 'High']))\n",
    "\n",
    "# Price sensitivity analysis\n",
    "price_sensitivity = combined_df[['product_price', 'click_to_purchase_ratio']].dropna()\n",
    "correlation_matrix = price_sensitivity.corr()\n",
    "\n",
    "category_trends = combined_df.groupby('master_category_names')['click_to_purchase_ratio'].mean()"
   ]
  },
  {
   "cell_type": "code",
   "execution_count": 204,
   "id": "ccd42979",
   "metadata": {
    "scrolled": false
   },
   "outputs": [
    {
     "data": {
      "image/png": "[encoded data removed]",
      "text/plain": [
       "<Figure size 1000x600 with 1 Axes>"
      ]
     },
     "metadata": {},
     "output_type": "display_data"
    },
    {
     "data": {
      "image/png": "[encoded data removed]",
      "text/plain": [
       "<Figure size 1000x600 with 1 Axes>"
      ]
     },
     "metadata": {},
     "output_type": "display_data"
    }
   ],
   "source": [
    "# Distribution of clicks\n",
    "plt.figure(figsize=(10, 6))\n",
    "sns.histplot(combined_df['times_clicked'], bins=30, kde=True)\n",
    "plt.title('Distribution of Product Clicks')\n",
    "plt.xlabel('Times Clicked')\n",
    "plt.ylabel('Frequency')\n",
    "plt.show()\n",
    "\n",
    "# Distribution of purchases\n",
    "plt.figure(figsize=(10, 6))\n",
    "sns.histplot(combined_df['times_bought'], bins=30, kde=True, color='green')\n",
    "plt.title('Distribution of Product Purchases')\n",
    "plt.xlabel('Times Bought')\n",
    "plt.ylabel('Frequency')\n",
    "plt.show()"
   ]
  },
  {
   "cell_type": "markdown",
   "id": "ff880ccc",
   "metadata": {},
   "source": [
    "This highly skewed distribution indicates that most products are clicked very infrequently, with a few products receiving a majority of the clicks.\n",
    "\n",
    "This kind of distribution is common in real-world scenarios, especially in e-commerce, where a small number of items often dominate the traffic."
   ]
  },
  {
   "cell_type": "code",
   "execution_count": 205,
   "id": "f73a6494",
   "metadata": {},
   "outputs": [
    {
     "data": {
      "image/png": "[encoded data removed]",
      "text/plain": [
       "<Figure size 1000x600 with 1 Axes>"
      ]
     },
     "metadata": {},
     "output_type": "display_data"
    }
   ],
   "source": [
    "# Calculate the conversion rate as times_bought divided by times_clicked\n",
    "combined_df['conversion_rate'] = combined_df['times_bought'] / combined_df['times_clicked'].replace(0, np.nan)\n",
    "\n",
    "# Plotting conversion rate\n",
    "plt.figure(figsize=(10, 6))\n",
    "sns.histplot(combined_df['conversion_rate'].dropna(), bins=30, color='red', kde=True)\n",
    "plt.title('Distribution of Conversion Rates')\n",
    "plt.xlabel('Conversion Rate')\n",
    "plt.ylabel('Frequency')\n",
    "plt.show()"
   ]
  },
  {
   "cell_type": "code",
   "execution_count": 206,
   "id": "caab3856",
   "metadata": {
    "scrolled": false
   },
   "outputs": [
    {
     "data": {
      "image/png": "[encoded data removed]",
      "text/plain": [
       "<Figure size 800x600 with 2 Axes>"
      ]
     },
     "metadata": {},
     "output_type": "display_data"
    }
   ],
   "source": [
    "# Correlation matrix\n",
    "correlation_matrix = combined_df[['times_clicked', 'times_bought', 'product_price', 'conversion_rate']].corr()\n",
    "\n",
    "# Heatmap \n",
    "plt.figure(figsize=(8, 6))\n",
    "sns.heatmap(correlation_matrix, annot=True, cmap='coolwarm', fmt=\".2f\")\n",
    "plt.title('Correlation Matrix')\n",
    "plt.show()"
   ]
  },
  {
   "cell_type": "markdown",
   "id": "98fd6b92",
   "metadata": {},
   "source": [
    "Times Clicked and Product Price: The correlation is -0.09, indicating a very weak negative relationship. This suggests that as the product price increases, there might be a slight decrease in the number of times a product is clicked, but the effect is minimal.\n",
    "\n",
    "Times Bought and Product Price: Similarly, there's a weak negative correlation of -0.08, indicating that more expensive products are slightly less likely to be bought, though again, the effect is not strong.\n",
    "\n",
    "The correlation between Product Price and Conversion Rate shows a very weak positive correlation of 0.05. This implies that there is essentially no meaningful linear relationship between the price of a product and the likelihood that it is bought after being clicked. Price doesn't appear to strongly influence whether a click converts into a purchase in this dataset.\n",
    "\n",
    "However, a low correlation in this context does not imply that price has no effect on purchase behavior; it simply means there is no strong linear relationship. The effect of price on purchasing decisions could be non-linear or influenced by other factors like product category, brand loyalty, or the perceived value of the product."
   ]
  },
  {
   "cell_type": "code",
   "execution_count": 207,
   "id": "11771b50",
   "metadata": {},
   "outputs": [
    {
     "data": {
      "image/png": "[encoded data removed]",
      "text/plain": [
       "<Figure size 1000x600 with 1 Axes>"
      ]
     },
     "metadata": {},
     "output_type": "display_data"
    }
   ],
   "source": [
    "plt.figure(figsize=(10, 6))\n",
    "sns.scatterplot(data=combined_df, x='times_clicked', y='times_bought')\n",
    "plt.title('Clicks vs. Purchases Scatter Plot')\n",
    "plt.xlabel('Times Clicked')\n",
    "plt.ylabel('Times Bought')\n",
    "plt.grid(True)\n",
    "plt.show()"
   ]
  },
  {
   "cell_type": "code",
   "execution_count": 208,
   "id": "2b978e02",
   "metadata": {},
   "outputs": [],
   "source": [
    "# Identify products with high clicks but low purchases\n",
    "low_conversion_products = combined_df.query('times_clicked > 10 and click_to_purchase_ratio < 0.1')\n",
    "\n",
    "# Analyse customer behavior segmentation\n",
    "customer_behavior = combined_df.groupby('customer_id').agg(\n",
    "    total_clicks=('times_clicked', 'sum'),\n",
    "    total_purchases=('times_bought', 'sum')\n",
    ").assign(behavior_type=lambda x: pd.cut(x['total_purchases'], bins=[-1, 1, 10, float('inf')], labels=['Low', 'Medium', 'High']))\n",
    "\n",
    "# Price sensitivity analysis\n",
    "price_sensitivity = combined_df[['product_price', 'click_to_purchase_ratio']].dropna()\n",
    "correlation_matrix = price_sensitivity.corr()\n",
    "\n",
    "# Common trends in low conversion products\n",
    "category_trends = combined_df.groupby('master_category_names')['click_to_purchase_ratio'].mean()"
   ]
  },
  {
   "cell_type": "code",
   "execution_count": 209,
   "id": "2563e338",
   "metadata": {},
   "outputs": [
    {
     "data": {
      "image/png": "[encoded data removed]",
      "text/plain": [
       "<Figure size 1000x600 with 1 Axes>"
      ]
     },
     "metadata": {},
     "output_type": "display_data"
    }
   ],
   "source": [
    "# Plotting clicks vs. purchases for low conversion products\n",
    "plt.figure(figsize=(10, 6))\n",
    "plt.scatter(low_conversion_products['times_clicked'], low_conversion_products['times_bought'], alpha=0.5)\n",
    "plt.title('Clicks vs. Purchases for Low Conversion Products')\n",
    "plt.xlabel('Times Clicked')\n",
    "plt.ylabel('Times Bought')\n",
    "plt.grid(True)\n",
    "plt.show()"
   ]
  },
  {
   "cell_type": "code",
   "execution_count": 210,
   "id": "0fa6142d",
   "metadata": {},
   "outputs": [
    {
     "data": {
      "image/png": "[encoded data removed]",
      "text/plain": [
       "<Figure size 640x480 with 1 Axes>"
      ]
     },
     "metadata": {},
     "output_type": "display_data"
    }
   ],
   "source": [
    "# Plot distribution of customer behavior types\n",
    "customer_behavior['behavior_type'].value_counts().plot(kind='bar')\n",
    "plt.title('Customer Behavior Segmentation')\n",
    "plt.xlabel('Behavior Type')\n",
    "plt.ylabel('Number of Customers')\n",
    "plt.xticks(rotation=0)\n",
    "plt.show()"
   ]
  },
  {
   "cell_type": "code",
   "execution_count": 211,
   "id": "0f7b2476",
   "metadata": {
    "scrolled": false
   },
   "outputs": [
    {
     "data": {
      "image/png": "[encoded data removed]",
      "text/plain": [
       "<Figure size 640x480 with 2 Axes>"
      ]
     },
     "metadata": {},
     "output_type": "display_data"
    }
   ],
   "source": [
    "# Heatmap of correlations\n",
    "sns.heatmap(correlation_matrix, annot=True, cmap='coolwarm', fmt=\".2f\")\n",
    "plt.title('Correlation between Product Price and Click-to-Purchase Ratio')\n",
    "plt.show()"
   ]
  },
  {
   "cell_type": "markdown",
   "id": "0fd65bfa",
   "metadata": {},
   "source": [
    "Very low correlation (-0.04) between product price and the click-to-purchase ratio. This suggests that, at least across the dataset as a whole, there isn't a strong linear relationship between the price of a product and how often it is clicked compared to how often it is bought."
   ]
  },
  {
   "cell_type": "code",
   "execution_count": 212,
   "id": "79ba1cbc",
   "metadata": {},
   "outputs": [
    {
     "data": {
      "image/png": "[encoded data removed]",
      "text/plain": [
       "<Figure size 640x480 with 1 Axes>"
      ]
     },
     "metadata": {},
     "output_type": "display_data"
    }
   ],
   "source": [
    "# Detailed analysis for a specific customer\n",
    "customer_id_example = 88483423 \n",
    "customer_data = combined_df[combined_df['customer_id'] == customer_id_example]\n",
    "plt.scatter(customer_data['times_clicked'], customer_data['times_bought'])\n",
    "plt.title(f'Detailed Click and Purchase Pattern for Customer {customer_id_example}')\n",
    "plt.xlabel('Times Clicked')\n",
    "plt.ylabel('Times Bought')\n",
    "plt.grid(True)\n",
    "plt.show()"
   ]
  },
  {
   "cell_type": "code",
   "execution_count": 213,
   "id": "8d3b4434",
   "metadata": {},
   "outputs": [
    {
     "name": "stdout",
     "output_type": "stream",
     "text": [
      "Data Types in filtered_df:\n",
      "product_external_id    object\n",
      "product_name           object\n",
      "dtype: object\n",
      "\n",
      "Data Types in df_dia:\n",
      "product_external_id    object\n",
      "product_name           object\n",
      "dtype: object\n",
      "\n",
      "Sample data in filtered_df:\n",
      "  product_external_id                                       product_name\n",
      "0              292092  queso de oveja curado insolito el cencerro 200...\n",
      "1                 101        aceite refinado de girasol dia botella 1 l.\n",
      "2              197503           levadura en polvo delimagic sobre 90 gr.\n",
      "3              279225   licor de mora sin alcohol sonador botella 70 cl.\n",
      "4              189160       caldo casero de verduras gallina blanca 1 l.\n",
      "\n",
      "Sample data in df_dia:\n",
      "  product_external_id                                       product_name\n",
      "0               88697  rosquillas de chocolate el molino de dia 4 uds...\n",
      "1              264423          ensaladilla rusa al punto bandeja 250 gr.\n",
      "3               50569  refresco de té al melocotón dia freshquitos bo...\n",
      "5              129845  pepinillos agridulces dia vegecampo frasco 360...\n",
      "7              126847    coca cola zero azúcar zero cafeína lata 330 ml.\n",
      "\n",
      "Columns in combined_df:\n",
      "Index(['product_external_id', 'product_name', 'product_description',\n",
      "       'product_price', 'product_image_url', 'groups_collections_sections',\n",
      "       'product_master_code', 'master_category_names', 'product_brand',\n",
      "       'product_weight_in_grams', 'product_name_english',\n",
      "       'product_in_quantities', 'combined_text', 'filtered_tokens',\n",
      "       'normalized_weight', 'normalized_quantities', 'doc_vector',\n",
      "       'weighted_doc_vector', 'embeddings', 'customer_id', 'store_id',\n",
      "       'store_name', 'times_clicked', 'times_bought', 'quantity_bought',\n",
      "       'click_to_purchase_ratio', 'purchase_freq'],\n",
      "      dtype='object')\n",
      "\n",
      "Number of columns in filtered_df: 19\n",
      "Number of columns in combined_df after merge: 27\n"
     ]
    }
   ],
   "source": [
    "print(\"Data Types in filtered_df:\")\n",
    "print(filtered_df[['product_external_id', 'product_name']].dtypes)\n",
    "\n",
    "print(\"\\nData Types in df_dia:\")\n",
    "print(df_dia[['product_external_id', 'product_name']].dtypes)\n",
    "\n",
    "print(\"\\nSample data in filtered_df:\")\n",
    "print(filtered_df[['product_external_id', 'product_name']].head())\n",
    "\n",
    "print(\"\\nSample data in df_dia:\")\n",
    "print(df_dia[['product_external_id', 'product_name']].head())\n",
    "\n",
    "# Apply necessary transformations\n",
    "filtered_df['product_external_id'] = filtered_df['product_external_id'].str.strip().str.lower()\n",
    "filtered_df['product_name'] = filtered_df['product_name'].str.strip().str.lower()\n",
    "\n",
    "df_dia['product_external_id'] = df_dia['product_external_id'].str.strip().str.lower()\n",
    "df_dia['product_name'] = df_dia['product_name'].str.strip().str.lower()\n",
    "\n",
    "combined_df = pd.merge(filtered_df, df_dia, on=['product_external_id', 'product_name'], how='inner')\n",
    "\n",
    "print(\"\\nColumns in combined_df:\")\n",
    "print(combined_df.columns)\n",
    "print(\"\\nNumber of columns in filtered_df:\", len(filtered_df.columns))\n",
    "print(\"Number of columns in combined_df after merge:\", len(combined_df.columns))"
   ]
  },
  {
   "cell_type": "code",
   "execution_count": 214,
   "id": "2ec4ad5d",
   "metadata": {},
   "outputs": [
    {
     "name": "stdout",
     "output_type": "stream",
     "text": [
      "                               master_category_names  product_price  \\\n",
      "0  packaged foods_cooking / condiments / baking /...           1.53   \n",
      "1  packaged foods_cooking / condiments / baking /...           1.53   \n",
      "2  packaged foods_cooking / condiments / baking /...           1.53   \n",
      "3  packaged foods_cooking / condiments / baking /...           1.53   \n",
      "4  packaged foods_cooking / condiments / baking /...           1.53   \n",
      "\n",
      "   product_weight_in_grams  product_in_quantities  price_per_unit  \\\n",
      "0                   1021.0                    NaN        0.001499   \n",
      "1                   1021.0                    NaN        0.001499   \n",
      "2                   1021.0                    NaN        0.001499   \n",
      "3                   1021.0                    NaN        0.001499   \n",
      "4                   1021.0                    NaN        0.001499   \n",
      "\n",
      "  price_segment  \n",
      "0    Lowest 25%  \n",
      "1    Lowest 25%  \n",
      "2    Lowest 25%  \n",
      "3    Lowest 25%  \n",
      "4    Lowest 25%  \n"
     ]
    }
   ],
   "source": [
    "# Calculate price per unit\n",
    "combined_df['price_per_unit'] = np.where(\n",
    "    combined_df['product_weight_in_grams'] > 0,\n",
    "    combined_df['product_price'] / combined_df['product_weight_in_grams'],\n",
    "    np.where(\n",
    "        combined_df['product_in_quantities'] > 0,\n",
    "        combined_df['product_price'] / combined_df['product_in_quantities'],\n",
    "        np.nan  # Handle cases where both weights and quantities might be missing\n",
    "    )\n",
    ")\n",
    "\n",
    "# Drop rows where price_per_unit could not be calculated\n",
    "combined_df = combined_df.dropna(subset=['price_per_unit'])\n",
    "\n",
    "# Function to calculate quartiles for price segmentation\n",
    "def assign_price_segment(x):\n",
    "    try:\n",
    "        return pd.qcut(x, 4, labels=['Lowest 25%', '25% to 50%', '50% to 75%', 'Top 25%'], duplicates='drop')\n",
    "    except ValueError:\n",
    "        return pd.Series(['Not enough data'] * len(x), index=x.index)\n",
    "\n",
    "# Apply the function to segment price within each category\n",
    "combined_df['price_segment'] = combined_df.groupby('master_category_names')['price_per_unit'].transform(assign_price_segment)\n",
    "\n",
    "print(combined_df[['master_category_names', 'product_price', 'product_weight_in_grams', 'product_in_quantities', 'price_per_unit', 'price_segment']].head())"
   ]
  },
  {
   "cell_type": "code",
   "execution_count": 215,
   "id": "e0f57078",
   "metadata": {},
   "outputs": [
    {
     "name": "stdout",
     "output_type": "stream",
     "text": [
      "                                 master_category_names    price_segment  \\\n",
      "0    beverages_juice / ice tea / sports / energy_en...  Not enough data   \n",
      "1    beverages_juice / ice tea / sports / energy_juice       25% to 50%   \n",
      "2    beverages_juice / ice tea / sports / energy_juice       50% to 75%   \n",
      "3    beverages_juice / ice tea / sports / energy_juice       Lowest 25%   \n",
      "4    beverages_juice / ice tea / sports / energy_juice          Top 25%   \n",
      "..                                                 ...              ...   \n",
      "395      snacks_salty snacks_salty crackers / pretzels       25% to 50%   \n",
      "396      snacks_salty snacks_salty crackers / pretzels       50% to 75%   \n",
      "397      snacks_salty snacks_salty crackers / pretzels       Lowest 25%   \n",
      "398      snacks_salty snacks_salty crackers / pretzels          Top 25%   \n",
      "399               snacks_salty snacks_specialty snacks  Not enough data   \n",
      "\n",
      "     click_to_purchase_ratio  \n",
      "0                   0.481084  \n",
      "1                   0.470708  \n",
      "2                   0.480355  \n",
      "3                   0.554775  \n",
      "4                   0.421861  \n",
      "..                       ...  \n",
      "395                 0.237700  \n",
      "396                 0.367191  \n",
      "397                 0.473451  \n",
      "398                 0.472893  \n",
      "399                 0.169845  \n",
      "\n",
      "[400 rows x 3 columns]\n"
     ]
    }
   ],
   "source": [
    "# Calculate the average click-to-purchase ratio for each price segment within each category\n",
    "average_click_to_purchase_by_category_and_segment = combined_df.groupby(['master_category_names', 'price_segment'])['click_to_purchase_ratio'].mean()\n",
    "\n",
    "average_click_to_purchase_by_category_and_segment = average_click_to_purchase_by_category_and_segment.reset_index()\n",
    "\n",
    "print(average_click_to_purchase_by_category_and_segment)"
   ]
  },
  {
   "cell_type": "markdown",
   "id": "cbb6b40f",
   "metadata": {},
   "source": [
    "There appears to be variability in the click-to-purchase ratio within each category depending on the price segment. For example, for 'beverages_juice / ice tea / sports / energy', the lowest 25% price segment has a higher click-to-purchase ratio than the top 25%."
   ]
  },
  {
   "cell_type": "code",
   "execution_count": 216,
   "id": "02b97d8c",
   "metadata": {},
   "outputs": [
    {
     "name": "stdout",
     "output_type": "stream",
     "text": [
      "     price_segment  click_to_purchase_ratio\n",
      "0       25% to 50%                 0.425786\n",
      "1       50% to 75%                 0.417684\n",
      "2       Lowest 25%                 0.437489\n",
      "3  Not enough data                 0.391322\n",
      "4          Top 25%                 0.391627\n"
     ]
    }
   ],
   "source": [
    "# Calculate the average click-to-purchase ratio for each category and price segment\n",
    "average_click_to_purchase_by_category_and_segment = combined_df.groupby(['master_category_names', 'price_segment'])['click_to_purchase_ratio'].mean()\n",
    "\n",
    "average_click_to_purchase_by_category_and_segment = average_click_to_purchase_by_category_and_segment.reset_index()\n",
    "\n",
    "overall_average_by_price_segment = average_click_to_purchase_by_category_and_segment.groupby('price_segment')['click_to_purchase_ratio'].mean()\n",
    "\n",
    "overall_average_by_price_segment = overall_average_by_price_segment.reset_index()\n",
    "\n",
    "print(overall_average_by_price_segment)"
   ]
  },
  {
   "cell_type": "markdown",
   "id": "f2d7edc0",
   "metadata": {},
   "source": [
    "When aggregated, the lowest 25% price segment tends to have a slightly higher click-to-purchase ratio than other segments. This could suggest that cheaper products generally have a better conversion rate, though the differences are not substantial."
   ]
  },
  {
   "cell_type": "code",
   "execution_count": 217,
   "id": "42f0c7fe",
   "metadata": {
    "scrolled": false
   },
   "outputs": [
    {
     "data": {
      "image/png": "[encoded data removed]",
      "text/plain": [
       "<Figure size 1000x600 with 1 Axes>"
      ]
     },
     "metadata": {},
     "output_type": "display_data"
    }
   ],
   "source": [
    "results = pd.DataFrame({\n",
    "    'price_segment': ['Lowest 25%', '25% to 50%', '50% to 75%', 'Top 25%', 'Not enough data'],\n",
    "    'click_to_purchase_ratio': [0.029166, 0.028386, 0.027846, 0.026108, 0.026088]\n",
    "})\n",
    "\n",
    "# Bar Chart for overall price segments\n",
    "plt.figure(figsize=(10, 6))\n",
    "sns.barplot(x='price_segment', y='click_to_purchase_ratio', data=results, palette='coolwarm')\n",
    "plt.title('Click-to-Purchase Ratio Across Price Segments')\n",
    "plt.xlabel('Price Segment')\n",
    "plt.ylabel('Average Click-to-Purchase Ratio')\n",
    "plt.show()"
   ]
  },
  {
   "cell_type": "markdown",
   "id": "b216d3ff",
   "metadata": {},
   "source": [
    "## 4.3 Implementation"
   ]
  },
  {
   "cell_type": "markdown",
   "id": "65a22ed5",
   "metadata": {},
   "source": [
    "### 4.3.1 Subset Implementation"
   ]
  },
  {
   "cell_type": "code",
   "execution_count": 218,
   "id": "c7eeb83b",
   "metadata": {},
   "outputs": [],
   "source": [
    "# Calculate total purchases for each customer\n",
    "customer_purchases = df_dia.groupby('customer_id')['times_bought'].sum()\n",
    "\n",
    "# Sort customers and get the top 50\n",
    "top_customers = customer_purchases.sort_values(ascending=False).head(50)\n",
    "top_customers_df = df_dia[df_dia['customer_id'].isin(top_customers.index)]\n",
    "top_customers_df.to_csv('top_customers.csv', index=False)"
   ]
  },
  {
   "cell_type": "code",
   "execution_count": 219,
   "id": "d8538287",
   "metadata": {},
   "outputs": [],
   "source": [
    "top_customers_df = top_customers_df.copy()\n",
    "\n",
    "# Strip whitespace and convert to lower case\n",
    "filtered_df['product_external_id'] = filtered_df['product_external_id'].str.strip().str.lower()\n",
    "filtered_df['product_name'] = filtered_df['product_name'].str.strip().str.lower()\n",
    "\n",
    "top_customers_df['product_external_id'] = top_customers_df['product_external_id'].str.strip().str.lower()\n",
    "top_customers_df['product_name'] = top_customers_df['product_name'].str.strip().str.lower()"
   ]
  },
  {
   "cell_type": "code",
   "execution_count": 220,
   "id": "38a4c286",
   "metadata": {},
   "outputs": [
    {
     "name": "stdout",
     "output_type": "stream",
     "text": [
      "Merged dataframe has 12363 rows.\n"
     ]
    }
   ],
   "source": [
    "combined_small_df = pd.merge(filtered_df, top_customers_df, on=['product_external_id', 'product_name'], how='left')\n",
    "\n",
    "print(f\"Merged dataframe has {combined_small_df.shape[0]} rows.\")"
   ]
  },
  {
   "cell_type": "code",
   "execution_count": 221,
   "id": "7b1534e3",
   "metadata": {},
   "outputs": [],
   "source": [
    "model = SentenceTransformer('all-MiniLM-L6-v2')\n",
    "texts = filtered_df['combined_text'].tolist()\n",
    "embeddings = model.encode(texts)\n",
    "\n",
    "filtered_df['embeddings'] = list(embeddings)"
   ]
  },
  {
   "cell_type": "code",
   "execution_count": 222,
   "id": "0c1d97b0",
   "metadata": {},
   "outputs": [],
   "source": [
    "top_customers_df = pd.read_csv('top_customers.csv')\n",
    "\n",
    "filtered_df['product_external_id'] = filtered_df['product_external_id'].str.strip().str.lower()\n",
    "filtered_df['product_name'] = filtered_df['product_name'].str.strip().str.lower()\n",
    "\n",
    "top_customers_df['product_external_id'] = top_customers_df['product_external_id'].str.strip().str.lower()\n",
    "top_customers_df['product_name'] = top_customers_df['product_name'].str.strip().str.lower()"
   ]
  },
  {
   "cell_type": "code",
   "execution_count": 223,
   "id": "91233615",
   "metadata": {},
   "outputs": [],
   "source": [
    "def find_similar_products(df, product_index, top_n=50):\n",
    "    target_embedding = [df.iloc[product_index]['embeddings']] \n",
    "    target_category = df.iloc[product_index]['master_category_names']\n",
    "    \n",
    "    same_category_df = df[df['master_category_names'] == target_category]\n",
    "    \n",
    "    # Compute the cosine similarity with all products in the same category\n",
    "    similarity_scores = cosine_similarity(target_embedding, same_category_df['embeddings'].tolist())[0]\n",
    "    \n",
    "    top_indices = np.argsort(similarity_scores)[::-1][:top_n + 1] \n",
    "    top_indices = [idx for idx in top_indices if same_category_df.index[idx] != product_index] \n",
    "    return same_category_df.iloc[top_indices][['product_name_english', 'master_category_names', 'product_external_id']]\n",
    "\n",
    "def recommend_products(customer_id, out_of_stock_product_id, top_n=50):\n",
    "\n",
    "    product_index = filtered_df[filtered_df['product_external_id'] == out_of_stock_product_id].index[0]\n",
    "    \n",
    "    similar_products_df = find_similar_products(filtered_df, product_index, top_n)\n",
    "    \n",
    "    # Get products the customer has bought or clicked more than once\n",
    "    customer_product_interactions = top_customers_df[top_customers_df['customer_id'] == customer_id]\n",
    "    frequent_interactions = customer_product_interactions[\n",
    "        (customer_product_interactions['times_bought'] > 0) | \n",
    "        (customer_product_interactions['times_clicked'] > 1)\n",
    "    ]['product_external_id'].tolist()\n",
    "    \n",
    "    similar_products_df['interacted_before'] = similar_products_df['product_external_id'].apply(lambda x: 'Yes' if x in frequent_interactions else 'No')\n",
    "    \n",
    "    # Filter similar products based on customer frequent interactions\n",
    "    recommended_products = similar_products_df[similar_products_df['interacted_before'] == 'Yes']\n",
    "    \n",
    "    # If there are fewer than 5 frequent interactions, add more recommendations to fill up to 5\n",
    "    if len(recommended_products) < 5:\n",
    "        additional_products = similar_products_df[similar_products_df['interacted_before'] == 'No'].head(5 - len(recommended_products))\n",
    "        recommended_products = pd.concat([recommended_products, additional_products])\n",
    "    \n",
    "    return recommended_products.head(5)"
   ]
  },
  {
   "cell_type": "code",
   "execution_count": 224,
   "id": "dca4905e",
   "metadata": {},
   "outputs": [
    {
     "name": "stdout",
     "output_type": "stream",
     "text": [
      "                                product_name_english  \\\n",
      "2356  marinated pork loin dia selection tray 700 gr.   \n",
      "3322  classic imperial longaniza elpozo tray 250 gr.   \n",
      "1101    chicken longaniza dia selection tray 400 gr.   \n",
      "2615          pages sola longaniza packaging 250 gr.   \n",
      "7934  imperial longaniza with turkey el pozo 230 gr.   \n",
      "\n",
      "                                 master_category_names product_external_id  \\\n",
      "2356  dairy / chilled / eggs_deli / snacking_deli meat              111575   \n",
      "3322  dairy / chilled / eggs_deli / snacking_deli meat              290666   \n",
      "1101  dairy / chilled / eggs_deli / snacking_deli meat              275700   \n",
      "2615  dairy / chilled / eggs_deli / snacking_deli meat              140398   \n",
      "7934  dairy / chilled / eggs_deli / snacking_deli meat              262367   \n",
      "\n",
      "     interacted_before  \n",
      "2356               Yes  \n",
      "3322                No  \n",
      "1101                No  \n",
      "2615                No  \n",
      "7934                No  \n"
     ]
    }
   ],
   "source": [
    "# Specify the customer ID and out of stock product ID\n",
    "specific_customer_id = 53079619\n",
    "out_of_stock_product_id = '282904'\n",
    "\n",
    "# Get recommendations\n",
    "recommendations = recommend_products(specific_customer_id, out_of_stock_product_id, top_n=50)\n",
    "print(recommendations)"
   ]
  },
  {
   "cell_type": "code",
   "execution_count": 225,
   "id": "fd105e7a",
   "metadata": {
    "scrolled": false
   },
   "outputs": [
    {
     "name": "stdout",
     "output_type": "stream",
     "text": [
      "                                   product_name_english  \\\n",
      "3781      mortadella sliced dia nuestra alacena 250 gr.   \n",
      "6294  mortadella with olives slices dia nuestra alac...   \n",
      "6508  chorizo iberico en lonchas dia nuestra alacena...   \n",
      "2411  chorizo y salchichon extra dia nuestra alacena...   \n",
      "4771  reserve serrano ham slices dia nuestra alacena...   \n",
      "\n",
      "                                 master_category_names product_external_id  \\\n",
      "3781  dairy / chilled / eggs_deli / snacking_deli meat              273960   \n",
      "6294  dairy / chilled / eggs_deli / snacking_deli meat              273961   \n",
      "6508  dairy / chilled / eggs_deli / snacking_deli meat              273996   \n",
      "2411  dairy / chilled / eggs_deli / snacking_deli meat              273991   \n",
      "4771  dairy / chilled / eggs_deli / snacking_deli meat              274051   \n",
      "\n",
      "     interacted_before  \n",
      "3781               Yes  \n",
      "6294               Yes  \n",
      "6508               Yes  \n",
      "2411               Yes  \n",
      "4771               Yes  \n"
     ]
    }
   ],
   "source": [
    "# Specify the customer ID and out of stock product ID\n",
    "specific_customer_id = 53079619\n",
    "out_of_stock_product_id = '274754'\n",
    "\n",
    "# Get recommendations\n",
    "recommendations = recommend_products(specific_customer_id, out_of_stock_product_id, top_n=50)\n",
    "print(recommendations)"
   ]
  },
  {
   "cell_type": "code",
   "execution_count": 226,
   "id": "dac1e812",
   "metadata": {},
   "outputs": [
    {
     "name": "stdout",
     "output_type": "stream",
     "text": [
      "                                   product_name_english  \\\n",
      "3781      mortadella sliced dia nuestra alacena 250 gr.   \n",
      "3247    extra espetec dia nuestra alacena piece 170 gr.   \n",
      "5393     chopped pork dia nuestra alacena piece 500 gr.   \n",
      "5828    maxi york ham dia nuestra alacena piece 800 gr.   \n",
      "3332  extra sweet sarta chorizo dia nuestra alacena ...   \n",
      "\n",
      "                                 master_category_names product_external_id  \\\n",
      "3781  dairy / chilled / eggs_deli / snacking_deli meat              273960   \n",
      "3247  dairy / chilled / eggs_deli / snacking_deli meat              274137   \n",
      "5393  dairy / chilled / eggs_deli / snacking_deli meat              274755   \n",
      "5828  dairy / chilled / eggs_deli / snacking_deli meat              273746   \n",
      "3332  dairy / chilled / eggs_deli / snacking_deli meat              273976   \n",
      "\n",
      "     interacted_before  \n",
      "3781                No  \n",
      "3247                No  \n",
      "5393                No  \n",
      "5828                No  \n",
      "3332                No  \n"
     ]
    }
   ],
   "source": [
    "# Specify the customer ID and out of stock product ID\n",
    "specific_customer_id = 133256310\n",
    "out_of_stock_product_id = '274754'\n",
    "\n",
    "# Get recommendations\n",
    "recommendations = recommend_products(specific_customer_id, out_of_stock_product_id, top_n=50)\n",
    "print(recommendations)"
   ]
  },
  {
   "cell_type": "code",
   "execution_count": 227,
   "id": "5e518aad",
   "metadata": {},
   "outputs": [
    {
     "name": "stdout",
     "output_type": "stream",
     "text": [
      "     product_external_id                                       product_name  \\\n",
      "1969              273749  bacon en lonchas dia nuestra alacena envase 20...   \n",
      "2892               15976                       chorizo revilla sobre 65 gr.   \n",
      "5070              273976  chorizo extra dulce sarta dia nuestra alacena ...   \n",
      "5744              273960   mortadela en lonchas dia nuestra alacena 250 gr.   \n",
      "5959              273988  chorizo extra en lonchas dia nuestra alacena 2...   \n",
      "7588              273952  mortadela de pavo finas lonchas dia nuestra al...   \n",
      "7820              137167               fiambre de york elpozo sobre 300 gr.   \n",
      "9535              273961  mortadela con aceitunas lonchas dia nuestra al...   \n",
      "\n",
      "     product_description  product_price  \\\n",
      "1969                               2.05   \n",
      "2892                               1.00   \n",
      "5070                               2.73   \n",
      "5744                               1.53   \n",
      "5959                               2.05   \n",
      "7588                               1.84   \n",
      "7820                               2.00   \n",
      "9535                               1.60   \n",
      "\n",
      "                                      product_image_url  \\\n",
      "1969  https://images.deliveryhero.io/image/global-ca...   \n",
      "2892  https://images.deliveryhero.io/image/global-ca...   \n",
      "5070  https://images.deliveryhero.io/image/global-ca...   \n",
      "5744  https://images.deliveryhero.io/image/global-ca...   \n",
      "5959  https://images.deliveryhero.io/image/global-ca...   \n",
      "7588  https://images.deliveryhero.io/image/global-ca...   \n",
      "7820  https://images.deliveryhero.io/image/global-ca...   \n",
      "9535  https://images.deliveryhero.io/image/global-ca...   \n",
      "\n",
      "                            groups_collections_sections  \\\n",
      "1969  [[1, [['Charcutería, Carne y Pescado', None, 1...   \n",
      "2892  [[1, [['Charcutería, Carne y Pescado', None, 1...   \n",
      "5070  [[1, [['Charcutería, Carne y Pescado', None, 1...   \n",
      "5744  [[1, [['Charcutería, Carne y Pescado', None, 1...   \n",
      "5959  [[1, [['Charcutería, Carne y Pescado', None, 1...   \n",
      "7588  [[1, [['Charcutería, Carne y Pescado', None, 1...   \n",
      "7820  [[1, [['Charcutería, Carne y Pescado', None, 1...   \n",
      "9535  [[1, [['Charcutería, Carne y Pescado', None, 1...   \n",
      "\n",
      "           product_master_code  \\\n",
      "1969  656626b778313924cbbbb6ad   \n",
      "2892  64b0320acf7bd1acc18ad2a5   \n",
      "5070  656747f67d628aebbc57a66f   \n",
      "5744  6566295278313924cbbd1da6   \n",
      "5959  65524ee91abc64b842b0a1d3   \n",
      "7588  656629bf78313924cbbd59af   \n",
      "7820  64ba3ce3023801b0a39a66ec   \n",
      "9535  6566295278313924cbbd1dc7   \n",
      "\n",
      "                                 master_category_names        product_brand  \\\n",
      "1969  dairy / chilled / eggs_deli / snacking_deli meat                  dia   \n",
      "2892  dairy / chilled / eggs_deli / snacking_deli meat              revilla   \n",
      "5070  dairy / chilled / eggs_deli / snacking_deli meat  dia nuestra alacena   \n",
      "5744  dairy / chilled / eggs_deli / snacking_deli meat                  dia   \n",
      "5959  dairy / chilled / eggs_deli / snacking_deli meat                  dia   \n",
      "7588  dairy / chilled / eggs_deli / snacking_deli meat                  dia   \n",
      "7820  dairy / chilled / eggs_deli / snacking_deli meat              el pozo   \n",
      "9535  dairy / chilled / eggs_deli / snacking_deli meat                  dia   \n",
      "\n",
      "      product_weight_in_grams  ...  \\\n",
      "1969                    200.0  ...   \n",
      "2892                     97.0  ...   \n",
      "5070                    265.0  ...   \n",
      "5744                    247.0  ...   \n",
      "5959                    230.0  ...   \n",
      "7588                    196.0  ...   \n",
      "7820                    350.0  ...   \n",
      "9535                    247.0  ...   \n",
      "\n",
      "                                    weighted_doc_vector  \\\n",
      "1969  [-0.02026936  0.12684877  0.0370736   0.021252...   \n",
      "2892  [-0.02027028  0.09205234  0.0261437   0.011425...   \n",
      "5070  [-0.03539529  0.17785746  0.04803032  0.028381...   \n",
      "5744  [-0.03668877  0.16536575  0.04635331  0.033149...   \n",
      "5959  [-0.01963427  0.10791899  0.03202206  0.018517...   \n",
      "7588  [-0.03742144  0.18022407  0.05141437  0.034070...   \n",
      "7820  [-0.0193647   0.07590892  0.02541406  0.012166...   \n",
      "9535  [-4.49380893e-02  2.26706878e-01  6.44745205e-...   \n",
      "\n",
      "                                             embeddings customer_id store_id  \\\n",
      "1969  [-8.88377726e-02  4.54045609e-02 -6.04707226e-...  53079619.0  51368.0   \n",
      "2892  [ 2.08577737e-02  2.42974926e-02 -2.65162494e-...  53079619.0  51368.0   \n",
      "5070  [-5.48822694e-02  3.40819657e-02 -3.62753891e-...  53079619.0  51368.0   \n",
      "5744  [-5.70842884e-02  1.05916232e-01 -8.84752423e-...  53079619.0  51368.0   \n",
      "5959  [-1.44680561e-02 -3.75853851e-03 -6.55183522e-...  53079619.0  51368.0   \n",
      "7588  [-4.85114120e-02  7.93490857e-02 -8.28310326e-...  53079619.0  51368.0   \n",
      "7820  [-6.16444945e-02  3.51910181e-02 -2.57196068e-...  53079619.0  51368.0   \n",
      "9535  [-6.74530417e-02  6.24278411e-02 -7.36161470e-...  53079619.0  51368.0   \n",
      "\n",
      "            store_name  times_clicked times_bought quantity_bought  \\\n",
      "1969  Supermercado DIA            1.0          1.0             1.0   \n",
      "2892  Supermercado DIA            6.0          4.0             4.0   \n",
      "5070  Supermercado DIA            1.0          0.0             0.0   \n",
      "5744  Supermercado DIA            3.0          0.0             0.0   \n",
      "5959  Supermercado DIA            1.0          1.0             1.0   \n",
      "7588  Supermercado DIA            1.0          0.0             0.0   \n",
      "7820  Supermercado DIA            3.0          3.0             3.0   \n",
      "9535  Supermercado DIA            5.0          4.0             4.0   \n",
      "\n",
      "     click_to_purchase_ratio  purchase_freq  \n",
      "1969                1.000000          209.0  \n",
      "2892                0.666667          209.0  \n",
      "5070                0.000000          209.0  \n",
      "5744                0.000000          209.0  \n",
      "5959                1.000000          209.0  \n",
      "7588                0.000000          209.0  \n",
      "7820                1.000000          209.0  \n",
      "9535                0.800000          209.0  \n",
      "\n",
      "[8 rows x 27 columns]\n"
     ]
    }
   ],
   "source": [
    "# Specify the customer ID and category\n",
    "specific_customer_id = 53079619\n",
    "category = 'dairy / chilled / eggs_deli / snacking_deli meat'\n",
    "\n",
    "customer_data = combined_small_df[(combined_small_df['customer_id'] == specific_customer_id) &\n",
    "                                  (combined_small_df['master_category_names'] == category)]\n",
    "\n",
    "print(customer_data)"
   ]
  },
  {
   "cell_type": "code",
   "execution_count": 228,
   "id": "c18329c1",
   "metadata": {},
   "outputs": [
    {
     "name": "stdout",
     "output_type": "stream",
     "text": [
      "      customer_id  store_id        store_name product_external_id  \\\n",
      "0        53079619     51368  Supermercado DIA              273998   \n",
      "94       53079619     51368  Supermercado DIA               50652   \n",
      "181      53079619     51368  Supermercado DIA              215665   \n",
      "197      53079619     51368  Supermercado DIA              142776   \n",
      "234      53079619     51368  Supermercado DIA               64505   \n",
      "...           ...       ...               ...                 ...   \n",
      "9537     53079619     51368  Supermercado DIA              263267   \n",
      "9726     53079619     51368  Supermercado DIA              273961   \n",
      "9741     53079619     51368  Supermercado DIA              295308   \n",
      "9826     53079619     51368  Supermercado DIA              273749   \n",
      "9866     53079619     51368  Supermercado DIA               82954   \n",
      "\n",
      "                                           product_name  times_clicked  \\\n",
      "0     detergente líquido marsella dia super paco 61 lv.              1   \n",
      "94      queso rallado mezcla 4 quesos dia bolsa 200 gr.              1   \n",
      "181   pimientos del piquillo enteros al natural dia ...              1   \n",
      "197   plátano de canarias el afortunado ud. 900 gr. ...              1   \n",
      "234                      pera conferencia bandeja 1 kg.              2   \n",
      "...                                                 ...            ...   \n",
      "9537      judías verdes planas dia vegecampo bolsa 1kg.              2   \n",
      "9726  mortadela con aceitunas lonchas dia nuestra al...              5   \n",
      "9741          caldo sabor a carne al punto caja 24 uds.              4   \n",
      "9826  bacon en lonchas dia nuestra alacena envase 20...              1   \n",
      "9866            refresco de limón dia ups botella 2 lt.              8   \n",
      "\n",
      "      times_bought  quantity_bought  click_to_purchase_ratio  purchase_freq  \n",
      "0                1                1                    1.000            209  \n",
      "94               1                1                    1.000            209  \n",
      "181              1                2                    1.000            209  \n",
      "197              1                2                    1.000            209  \n",
      "234              2                2                    1.000            209  \n",
      "...            ...              ...                      ...            ...  \n",
      "9537             1                2                    0.500            209  \n",
      "9726             4                4                    0.800            209  \n",
      "9741             1                1                    0.250            209  \n",
      "9826             1                1                    1.000            209  \n",
      "9866             3                4                    0.375            209  \n",
      "\n",
      "[159 rows x 10 columns]\n"
     ]
    }
   ],
   "source": [
    "# Filter the DataFrame for this specific customer\n",
    "specific_customer_id = 53079619\n",
    "customer_data = top_customers_df[top_customers_df['customer_id'] == specific_customer_id]\n",
    "\n",
    "# Filter for products that the customer has bought and clicked at least more than once\n",
    "filtered_customer_data = customer_data[(customer_data['times_bought'] > 0) | (customer_data['times_clicked'] > 1)]\n",
    "\n",
    "print(filtered_customer_data)"
   ]
  },
  {
   "cell_type": "markdown",
   "id": "85443b87",
   "metadata": {},
   "source": [
    "### 4.3.2 Implementation of whole dataset"
   ]
  },
  {
   "cell_type": "code",
   "execution_count": 229,
   "id": "c5182f4a",
   "metadata": {},
   "outputs": [],
   "source": [
    "filtered_df['product_external_id'] = filtered_df['product_external_id'].str.strip().str.lower()\n",
    "filtered_df['product_name'] = filtered_df['product_name'].str.strip().str.lower()\n",
    "\n",
    "df_dia['product_external_id'] = df_dia['product_external_id'].str.strip().str.lower()\n",
    "df_dia['product_name'] = df_dia['product_name'].str.strip().str.lower()"
   ]
  },
  {
   "cell_type": "code",
   "execution_count": 230,
   "id": "5af6dd5d",
   "metadata": {},
   "outputs": [],
   "source": [
    "# Load pre-trained model\n",
    "model = SentenceTransformer('all-MiniLM-L6-v2')\n",
    "\n",
    "# Convert combined texts to list and compute embeddings\n",
    "texts = filtered_df['combined_text'].tolist()\n",
    "embeddings = model.encode(texts)\n",
    "\n",
    "filtered_df['embeddings'] = list(embeddings)"
   ]
  },
  {
   "cell_type": "code",
   "execution_count": 231,
   "id": "f52bfbaa",
   "metadata": {},
   "outputs": [],
   "source": [
    "def find_similar_products(df, product_index, top_n=50):\n",
    "    target_embedding = [df.iloc[product_index]['embeddings']]\n",
    "    target_category = df.iloc[product_index]['master_category_names']\n",
    "    \n",
    "    same_category_df = df[df['master_category_names'] == target_category]\n",
    "    \n",
    "    similarity_scores = cosine_similarity(target_embedding, same_category_df['embeddings'].tolist())[0]\n",
    "    \n",
    "    top_indices = np.argsort(similarity_scores)[::-1][:top_n + 1]\n",
    "    top_indices = [idx for idx in top_indices if same_category_df.index[idx] != product_index]\n",
    "    \n",
    "    return same_category_df.iloc[top_indices][['product_name_english', 'master_category_names', 'product_external_id']]\n",
    "\n",
    "def recommend_products(customer_id, out_of_stock_product_id, top_n=50):\n",
    "    product_index = filtered_df[filtered_df['product_external_id'] == out_of_stock_product_id].index[0]\n",
    "    similar_products_df = find_similar_products(filtered_df, product_index, top_n)\n",
    "    \n",
    "    customer_product_interactions = df_dia[df_dia['customer_id'] == customer_id]\n",
    "    frequent_interactions = customer_product_interactions[\n",
    "        (customer_product_interactions['times_bought'] > 0) | \n",
    "        (customer_product_interactions['times_clicked'] > 1)\n",
    "    ]['product_external_id'].tolist()\n",
    "    \n",
    "    similar_products_df['interacted_before'] = similar_products_df['product_external_id'].apply(lambda x: 'Yes' if x in frequent_interactions else 'No')\n",
    "    recommended_products = similar_products_df[similar_products_df['interacted_before'] == 'Yes']\n",
    "    \n",
    "    if len(recommended_products) < 5:\n",
    "        additional_products = similar_products_df[similar_products_df['interacted_before'] == 'No'].head(5 - len(recommended_products))\n",
    "        recommended_products = pd.concat([recommended_products, additional_products])\n",
    "    \n",
    "    return recommended_products.head(5)"
   ]
  },
  {
   "cell_type": "code",
   "execution_count": 232,
   "id": "c0aa4330",
   "metadata": {},
   "outputs": [
    {
     "name": "stdout",
     "output_type": "stream",
     "text": [
      "Random Customer ID: 163361988\n",
      "Past Purchases and Clicks for Customer:\n",
      "               store_name                                       product_name  \\\n",
      "287218   Supermercado DIA  chicles sabor hierbabuena sin azúcar iceberg b...   \n",
      "609930   Supermercado DIA  barrita proteína stracciatella just loading 35...   \n",
      "747811   Supermercado DIA               bebida de soja dia vital envase 1 l.   \n",
      "1015156  Supermercado DIA  pudding sabor chocolate con proteínas yopro va...   \n",
      "1156590  Supermercado DIA  guantes nitrilo desechables talla m bayeco caj...   \n",
      "1206281  Supermercado DIA  batido dietético de chocolate bicentury 5 batidos   \n",
      "1315654  Supermercado DIA  tortitas de arroz bañadas yogur dia paquete 13...   \n",
      "1646261  Supermercado DIA  chicles sabor menta fuerte sin azúcar iceberg ...   \n",
      "1791591  Supermercado DIA  gel desatascador para tuberías dia super paco ...   \n",
      "1964537  Supermercado DIA    chicle grageas sabor menta trident bolsa 44 gr.   \n",
      "2477558  Supermercado DIA  papel higiénico compacto 2 capas dia la llama ...   \n",
      "2778191  Supermercado DIA                  coca cola zero azúcar pack 2x2 l.   \n",
      "2960302  Supermercado DIA      café colombia dia arom'arte caja 10 cápsulas.   \n",
      "3257516  Supermercado DIA  barritas de proteínas sabor chocolate blanco w...   \n",
      "3412502  Supermercado DIA  pudding sabor caramelo con proteínas yopro vas...   \n",
      "3420143  Supermercado DIA  mousse de cacao alta en proteínas dia láctea v...   \n",
      "3513221  Supermercado DIA  papel higiénico perfumado 4 capas dia la llama...   \n",
      "3810998  Supermercado DIA  incienso de lavanda la casa de los aromas caja...   \n",
      "4080962  Supermercado DIA  tortita chocolate blanco almendra caramelo bic...   \n",
      "4282349  Supermercado DIA  mascarilla facial de arcilla con carbón imaqe ...   \n",
      "\n",
      "         times_clicked  times_bought  \n",
      "287218              13             3  \n",
      "609930              14             5  \n",
      "747811               2             1  \n",
      "1015156              4             1  \n",
      "1156590              4             4  \n",
      "1206281              1             0  \n",
      "1315654              2             0  \n",
      "1646261              1             1  \n",
      "1791591              5             2  \n",
      "1964537              2             1  \n",
      "2477558              1             1  \n",
      "2778191             10             5  \n",
      "2960302              1             1  \n",
      "3257516              3             0  \n",
      "3412502              6             3  \n",
      "3420143             17             6  \n",
      "3513221              1             1  \n",
      "3810998              1             1  \n",
      "4080962              1             1  \n",
      "4282349              1             0  \n"
     ]
    }
   ],
   "source": [
    "# Select a random customer\n",
    "random_customer_id = df_dia['customer_id'].sample().iloc[0]\n",
    "print(f\"Random Customer ID: {random_customer_id}\")\n",
    "\n",
    "# Get past purchases and clicks for the random customer\n",
    "customer_interactions = df_dia[df_dia['customer_id'] == random_customer_id]\n",
    "print(\"Past Purchases and Clicks for Customer:\")\n",
    "print(customer_interactions[['store_name', 'product_name', 'times_clicked', 'times_bought']])"
   ]
  },
  {
   "cell_type": "code",
   "execution_count": 233,
   "id": "1128e320",
   "metadata": {},
   "outputs": [
    {
     "name": "stdout",
     "output_type": "stream",
     "text": [
      "Random Out-of-Stock Product ID: 3027\n",
      "Recommendations:\n",
      "                           product_name_english  \\\n",
      "4811                vegedia bebida de aveia 1 l   \n",
      "1314      soy drink 0% sugar vegedia brick 1 l.   \n",
      "5011                oat milk natural vegedia 1l   \n",
      "1562  soy drink with calcium vegedia brick 1 l.   \n",
      "7866             almond milk natural vegedia 1l   \n",
      "\n",
      "                              master_category_names product_external_id  \\\n",
      "4811  dairy / chilled / eggs_milk_milk alternatives              207399   \n",
      "1314  dairy / chilled / eggs_milk_milk alternatives              294323   \n",
      "5011  dairy / chilled / eggs_milk_milk alternatives              267682   \n",
      "1562  dairy / chilled / eggs_milk_milk alternatives              294324   \n",
      "7866  dairy / chilled / eggs_milk_milk alternatives              267684   \n",
      "\n",
      "     interacted_before  \n",
      "4811                No  \n",
      "1314                No  \n",
      "5011                No  \n",
      "1562                No  \n",
      "7866                No  \n"
     ]
    }
   ],
   "source": [
    "# Select a random out-of-stock product for the random customer\n",
    "random_product_id = customer_interactions['product_external_id'].sample().iloc[0]\n",
    "print(f\"Random Out-of-Stock Product ID: {random_product_id}\")\n",
    "\n",
    "# Get recommendations\n",
    "recommendations = recommend_products(random_customer_id, random_product_id, top_n=50)\n",
    "print(\"Recommendations:\")\n",
    "print(recommendations)"
   ]
  },
  {
   "cell_type": "code",
   "execution_count": null,
   "id": "eeed429f",
   "metadata": {},
   "outputs": [],
   "source": []
  },
  {
   "cell_type": "code",
   "execution_count": null,
   "id": "c07dbcdc",
   "metadata": {},
   "outputs": [],
   "source": []
  }
 ],
 "metadata": {
  "kernelspec": {
   "display_name": "Python 3 (ipykernel)",
   "language": "python",
   "name": "python3"
  },
  "language_info": {
   "codemirror_mode": {
    "name": "ipython",
    "version": 3
   },
   "file_extension": ".py",
   "mimetype": "text/x-python",
   "name": "python",
   "nbconvert_exporter": "python",
   "pygments_lexer": "ipython3",
   "version": "3.11.4"
  }
 },
 "nbformat": 4,
 "nbformat_minor": 5
}
